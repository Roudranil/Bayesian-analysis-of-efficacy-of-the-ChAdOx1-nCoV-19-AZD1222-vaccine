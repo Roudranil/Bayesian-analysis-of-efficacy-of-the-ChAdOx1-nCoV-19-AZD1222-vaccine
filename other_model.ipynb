{
  "nbformat": 4,
  "nbformat_minor": 0,
  "metadata": {
    "colab": {
      "name": "other model.ipynb",
      "provenance": [],
      "collapsed_sections": [
        "mykbpj-_0bMm",
        "vFPqiT_Effc4"
      ],
      "authorship_tag": "ABX9TyMGC6JRJePrqV/ah2Bmo9Bf",
      "include_colab_link": true
    },
    "kernelspec": {
      "name": "python3",
      "display_name": "Python 3"
    },
    "language_info": {
      "name": "python"
    }
  },
  "cells": [
    {
      "cell_type": "markdown",
      "metadata": {
        "id": "view-in-github",
        "colab_type": "text"
      },
      "source": [
        "<a href=\"https://colab.research.google.com/github/Roudranil/Bayesian-analysis-of-efficacy-of-the-ChAdOx1-nCoV-19-AZD1222-vaccine/blob/main/other_model.ipynb\" target=\"_parent\"><img src=\"https://colab.research.google.com/assets/colab-badge.svg\" alt=\"Open In Colab\"/></a>"
      ]
    },
    {
      "cell_type": "markdown",
      "metadata": {
        "id": "mykbpj-_0bMm"
      },
      "source": [
        "# Imports"
      ]
    },
    {
      "cell_type": "code",
      "metadata": {
        "id": "yUGYYDY1z6Bw"
      },
      "source": [
        "import numpy as np\n",
        "import arviz as az\n",
        "\n",
        "import matplotlib as mpl\n",
        "import matplotlib.pyplot as plt\n",
        "import matplotlib.gridspec as gridspec\n",
        "import seaborn as sns\n",
        "import graphviz\n",
        "\n",
        "import scipy\n",
        "from scipy import stats\n",
        "from scipy.stats.mstats import mquantiles\n",
        "from scipy.stats import gaussian_kde as gkde\n",
        "\n",
        "import theano.tensor as tt\n",
        "\n",
        "import pymc3 as pm"
      ],
      "execution_count": null,
      "outputs": []
    },
    {
      "cell_type": "code",
      "metadata": {
        "id": "ZMemSwJH0gQV"
      },
      "source": [
        "plt.rcParams['figure.figsize'] = 10, 6\n",
        "plt.rcParams['axes.grid'] = True\n",
        "az.rcParams['stats.hdi_prob'] = 0.95\n",
        "%config InlineBackend.figure_format = 'retina'\n",
        "az.style.use([\"arviz-darkgrid\", \"arviz-orangish\"])\n",
        "mpl.style.use('seaborn-whitegrid')\n",
        "mpl.rcParams['font.size'] = 14\n",
        "plt.rcParams[\"axes.edgecolor\"] = \"0.15\"\n",
        "plt.rcParams[\"axes.linewidth\"]  = 1.25"
      ],
      "execution_count": null,
      "outputs": []
    },
    {
      "cell_type": "code",
      "source": [
        ""
      ],
      "metadata": {
        "id": "rtCF-K0Yutvp"
      },
      "execution_count": null,
      "outputs": []
    },
    {
      "cell_type": "markdown",
      "metadata": {
        "id": "vFPqiT_Effc4"
      },
      "source": [
        "# Full bayesian model implementation"
      ]
    },
    {
      "cell_type": "code",
      "metadata": {
        "id": "m38ssjAjfjEy"
      },
      "source": [
        "covid_model = pm.Model()\n",
        "\n",
        "n_v = 17411\n",
        "n_c = 17411\n",
        "a_v = 2.428571\n",
        "a_c = 1\n",
        "b_v = 0.01917808\n",
        "b_c = 0.01917808\n",
        "\n",
        "D = 0.29\n",
        "n_cases = 170 # 8+162\n",
        "x_v = 8\n",
        "x_c = 162"
      ],
      "execution_count": null,
      "outputs": []
    },
    {
      "cell_type": "code",
      "metadata": {
        "id": "YbIOw6KKgXIF"
      },
      "source": [
        "with covid_model:\n",
        "    alpha_v = pm.Uniform(\"alpha_v\", lower=0, upper=0.7)\n",
        "    alpha_c = pm.Uniform(\"alpha_c\", lower=0, upper=0.7)\n",
        "\n",
        "    lambda_v = pm.Beta(\"lambda_v\", alpha=alpha_v, beta=1)\n",
        "    lambda_c = pm.Beta(\"lambda_c\", alpha=alpha_c, beta=1)\n",
        "\n",
        "    exp_sv = n_v*(1 - (1 - tt.exp(-lambda_v*D))/(lambda_v*D))/lambda_v\n",
        "    var_sv = (2*tt.exp(-lambda_v*D) + (4*tt.exp(-lambda_v*D)/lambda_v*D) - tt.sqr(1 + (tt.exp(-lambda_v*D) - 1)/lambda_v*D))/tt.sqr(lambda_v)\n",
        "    tau_sv = 1/(n_v*var_sv)\n",
        "\n",
        "    exp_sc = n_c*(1 - (1 - tt.exp(-lambda_c*D))/(lambda_c*D))/lambda_c\n",
        "    var_sc = (2*tt.exp(-lambda_c*D) + (4*tt.exp(-lambda_c*D)/lambda_c*D) - tt.sqr(1 + (tt.exp(-lambda_c*D) - 1)/lambda_c*D))/tt.sqr(lambda_c)\n",
        "    tau_sc = 1/(n_c*var_sc)\n",
        "\n",
        "    sv = pm.Normal(\"sv\", mu=exp_sv, tau=tau_sv, observed=2214)\n",
        "    sc = pm.Normal(\"sc\", mu=exp_sc, tau=tau_sc, observed=2222)\n",
        "\n",
        "    mean_case = sc*lambda_c + sv*lambda_v\n",
        "    cases = pm.Poisson(\"cases\", mu=mean_case, observed=n_cases)\n",
        "\n",
        "    theta_v = sv*lambda_v/mean_case\n",
        "    xv = pm.Binomial(\"xv\", n=cases, p=theta_v, observed=x_v)\n",
        "\n",
        "    ve = pm.Deterministic(\"ve\", (1 - (lambda_v/lambda_c)))"
      ],
      "execution_count": null,
      "outputs": []
    },
    {
      "cell_type": "code",
      "metadata": {
        "colab": {
          "base_uri": "https://localhost:8080/",
          "height": 90
        },
        "id": "QN7vMYxM0UaU",
        "outputId": "ddd1c5a2-1fd3-47e9-b174-5242d3f61739"
      },
      "source": [
        "with covid_model:\n",
        "    trace2 = pm.sample(draws=5000, tune=5000, cores=4, return_inferencedata=False, step=pm.NUTS())"
      ],
      "execution_count": null,
      "outputs": [
        {
          "output_type": "stream",
          "name": "stderr",
          "text": [
            "Multiprocess sampling (4 chains in 4 jobs)\n",
            "NUTS: [lambda_c, lambda_v, alpha_c, alpha_v]\n"
          ]
        },
        {
          "output_type": "display_data",
          "data": {
            "text/html": [
              "\n",
              "    <div>\n",
              "        <style>\n",
              "            /* Turns off some styling */\n",
              "            progress {\n",
              "                /* gets rid of default border in Firefox and Opera. */\n",
              "                border: none;\n",
              "                /* Needs to be in here for Safari polyfill so background images work as expected. */\n",
              "                background-size: auto;\n",
              "            }\n",
              "            .progress-bar-interrupted, .progress-bar-interrupted::-webkit-progress-bar {\n",
              "                background: #F44336;\n",
              "            }\n",
              "        </style>\n",
              "      <progress value='40000' class='' max='40000' style='width:300px; height:20px; vertical-align: middle;'></progress>\n",
              "      100.00% [40000/40000 00:50<00:00 Sampling 4 chains, 0 divergences]\n",
              "    </div>\n",
              "    "
            ],
            "text/plain": [
              "<IPython.core.display.HTML object>"
            ]
          },
          "metadata": {}
        },
        {
          "output_type": "stream",
          "name": "stderr",
          "text": [
            "Sampling 4 chains for 5_000 tune and 5_000 draw iterations (20_000 + 20_000 draws total) took 51 seconds.\n"
          ]
        }
      ]
    },
    {
      "cell_type": "code",
      "metadata": {
        "colab": {
          "base_uri": "https://localhost:8080/",
          "height": 204
        },
        "id": "C-6GMKJHb62a",
        "outputId": "a9942198-7d98-43f0-cc43-69bf288ba8a8"
      },
      "source": [
        "with covid_model:\n",
        "    display(az.summary(trace2))"
      ],
      "execution_count": null,
      "outputs": [
        {
          "output_type": "display_data",
          "data": {
            "text/html": [
              "<div>\n",
              "<style scoped>\n",
              "    .dataframe tbody tr th:only-of-type {\n",
              "        vertical-align: middle;\n",
              "    }\n",
              "\n",
              "    .dataframe tbody tr th {\n",
              "        vertical-align: top;\n",
              "    }\n",
              "\n",
              "    .dataframe thead th {\n",
              "        text-align: right;\n",
              "    }\n",
              "</style>\n",
              "<table border=\"1\" class=\"dataframe\">\n",
              "  <thead>\n",
              "    <tr style=\"text-align: right;\">\n",
              "      <th></th>\n",
              "      <th>mean</th>\n",
              "      <th>sd</th>\n",
              "      <th>hdi_2.5%</th>\n",
              "      <th>hdi_97.5%</th>\n",
              "      <th>mcse_mean</th>\n",
              "      <th>mcse_sd</th>\n",
              "      <th>ess_bulk</th>\n",
              "      <th>ess_tail</th>\n",
              "      <th>r_hat</th>\n",
              "    </tr>\n",
              "  </thead>\n",
              "  <tbody>\n",
              "    <tr>\n",
              "      <th>alpha_v</th>\n",
              "      <td>0.301</td>\n",
              "      <td>0.171</td>\n",
              "      <td>0.018</td>\n",
              "      <td>0.626</td>\n",
              "      <td>0.001</td>\n",
              "      <td>0.001</td>\n",
              "      <td>19824.0</td>\n",
              "      <td>10338.0</td>\n",
              "      <td>1.0</td>\n",
              "    </tr>\n",
              "    <tr>\n",
              "      <th>alpha_c</th>\n",
              "      <td>0.389</td>\n",
              "      <td>0.179</td>\n",
              "      <td>0.097</td>\n",
              "      <td>0.700</td>\n",
              "      <td>0.001</td>\n",
              "      <td>0.001</td>\n",
              "      <td>24065.0</td>\n",
              "      <td>13827.0</td>\n",
              "      <td>1.0</td>\n",
              "    </tr>\n",
              "    <tr>\n",
              "      <th>lambda_v</th>\n",
              "      <td>0.004</td>\n",
              "      <td>0.001</td>\n",
              "      <td>0.002</td>\n",
              "      <td>0.007</td>\n",
              "      <td>0.000</td>\n",
              "      <td>0.000</td>\n",
              "      <td>29130.0</td>\n",
              "      <td>14156.0</td>\n",
              "      <td>1.0</td>\n",
              "    </tr>\n",
              "    <tr>\n",
              "      <th>lambda_c</th>\n",
              "      <td>0.074</td>\n",
              "      <td>0.006</td>\n",
              "      <td>0.062</td>\n",
              "      <td>0.085</td>\n",
              "      <td>0.000</td>\n",
              "      <td>0.000</td>\n",
              "      <td>24555.0</td>\n",
              "      <td>15004.0</td>\n",
              "      <td>1.0</td>\n",
              "    </tr>\n",
              "    <tr>\n",
              "      <th>ve</th>\n",
              "      <td>0.939</td>\n",
              "      <td>0.020</td>\n",
              "      <td>0.900</td>\n",
              "      <td>0.976</td>\n",
              "      <td>0.000</td>\n",
              "      <td>0.000</td>\n",
              "      <td>29319.0</td>\n",
              "      <td>14171.0</td>\n",
              "      <td>1.0</td>\n",
              "    </tr>\n",
              "  </tbody>\n",
              "</table>\n",
              "</div>"
            ],
            "text/plain": [
              "           mean     sd  hdi_2.5%  hdi_97.5%  ...  mcse_sd  ess_bulk  ess_tail  r_hat\n",
              "alpha_v   0.301  0.171     0.018      0.626  ...    0.001   19824.0   10338.0    1.0\n",
              "alpha_c   0.389  0.179     0.097      0.700  ...    0.001   24065.0   13827.0    1.0\n",
              "lambda_v  0.004  0.001     0.002      0.007  ...    0.000   29130.0   14156.0    1.0\n",
              "lambda_c  0.074  0.006     0.062      0.085  ...    0.000   24555.0   15004.0    1.0\n",
              "ve        0.939  0.020     0.900      0.976  ...    0.000   29319.0   14171.0    1.0\n",
              "\n",
              "[5 rows x 9 columns]"
            ]
          },
          "metadata": {}
        }
      ]
    },
    {
      "cell_type": "code",
      "metadata": {
        "colab": {
          "base_uri": "https://localhost:8080/"
        },
        "id": "0otk0jmtASDK",
        "outputId": "ea4f7639-3784-447d-a84a-f287a3dc6766"
      },
      "source": [
        "ve_samp = trace2['ve']\n",
        "print(f\"VE: {100*ve_samp.mean():.2f} +- {100*ve_samp.std():.2f}\")\n",
        "print(f\"95% CI: {mquantiles(100*ve_samp, prob=[0.021, 0.979])}\")"
      ],
      "execution_count": null,
      "outputs": [
        {
          "output_type": "stream",
          "name": "stdout",
          "text": [
            "VE: 93.95 +- 2.00\n",
            "95% CI: [89.19969788 97.29091607]\n"
          ]
        }
      ]
    },
    {
      "cell_type": "code",
      "metadata": {
        "colab": {
          "base_uri": "https://localhost:8080/",
          "height": 142
        },
        "id": "ttkJr2PHbWUK",
        "outputId": "881caa83-e2f2-4c03-b9b9-b27b80db8849"
      },
      "source": [
        "with covid_model:\n",
        "    display(az.summary(trace1))"
      ],
      "execution_count": null,
      "outputs": [
        {
          "output_type": "display_data",
          "data": {
            "text/html": [
              "<div>\n",
              "<style scoped>\n",
              "    .dataframe tbody tr th:only-of-type {\n",
              "        vertical-align: middle;\n",
              "    }\n",
              "\n",
              "    .dataframe tbody tr th {\n",
              "        vertical-align: top;\n",
              "    }\n",
              "\n",
              "    .dataframe thead th {\n",
              "        text-align: right;\n",
              "    }\n",
              "</style>\n",
              "<table border=\"1\" class=\"dataframe\">\n",
              "  <thead>\n",
              "    <tr style=\"text-align: right;\">\n",
              "      <th></th>\n",
              "      <th>mean</th>\n",
              "      <th>sd</th>\n",
              "      <th>hdi_2.5%</th>\n",
              "      <th>hdi_97.5%</th>\n",
              "      <th>mcse_mean</th>\n",
              "      <th>mcse_sd</th>\n",
              "      <th>ess_bulk</th>\n",
              "      <th>ess_tail</th>\n",
              "      <th>r_hat</th>\n",
              "    </tr>\n",
              "  </thead>\n",
              "  <tbody>\n",
              "    <tr>\n",
              "      <th>lambda_v</th>\n",
              "      <td>0.004</td>\n",
              "      <td>0.001</td>\n",
              "      <td>0.002</td>\n",
              "      <td>0.007</td>\n",
              "      <td>0.0</td>\n",
              "      <td>0.0</td>\n",
              "      <td>17344.0</td>\n",
              "      <td>12818.0</td>\n",
              "      <td>1.0</td>\n",
              "    </tr>\n",
              "    <tr>\n",
              "      <th>lambda_c</th>\n",
              "      <td>0.074</td>\n",
              "      <td>0.006</td>\n",
              "      <td>0.063</td>\n",
              "      <td>0.085</td>\n",
              "      <td>0.0</td>\n",
              "      <td>0.0</td>\n",
              "      <td>16622.0</td>\n",
              "      <td>14167.0</td>\n",
              "      <td>1.0</td>\n",
              "    </tr>\n",
              "    <tr>\n",
              "      <th>ve</th>\n",
              "      <td>0.941</td>\n",
              "      <td>0.020</td>\n",
              "      <td>0.901</td>\n",
              "      <td>0.975</td>\n",
              "      <td>0.0</td>\n",
              "      <td>0.0</td>\n",
              "      <td>17419.0</td>\n",
              "      <td>12598.0</td>\n",
              "      <td>1.0</td>\n",
              "    </tr>\n",
              "  </tbody>\n",
              "</table>\n",
              "</div>"
            ],
            "text/plain": [
              "           mean     sd  hdi_2.5%  hdi_97.5%  ...  mcse_sd  ess_bulk  ess_tail  r_hat\n",
              "lambda_v  0.004  0.001     0.002      0.007  ...      0.0   17344.0   12818.0    1.0\n",
              "lambda_c  0.074  0.006     0.063      0.085  ...      0.0   16622.0   14167.0    1.0\n",
              "ve        0.941  0.020     0.901      0.975  ...      0.0   17419.0   12598.0    1.0\n",
              "\n",
              "[3 rows x 9 columns]"
            ]
          },
          "metadata": {}
        }
      ]
    },
    {
      "cell_type": "code",
      "metadata": {
        "colab": {
          "base_uri": "https://localhost:8080/",
          "height": 142
        },
        "id": "_4_30DQg0qnu",
        "outputId": "afcf9a22-a5f8-4f06-da01-dd61585bf871"
      },
      "source": [
        "with covid_model:\n",
        "    display(az.summary(trace))"
      ],
      "execution_count": null,
      "outputs": [
        {
          "output_type": "display_data",
          "data": {
            "text/html": [
              "<div>\n",
              "<style scoped>\n",
              "    .dataframe tbody tr th:only-of-type {\n",
              "        vertical-align: middle;\n",
              "    }\n",
              "\n",
              "    .dataframe tbody tr th {\n",
              "        vertical-align: top;\n",
              "    }\n",
              "\n",
              "    .dataframe thead th {\n",
              "        text-align: right;\n",
              "    }\n",
              "</style>\n",
              "<table border=\"1\" class=\"dataframe\">\n",
              "  <thead>\n",
              "    <tr style=\"text-align: right;\">\n",
              "      <th></th>\n",
              "      <th>mean</th>\n",
              "      <th>sd</th>\n",
              "      <th>hdi_2.5%</th>\n",
              "      <th>hdi_97.5%</th>\n",
              "      <th>mcse_mean</th>\n",
              "      <th>mcse_sd</th>\n",
              "      <th>ess_bulk</th>\n",
              "      <th>ess_tail</th>\n",
              "      <th>r_hat</th>\n",
              "    </tr>\n",
              "  </thead>\n",
              "  <tbody>\n",
              "    <tr>\n",
              "      <th>lambda_v</th>\n",
              "      <td>0.002</td>\n",
              "      <td>0.001</td>\n",
              "      <td>0.001</td>\n",
              "      <td>0.004</td>\n",
              "      <td>0.0</td>\n",
              "      <td>0.0</td>\n",
              "      <td>17413.0</td>\n",
              "      <td>12020.0</td>\n",
              "      <td>1.0</td>\n",
              "    </tr>\n",
              "    <tr>\n",
              "      <th>lambda_c</th>\n",
              "      <td>0.037</td>\n",
              "      <td>0.003</td>\n",
              "      <td>0.031</td>\n",
              "      <td>0.043</td>\n",
              "      <td>0.0</td>\n",
              "      <td>0.0</td>\n",
              "      <td>16046.0</td>\n",
              "      <td>12794.0</td>\n",
              "      <td>1.0</td>\n",
              "    </tr>\n",
              "    <tr>\n",
              "      <th>ve</th>\n",
              "      <td>0.937</td>\n",
              "      <td>0.020</td>\n",
              "      <td>0.897</td>\n",
              "      <td>0.975</td>\n",
              "      <td>0.0</td>\n",
              "      <td>0.0</td>\n",
              "      <td>17170.0</td>\n",
              "      <td>12283.0</td>\n",
              "      <td>1.0</td>\n",
              "    </tr>\n",
              "  </tbody>\n",
              "</table>\n",
              "</div>"
            ],
            "text/plain": [
              "           mean     sd  hdi_2.5%  hdi_97.5%  ...  mcse_sd  ess_bulk  ess_tail  r_hat\n",
              "lambda_v  0.002  0.001     0.001      0.004  ...      0.0   17413.0   12020.0    1.0\n",
              "lambda_c  0.037  0.003     0.031      0.043  ...      0.0   16046.0   12794.0    1.0\n",
              "ve        0.937  0.020     0.897      0.975  ...      0.0   17170.0   12283.0    1.0\n",
              "\n",
              "[3 rows x 9 columns]"
            ]
          },
          "metadata": {}
        }
      ]
    },
    {
      "cell_type": "code",
      "metadata": {
        "id": "B9xcZeVP1sHC",
        "colab": {
          "base_uri": "https://localhost:8080/"
        },
        "outputId": "66096c21-19b4-43f4-eb4a-34896fb0caef"
      },
      "source": [
        "ve_samples_0 = trace['ve']\n",
        "print(f\"VE: {ve_samples_0.mean():.4f} +- {ve_samples_0.std():.4f}\")\n",
        "print(f\"95% CI: {mquantiles(ve_samples_0, prob=[0.025, 0.975])}\")"
      ],
      "execution_count": null,
      "outputs": [
        {
          "output_type": "stream",
          "name": "stdout",
          "text": [
            "VE: 0.9372 +- 0.0205\n",
            "95% CI: [0.89096621 0.97017505]\n"
          ]
        }
      ]
    },
    {
      "cell_type": "code",
      "metadata": {
        "colab": {
          "base_uri": "https://localhost:8080/"
        },
        "id": "HBm0AL01ZryD",
        "outputId": "6b8db9b2-1842-453b-a605-eabac9987387"
      },
      "source": [
        "lv = trace['lambda_v']\n",
        "print(lv.mean())\n",
        "print(f\"{lv.var():.19f}\")"
      ],
      "execution_count": null,
      "outputs": [
        {
          "output_type": "stream",
          "name": "stdout",
          "text": [
            "0.0023072252453880415\n",
            "0.0000005197573479206\n"
          ]
        }
      ]
    },
    {
      "cell_type": "code",
      "metadata": {
        "colab": {
          "base_uri": "https://localhost:8080/",
          "height": 36
        },
        "id": "rfxOG2AfaIOW",
        "outputId": "b4ad0b44-c2ca-46e9-8588-04cd9d28ca9f"
      },
      "source": [
        "f\"{0.7/(2214**2):.19f}\""
      ],
      "execution_count": null,
      "outputs": [
        {
          "output_type": "execute_result",
          "data": {
            "application/vnd.google.colaboratory.intrinsic+json": {
              "type": "string"
            },
            "text/plain": [
              "'0.0000001428048005262'"
            ]
          },
          "metadata": {},
          "execution_count": 26
        }
      ]
    },
    {
      "cell_type": "code",
      "metadata": {
        "id": "TKVUh25EaVuo"
      },
      "source": [
        "new_model = pm.Model()\n",
        "\n",
        "with new_model:\n",
        "    p_v = pm.Beta(\"p_v\", alpha=0.010101, beta=1)\n",
        "    p_c = pm.Beta(\"p_c\", alpha=0.010101, beta=1)\n",
        "\n",
        "    lambda_v = p_v*n_v\n",
        "    lambda_c = p_c*n_c\n",
        "    # mean_case = (p_v*n_v + p_c*n_c)\n",
        "    mean_case = lambda_c + lambda_v\n",
        "    case = pm.Poisson(\"cases\", mu=mean_case, observed=131)\n",
        "\n",
        "    theta_v = lambda_v/mean_case\n",
        "    xv = pm.Binomial(\"xv\", n=cases, p=theta_v, observed=30)\n",
        "\n",
        "    ve1 = pm.Deterministic(\"ve1\", 1 - (p_v/p_c))\n",
        "    ve2 = pm.Deterministic(\"ve2\", 1 - (lambda_v/lambda_c))"
      ],
      "execution_count": null,
      "outputs": []
    },
    {
      "cell_type": "code",
      "metadata": {
        "colab": {
          "base_uri": "https://localhost:8080/",
          "height": 90
        },
        "id": "zRXIuxwLcadE",
        "outputId": "288a8d9c-7a2e-400c-be4f-71a222369659"
      },
      "source": [
        "with new_model:\n",
        "    trace_new_0 = pm.sample(draws=5000, tune=5000, cores=4, return_inferencedata=False, step=pm.NUTS())"
      ],
      "execution_count": null,
      "outputs": [
        {
          "output_type": "stream",
          "name": "stderr",
          "text": [
            "Multiprocess sampling (4 chains in 4 jobs)\n",
            "NUTS: [p_c, p_v]\n"
          ]
        },
        {
          "output_type": "display_data",
          "data": {
            "text/html": [
              "\n",
              "    <div>\n",
              "        <style>\n",
              "            /* Turns off some styling */\n",
              "            progress {\n",
              "                /* gets rid of default border in Firefox and Opera. */\n",
              "                border: none;\n",
              "                /* Needs to be in here for Safari polyfill so background images work as expected. */\n",
              "                background-size: auto;\n",
              "            }\n",
              "            .progress-bar-interrupted, .progress-bar-interrupted::-webkit-progress-bar {\n",
              "                background: #F44336;\n",
              "            }\n",
              "        </style>\n",
              "      <progress value='40000' class='' max='40000' style='width:300px; height:20px; vertical-align: middle;'></progress>\n",
              "      100.00% [40000/40000 00:34<00:00 Sampling 4 chains, 0 divergences]\n",
              "    </div>\n",
              "    "
            ],
            "text/plain": [
              "<IPython.core.display.HTML object>"
            ]
          },
          "metadata": {}
        },
        {
          "output_type": "stream",
          "name": "stderr",
          "text": [
            "Sampling 4 chains for 5_000 tune and 5_000 draw iterations (20_000 + 20_000 draws total) took 35 seconds.\n"
          ]
        }
      ]
    },
    {
      "cell_type": "code",
      "metadata": {
        "colab": {
          "base_uri": "https://localhost:8080/",
          "height": 173
        },
        "id": "8LK_OlnIeii3",
        "outputId": "aa3495ec-1719-42ab-e55b-ecdaafeffa68"
      },
      "source": [
        "with new_model:\n",
        "    display(az.summary(trace_new_0))"
      ],
      "execution_count": null,
      "outputs": [
        {
          "output_type": "display_data",
          "data": {
            "text/html": [
              "<div>\n",
              "<style scoped>\n",
              "    .dataframe tbody tr th:only-of-type {\n",
              "        vertical-align: middle;\n",
              "    }\n",
              "\n",
              "    .dataframe tbody tr th {\n",
              "        vertical-align: top;\n",
              "    }\n",
              "\n",
              "    .dataframe thead th {\n",
              "        text-align: right;\n",
              "    }\n",
              "</style>\n",
              "<table border=\"1\" class=\"dataframe\">\n",
              "  <thead>\n",
              "    <tr style=\"text-align: right;\">\n",
              "      <th></th>\n",
              "      <th>mean</th>\n",
              "      <th>sd</th>\n",
              "      <th>hdi_2.5%</th>\n",
              "      <th>hdi_97.5%</th>\n",
              "      <th>mcse_mean</th>\n",
              "      <th>mcse_sd</th>\n",
              "      <th>ess_bulk</th>\n",
              "      <th>ess_tail</th>\n",
              "      <th>r_hat</th>\n",
              "    </tr>\n",
              "  </thead>\n",
              "  <tbody>\n",
              "    <tr>\n",
              "      <th>p_v</th>\n",
              "      <td>0.001</td>\n",
              "      <td>0.000</td>\n",
              "      <td>0.001</td>\n",
              "      <td>0.002</td>\n",
              "      <td>0.0</td>\n",
              "      <td>0.0</td>\n",
              "      <td>15646.0</td>\n",
              "      <td>13256.0</td>\n",
              "      <td>1.0</td>\n",
              "    </tr>\n",
              "    <tr>\n",
              "      <th>p_c</th>\n",
              "      <td>0.006</td>\n",
              "      <td>0.001</td>\n",
              "      <td>0.005</td>\n",
              "      <td>0.007</td>\n",
              "      <td>0.0</td>\n",
              "      <td>0.0</td>\n",
              "      <td>15560.0</td>\n",
              "      <td>14307.0</td>\n",
              "      <td>1.0</td>\n",
              "    </tr>\n",
              "    <tr>\n",
              "      <th>ve1</th>\n",
              "      <td>0.784</td>\n",
              "      <td>0.044</td>\n",
              "      <td>0.699</td>\n",
              "      <td>0.869</td>\n",
              "      <td>0.0</td>\n",
              "      <td>0.0</td>\n",
              "      <td>15192.0</td>\n",
              "      <td>13746.0</td>\n",
              "      <td>1.0</td>\n",
              "    </tr>\n",
              "    <tr>\n",
              "      <th>ve2</th>\n",
              "      <td>0.784</td>\n",
              "      <td>0.044</td>\n",
              "      <td>0.699</td>\n",
              "      <td>0.869</td>\n",
              "      <td>0.0</td>\n",
              "      <td>0.0</td>\n",
              "      <td>15192.0</td>\n",
              "      <td>13746.0</td>\n",
              "      <td>1.0</td>\n",
              "    </tr>\n",
              "  </tbody>\n",
              "</table>\n",
              "</div>"
            ],
            "text/plain": [
              "      mean     sd  hdi_2.5%  hdi_97.5%  ...  mcse_sd  ess_bulk  ess_tail  r_hat\n",
              "p_v  0.001  0.000     0.001      0.002  ...      0.0   15646.0   13256.0    1.0\n",
              "p_c  0.006  0.001     0.005      0.007  ...      0.0   15560.0   14307.0    1.0\n",
              "ve1  0.784  0.044     0.699      0.869  ...      0.0   15192.0   13746.0    1.0\n",
              "ve2  0.784  0.044     0.699      0.869  ...      0.0   15192.0   13746.0    1.0\n",
              "\n",
              "[4 rows x 9 columns]"
            ]
          },
          "metadata": {}
        }
      ]
    },
    {
      "cell_type": "markdown",
      "metadata": {
        "id": "d-n2HpX46yJb"
      },
      "source": [
        "# full bayesian covishield"
      ]
    },
    {
      "cell_type": "markdown",
      "metadata": {
        "id": "jgoh_UnkiISF"
      },
      "source": [
        "covishield data down here"
      ]
    },
    {
      "cell_type": "code",
      "metadata": {
        "id": "Zfs-GvRDh91_"
      },
      "source": [
        "def model(n_v, n_c, s_v, s_c, D, n_cases, x_v, x_c, prob=0.95, sample_kwargs=None): \n",
        "    l = 5/3\n",
        "    u = 250000\n",
        "    covid_model = pm.Model()\n",
        "\n",
        "    with covid_model:\n",
        "        beta_v = pm.Uniform(\"beta_v\", lower=l, upper=u)\n",
        "        beta_c = pm.Uniform(\"beta_c\", lower=l, upper=u)\n",
        "\n",
        "        lambda_v = pm.Gamma(\"lambda_v\", alpha=1, beta=beta_v)\n",
        "        lambda_c = pm.Gamma(\"lambda_c\", alpha=1, beta=beta_c)\n",
        "\n",
        "        exp_sv = n_v*(1 - (1 - tt.exp(-lambda_v*D))/(lambda_v*D))/lambda_v\n",
        "        var_sv = (2*tt.exp(-lambda_v*D) + (4*tt.exp(-lambda_v*D)/lambda_v*D) - tt.sqr(1 + (tt.exp(-lambda_v*D) - 1)/lambda_v*D))/tt.sqr(lambda_v)\n",
        "        tau_sv = 1/(n_v*var_sv)\n",
        "\n",
        "        exp_sc = n_c*(1 - (1 - tt.exp(-lambda_c*D))/(lambda_c*D))/lambda_c\n",
        "        var_sc = (2*tt.exp(-lambda_c*D) + (4*tt.exp(-lambda_c*D)/lambda_c*D) - tt.sqr(1 + (tt.exp(-lambda_c*D) - 1)/lambda_c*D))/tt.sqr(lambda_c)\n",
        "        tau_sc = 1/(n_c*var_sc)\n",
        "\n",
        "        sv = pm.Normal(\"sv\", mu=exp_sv, tau=tau_sv, observed=s_v)\n",
        "        sc = pm.Normal(\"sc\", mu=exp_sc, tau=tau_sc, observed=s_c)\n",
        "\n",
        "        mean_case = sc*lambda_c + sv*lambda_v\n",
        "        cases = pm.Poisson(\"cases\", mu=mean_case, observed=n_cases)\n",
        "\n",
        "        theta_v = sv*lambda_v/mean_case\n",
        "        xv = pm.Binomial(\"xv\", n=cases, p=theta_v, observed=x_v)\n",
        "        \n",
        "        ve = pm.Deterministic(\"ve\", (1 - (lambda_v/lambda_c)))\n",
        "\n",
        "        trace_covishield = pm.sample(draws=6000, tune=4000, cores=4, return_inferencedata=False, step=pm.NUTS())\n",
        "        display(az.summary(trace_covishield, hdi_prob=prob))\n",
        "\n",
        "        ve_samp = trace_covishield['ve']\n",
        "        print(f\"VE: {100*ve_samp.mean():.2f} +- {100*ve_samp.std():.2f}\")\n",
        "        print(f\"95% CI: {mquantiles(100*ve_samp, prob=[(1-prob)/2, (1+prob)/2])}\")"
      ],
      "execution_count": null,
      "outputs": []
    },
    {
      "cell_type": "code",
      "metadata": {
        "colab": {
          "base_uri": "https://localhost:8080/",
          "height": 313
        },
        "id": "CSkYKPnkDIDp",
        "outputId": "268bf431-5133-42d1-fe51-bf98870ac155"
      },
      "source": [
        "params= {\"n_v\": 5807,\n",
        "        \"n_c\": 5829,\n",
        "        \"s_v\": 248299,\n",
        "        \"s_c\": 247228,\n",
        "        \"D\": 0.11829,\n",
        "        \"n_cases\": 131,\n",
        "        \"x_v\": 30,\n",
        "        \"x_c\": 101,\n",
        "        \"prob\": 0.958}\n",
        "        \n",
        "model(**params)"
      ],
      "execution_count": null,
      "outputs": [
        {
          "output_type": "stream",
          "name": "stderr",
          "text": [
            "Multiprocess sampling (4 chains in 4 jobs)\n",
            "NUTS: [lambda_c, lambda_v, beta_c, beta_v]\n"
          ]
        },
        {
          "output_type": "display_data",
          "data": {
            "text/html": [
              "\n",
              "    <div>\n",
              "        <style>\n",
              "            /* Turns off some styling */\n",
              "            progress {\n",
              "                /* gets rid of default border in Firefox and Opera. */\n",
              "                border: none;\n",
              "                /* Needs to be in here for Safari polyfill so background images work as expected. */\n",
              "                background-size: auto;\n",
              "            }\n",
              "            .progress-bar-interrupted, .progress-bar-interrupted::-webkit-progress-bar {\n",
              "                background: #F44336;\n",
              "            }\n",
              "        </style>\n",
              "      <progress value='40000' class='' max='40000' style='width:300px; height:20px; vertical-align: middle;'></progress>\n",
              "      100.00% [40000/40000 00:46<00:00 Sampling 4 chains, 0 divergences]\n",
              "    </div>\n",
              "    "
            ],
            "text/plain": [
              "<IPython.core.display.HTML object>"
            ]
          },
          "metadata": {}
        },
        {
          "output_type": "stream",
          "name": "stderr",
          "text": [
            "Sampling 4 chains for 4_000 tune and 6_000 draw iterations (16_000 + 24_000 draws total) took 47 seconds.\n"
          ]
        },
        {
          "output_type": "display_data",
          "data": {
            "text/html": [
              "<div>\n",
              "<style scoped>\n",
              "    .dataframe tbody tr th:only-of-type {\n",
              "        vertical-align: middle;\n",
              "    }\n",
              "\n",
              "    .dataframe tbody tr th {\n",
              "        vertical-align: top;\n",
              "    }\n",
              "\n",
              "    .dataframe thead th {\n",
              "        text-align: right;\n",
              "    }\n",
              "</style>\n",
              "<table border=\"1\" class=\"dataframe\">\n",
              "  <thead>\n",
              "    <tr style=\"text-align: right;\">\n",
              "      <th></th>\n",
              "      <th>mean</th>\n",
              "      <th>sd</th>\n",
              "      <th>hdi_2.1%</th>\n",
              "      <th>hdi_97.9%</th>\n",
              "      <th>mcse_mean</th>\n",
              "      <th>mcse_sd</th>\n",
              "      <th>ess_bulk</th>\n",
              "      <th>ess_tail</th>\n",
              "      <th>r_hat</th>\n",
              "    </tr>\n",
              "  </thead>\n",
              "  <tbody>\n",
              "    <tr>\n",
              "      <th>beta_v</th>\n",
              "      <td>16851.715</td>\n",
              "      <td>12434.806</td>\n",
              "      <td>350.627</td>\n",
              "      <td>43332.951</td>\n",
              "      <td>83.278</td>\n",
              "      <td>63.734</td>\n",
              "      <td>23050.0</td>\n",
              "      <td>16751.0</td>\n",
              "      <td>1.0</td>\n",
              "    </tr>\n",
              "    <tr>\n",
              "      <th>beta_c</th>\n",
              "      <td>4968.434</td>\n",
              "      <td>3566.309</td>\n",
              "      <td>56.133</td>\n",
              "      <td>12395.977</td>\n",
              "      <td>23.163</td>\n",
              "      <td>18.004</td>\n",
              "      <td>22510.0</td>\n",
              "      <td>14210.0</td>\n",
              "      <td>1.0</td>\n",
              "    </tr>\n",
              "    <tr>\n",
              "      <th>lambda_v</th>\n",
              "      <td>0.000</td>\n",
              "      <td>0.000</td>\n",
              "      <td>0.000</td>\n",
              "      <td>0.000</td>\n",
              "      <td>0.000</td>\n",
              "      <td>0.000</td>\n",
              "      <td>22262.0</td>\n",
              "      <td>16885.0</td>\n",
              "      <td>1.0</td>\n",
              "    </tr>\n",
              "    <tr>\n",
              "      <th>lambda_c</th>\n",
              "      <td>0.000</td>\n",
              "      <td>0.000</td>\n",
              "      <td>0.000</td>\n",
              "      <td>0.000</td>\n",
              "      <td>0.000</td>\n",
              "      <td>0.000</td>\n",
              "      <td>24622.0</td>\n",
              "      <td>17528.0</td>\n",
              "      <td>1.0</td>\n",
              "    </tr>\n",
              "    <tr>\n",
              "      <th>ve</th>\n",
              "      <td>0.697</td>\n",
              "      <td>0.063</td>\n",
              "      <td>0.568</td>\n",
              "      <td>0.819</td>\n",
              "      <td>0.000</td>\n",
              "      <td>0.000</td>\n",
              "      <td>22290.0</td>\n",
              "      <td>17060.0</td>\n",
              "      <td>1.0</td>\n",
              "    </tr>\n",
              "  </tbody>\n",
              "</table>\n",
              "</div>"
            ],
            "text/plain": [
              "               mean         sd  hdi_2.1%  ...  ess_bulk  ess_tail  r_hat\n",
              "beta_v    16851.715  12434.806   350.627  ...   23050.0   16751.0    1.0\n",
              "beta_c     4968.434   3566.309    56.133  ...   22510.0   14210.0    1.0\n",
              "lambda_v      0.000      0.000     0.000  ...   22262.0   16885.0    1.0\n",
              "lambda_c      0.000      0.000     0.000  ...   24622.0   17528.0    1.0\n",
              "ve            0.697      0.063     0.568  ...   22290.0   17060.0    1.0\n",
              "\n",
              "[5 rows x 9 columns]"
            ]
          },
          "metadata": {}
        },
        {
          "output_type": "stream",
          "name": "stdout",
          "text": [
            "VE: 69.75 +- 6.34\n",
            "95% CI: [55.32052429 80.9028787 ]\n"
          ]
        }
      ]
    },
    {
      "cell_type": "code",
      "metadata": {
        "colab": {
          "base_uri": "https://localhost:8080/",
          "height": 313
        },
        "id": "AeiVBbJ1EYcm",
        "outputId": "09dffb8a-2a18-4ec6-f437-8b0be54678ac"
      },
      "source": [
        "cov002_ovr = {\"n_v\": 3744,\n",
        "            \"n_c\": 3804,\n",
        "            \"s_v\": 170369,\n",
        "            \"s_c\": 170448,\n",
        "            \"D\": 0.12542,\n",
        "            \"n_cases\": 86,\n",
        "            \"x_v\": 18,\n",
        "            \"x_c\": 68,\n",
        "            \"prob\": 0.95}\n",
        "\n",
        "model(**cov002_ovr)"
      ],
      "execution_count": null,
      "outputs": [
        {
          "output_type": "stream",
          "name": "stderr",
          "text": [
            "Multiprocess sampling (4 chains in 4 jobs)\n",
            "NUTS: [lambda_c, lambda_v, beta_c, beta_v]\n"
          ]
        },
        {
          "output_type": "display_data",
          "data": {
            "text/html": [
              "\n",
              "    <div>\n",
              "        <style>\n",
              "            /* Turns off some styling */\n",
              "            progress {\n",
              "                /* gets rid of default border in Firefox and Opera. */\n",
              "                border: none;\n",
              "                /* Needs to be in here for Safari polyfill so background images work as expected. */\n",
              "                background-size: auto;\n",
              "            }\n",
              "            .progress-bar-interrupted, .progress-bar-interrupted::-webkit-progress-bar {\n",
              "                background: #F44336;\n",
              "            }\n",
              "        </style>\n",
              "      <progress value='40000' class='' max='40000' style='width:300px; height:20px; vertical-align: middle;'></progress>\n",
              "      100.00% [40000/40000 00:46<00:00 Sampling 4 chains, 0 divergences]\n",
              "    </div>\n",
              "    "
            ],
            "text/plain": [
              "<IPython.core.display.HTML object>"
            ]
          },
          "metadata": {}
        },
        {
          "output_type": "stream",
          "name": "stderr",
          "text": [
            "Sampling 4 chains for 4_000 tune and 6_000 draw iterations (16_000 + 24_000 draws total) took 47 seconds.\n"
          ]
        },
        {
          "output_type": "display_data",
          "data": {
            "text/html": [
              "<div>\n",
              "<style scoped>\n",
              "    .dataframe tbody tr th:only-of-type {\n",
              "        vertical-align: middle;\n",
              "    }\n",
              "\n",
              "    .dataframe tbody tr th {\n",
              "        vertical-align: top;\n",
              "    }\n",
              "\n",
              "    .dataframe thead th {\n",
              "        text-align: right;\n",
              "    }\n",
              "</style>\n",
              "<table border=\"1\" class=\"dataframe\">\n",
              "  <thead>\n",
              "    <tr style=\"text-align: right;\">\n",
              "      <th></th>\n",
              "      <th>mean</th>\n",
              "      <th>sd</th>\n",
              "      <th>hdi_2.5%</th>\n",
              "      <th>hdi_97.5%</th>\n",
              "      <th>mcse_mean</th>\n",
              "      <th>mcse_sd</th>\n",
              "      <th>ess_bulk</th>\n",
              "      <th>ess_tail</th>\n",
              "      <th>r_hat</th>\n",
              "    </tr>\n",
              "  </thead>\n",
              "  <tbody>\n",
              "    <tr>\n",
              "      <th>beta_v</th>\n",
              "      <td>19573.617</td>\n",
              "      <td>15050.965</td>\n",
              "      <td>453.980</td>\n",
              "      <td>48933.281</td>\n",
              "      <td>106.214</td>\n",
              "      <td>78.866</td>\n",
              "      <td>20265.0</td>\n",
              "      <td>16285.0</td>\n",
              "      <td>1.0</td>\n",
              "    </tr>\n",
              "    <tr>\n",
              "      <th>beta_c</th>\n",
              "      <td>5110.187</td>\n",
              "      <td>3713.641</td>\n",
              "      <td>71.397</td>\n",
              "      <td>12383.597</td>\n",
              "      <td>26.396</td>\n",
              "      <td>19.725</td>\n",
              "      <td>17606.0</td>\n",
              "      <td>12655.0</td>\n",
              "      <td>1.0</td>\n",
              "    </tr>\n",
              "    <tr>\n",
              "      <th>lambda_v</th>\n",
              "      <td>0.000</td>\n",
              "      <td>0.000</td>\n",
              "      <td>0.000</td>\n",
              "      <td>0.000</td>\n",
              "      <td>0.000</td>\n",
              "      <td>0.000</td>\n",
              "      <td>21918.0</td>\n",
              "      <td>17830.0</td>\n",
              "      <td>1.0</td>\n",
              "    </tr>\n",
              "    <tr>\n",
              "      <th>lambda_c</th>\n",
              "      <td>0.000</td>\n",
              "      <td>0.000</td>\n",
              "      <td>0.000</td>\n",
              "      <td>0.000</td>\n",
              "      <td>0.000</td>\n",
              "      <td>0.000</td>\n",
              "      <td>24055.0</td>\n",
              "      <td>17359.0</td>\n",
              "      <td>1.0</td>\n",
              "    </tr>\n",
              "    <tr>\n",
              "      <th>ve</th>\n",
              "      <td>0.726</td>\n",
              "      <td>0.073</td>\n",
              "      <td>0.581</td>\n",
              "      <td>0.858</td>\n",
              "      <td>0.000</td>\n",
              "      <td>0.000</td>\n",
              "      <td>22485.0</td>\n",
              "      <td>17734.0</td>\n",
              "      <td>1.0</td>\n",
              "    </tr>\n",
              "  </tbody>\n",
              "</table>\n",
              "</div>"
            ],
            "text/plain": [
              "               mean         sd  hdi_2.5%  ...  ess_bulk  ess_tail  r_hat\n",
              "beta_v    19573.617  15050.965   453.980  ...   20265.0   16285.0    1.0\n",
              "beta_c     5110.187   3713.641    71.397  ...   17606.0   12655.0    1.0\n",
              "lambda_v      0.000      0.000     0.000  ...   21918.0   17830.0    1.0\n",
              "lambda_c      0.000      0.000     0.000  ...   24055.0   17359.0    1.0\n",
              "ve            0.726      0.073     0.581  ...   22485.0   17734.0    1.0\n",
              "\n",
              "[5 rows x 9 columns]"
            ]
          },
          "metadata": {}
        },
        {
          "output_type": "stream",
          "name": "stdout",
          "text": [
            "VE: 72.56 +- 7.33\n",
            "95% CI: [56.38228917 84.59602441]\n"
          ]
        }
      ]
    },
    {
      "cell_type": "code",
      "metadata": {
        "colab": {
          "base_uri": "https://localhost:8080/",
          "height": 313
        },
        "id": "x7VNi2dmGNsD",
        "outputId": "cc5526e4-77e9-4ac3-8d56-28dd06503942"
      },
      "source": [
        "cov002_ldsd = {\"n_v\": 1367,\n",
        "            \"n_c\": 1374,\n",
        "            \"s_v\": 73313,\n",
        "            \"s_c\": 72949,\n",
        "            \"D\": 0.14822,\n",
        "            \"n_cases\": 33,\n",
        "            \"x_v\": 3,\n",
        "            \"x_c\": 30,\n",
        "            \"prob\": 0.95}\n",
        "\n",
        "model(**cov002_ldsd)"
      ],
      "execution_count": null,
      "outputs": [
        {
          "output_type": "stream",
          "name": "stderr",
          "text": [
            "Multiprocess sampling (4 chains in 4 jobs)\n",
            "NUTS: [lambda_c, lambda_v, beta_c, beta_v]\n"
          ]
        },
        {
          "output_type": "display_data",
          "data": {
            "text/html": [
              "\n",
              "    <div>\n",
              "        <style>\n",
              "            /* Turns off some styling */\n",
              "            progress {\n",
              "                /* gets rid of default border in Firefox and Opera. */\n",
              "                border: none;\n",
              "                /* Needs to be in here for Safari polyfill so background images work as expected. */\n",
              "                background-size: auto;\n",
              "            }\n",
              "            .progress-bar-interrupted, .progress-bar-interrupted::-webkit-progress-bar {\n",
              "                background: #F44336;\n",
              "            }\n",
              "        </style>\n",
              "      <progress value='40000' class='' max='40000' style='width:300px; height:20px; vertical-align: middle;'></progress>\n",
              "      100.00% [40000/40000 00:51<00:00 Sampling 4 chains, 0 divergences]\n",
              "    </div>\n",
              "    "
            ],
            "text/plain": [
              "<IPython.core.display.HTML object>"
            ]
          },
          "metadata": {}
        },
        {
          "output_type": "stream",
          "name": "stderr",
          "text": [
            "Sampling 4 chains for 4_000 tune and 6_000 draw iterations (16_000 + 24_000 draws total) took 52 seconds.\n"
          ]
        },
        {
          "output_type": "display_data",
          "data": {
            "text/html": [
              "<div>\n",
              "<style scoped>\n",
              "    .dataframe tbody tr th:only-of-type {\n",
              "        vertical-align: middle;\n",
              "    }\n",
              "\n",
              "    .dataframe tbody tr th {\n",
              "        vertical-align: top;\n",
              "    }\n",
              "\n",
              "    .dataframe thead th {\n",
              "        text-align: right;\n",
              "    }\n",
              "</style>\n",
              "<table border=\"1\" class=\"dataframe\">\n",
              "  <thead>\n",
              "    <tr style=\"text-align: right;\">\n",
              "      <th></th>\n",
              "      <th>mean</th>\n",
              "      <th>sd</th>\n",
              "      <th>hdi_2.5%</th>\n",
              "      <th>hdi_97.5%</th>\n",
              "      <th>mcse_mean</th>\n",
              "      <th>mcse_sd</th>\n",
              "      <th>ess_bulk</th>\n",
              "      <th>ess_tail</th>\n",
              "      <th>r_hat</th>\n",
              "    </tr>\n",
              "  </thead>\n",
              "  <tbody>\n",
              "    <tr>\n",
              "      <th>beta_v</th>\n",
              "      <td>51633.029</td>\n",
              "      <td>44936.991</td>\n",
              "      <td>641.494</td>\n",
              "      <td>148182.519</td>\n",
              "      <td>426.803</td>\n",
              "      <td>321.312</td>\n",
              "      <td>13386.0</td>\n",
              "      <td>11794.0</td>\n",
              "      <td>1.0</td>\n",
              "    </tr>\n",
              "    <tr>\n",
              "      <th>beta_c</th>\n",
              "      <td>4960.440</td>\n",
              "      <td>3686.987</td>\n",
              "      <td>82.201</td>\n",
              "      <td>12228.196</td>\n",
              "      <td>28.337</td>\n",
              "      <td>20.038</td>\n",
              "      <td>14516.0</td>\n",
              "      <td>11339.0</td>\n",
              "      <td>1.0</td>\n",
              "    </tr>\n",
              "    <tr>\n",
              "      <th>lambda_v</th>\n",
              "      <td>0.000</td>\n",
              "      <td>0.000</td>\n",
              "      <td>0.000</td>\n",
              "      <td>0.000</td>\n",
              "      <td>0.000</td>\n",
              "      <td>0.000</td>\n",
              "      <td>13171.0</td>\n",
              "      <td>15029.0</td>\n",
              "      <td>1.0</td>\n",
              "    </tr>\n",
              "    <tr>\n",
              "      <th>lambda_c</th>\n",
              "      <td>0.000</td>\n",
              "      <td>0.000</td>\n",
              "      <td>0.000</td>\n",
              "      <td>0.001</td>\n",
              "      <td>0.000</td>\n",
              "      <td>0.000</td>\n",
              "      <td>15520.0</td>\n",
              "      <td>13189.0</td>\n",
              "      <td>1.0</td>\n",
              "    </tr>\n",
              "    <tr>\n",
              "      <th>ve</th>\n",
              "      <td>0.879</td>\n",
              "      <td>0.068</td>\n",
              "      <td>0.745</td>\n",
              "      <td>0.981</td>\n",
              "      <td>0.001</td>\n",
              "      <td>0.000</td>\n",
              "      <td>13046.0</td>\n",
              "      <td>15553.0</td>\n",
              "      <td>1.0</td>\n",
              "    </tr>\n",
              "  </tbody>\n",
              "</table>\n",
              "</div>"
            ],
            "text/plain": [
              "               mean         sd  hdi_2.5%  ...  ess_bulk  ess_tail  r_hat\n",
              "beta_v    51633.029  44936.991   641.494  ...   13386.0   11794.0    1.0\n",
              "beta_c     4960.440   3686.987    82.201  ...   14516.0   11339.0    1.0\n",
              "lambda_v      0.000      0.000     0.000  ...   13171.0   15029.0    1.0\n",
              "lambda_c      0.000      0.000     0.000  ...   15520.0   13189.0    1.0\n",
              "ve            0.879      0.068     0.745  ...   13046.0   15553.0    1.0\n",
              "\n",
              "[5 rows x 9 columns]"
            ]
          },
          "metadata": {}
        },
        {
          "output_type": "stream",
          "name": "stdout",
          "text": [
            "VE: 87.93 +- 6.76\n",
            "95% CI: [71.40749171 97.00279667]\n"
          ]
        }
      ]
    },
    {
      "cell_type": "code",
      "metadata": {
        "colab": {
          "base_uri": "https://localhost:8080/",
          "height": 313
        },
        "id": "d3-wQ7nSHArE",
        "outputId": "7e87d3d4-8380-4b42-c2aa-2bd9d17bf42d"
      },
      "source": [
        "cov002_sdsd = {\"n_v\": 2377,\n",
        "            \"n_c\": 2430,\n",
        "            \"s_v\": 97056,\n",
        "            \"s_c\": 97499,\n",
        "            \"D\": 0.11242,\n",
        "            \"n_cases\": 53,\n",
        "            \"x_v\": 15,\n",
        "            \"x_c\": 38,\n",
        "            \"prob\": 0.95}\n",
        "\n",
        "model(**cov002_sdsd)"
      ],
      "execution_count": null,
      "outputs": [
        {
          "output_type": "stream",
          "name": "stderr",
          "text": [
            "Multiprocess sampling (4 chains in 4 jobs)\n",
            "NUTS: [lambda_c, lambda_v, beta_c, beta_v]\n"
          ]
        },
        {
          "output_type": "display_data",
          "data": {
            "text/html": [
              "\n",
              "    <div>\n",
              "        <style>\n",
              "            /* Turns off some styling */\n",
              "            progress {\n",
              "                /* gets rid of default border in Firefox and Opera. */\n",
              "                border: none;\n",
              "                /* Needs to be in here for Safari polyfill so background images work as expected. */\n",
              "                background-size: auto;\n",
              "            }\n",
              "            .progress-bar-interrupted, .progress-bar-interrupted::-webkit-progress-bar {\n",
              "                background: #F44336;\n",
              "            }\n",
              "        </style>\n",
              "      <progress value='40000' class='' max='40000' style='width:300px; height:20px; vertical-align: middle;'></progress>\n",
              "      100.00% [40000/40000 00:46<00:00 Sampling 4 chains, 0 divergences]\n",
              "    </div>\n",
              "    "
            ],
            "text/plain": [
              "<IPython.core.display.HTML object>"
            ]
          },
          "metadata": {}
        },
        {
          "output_type": "stream",
          "name": "stderr",
          "text": [
            "Sampling 4 chains for 4_000 tune and 6_000 draw iterations (16_000 + 24_000 draws total) took 47 seconds.\n"
          ]
        },
        {
          "output_type": "display_data",
          "data": {
            "text/html": [
              "<div>\n",
              "<style scoped>\n",
              "    .dataframe tbody tr th:only-of-type {\n",
              "        vertical-align: middle;\n",
              "    }\n",
              "\n",
              "    .dataframe tbody tr th {\n",
              "        vertical-align: top;\n",
              "    }\n",
              "\n",
              "    .dataframe thead th {\n",
              "        text-align: right;\n",
              "    }\n",
              "</style>\n",
              "<table border=\"1\" class=\"dataframe\">\n",
              "  <thead>\n",
              "    <tr style=\"text-align: right;\">\n",
              "      <th></th>\n",
              "      <th>mean</th>\n",
              "      <th>sd</th>\n",
              "      <th>hdi_2.5%</th>\n",
              "      <th>hdi_97.5%</th>\n",
              "      <th>mcse_mean</th>\n",
              "      <th>mcse_sd</th>\n",
              "      <th>ess_bulk</th>\n",
              "      <th>ess_tail</th>\n",
              "      <th>r_hat</th>\n",
              "    </tr>\n",
              "  </thead>\n",
              "  <tbody>\n",
              "    <tr>\n",
              "      <th>beta_v</th>\n",
              "      <td>13368.937</td>\n",
              "      <td>10594.717</td>\n",
              "      <td>265.268</td>\n",
              "      <td>33792.927</td>\n",
              "      <td>80.903</td>\n",
              "      <td>60.546</td>\n",
              "      <td>17039.0</td>\n",
              "      <td>13330.0</td>\n",
              "      <td>1.0</td>\n",
              "    </tr>\n",
              "    <tr>\n",
              "      <th>beta_c</th>\n",
              "      <td>5242.803</td>\n",
              "      <td>3917.976</td>\n",
              "      <td>89.189</td>\n",
              "      <td>12935.852</td>\n",
              "      <td>27.811</td>\n",
              "      <td>21.519</td>\n",
              "      <td>19745.0</td>\n",
              "      <td>13823.0</td>\n",
              "      <td>1.0</td>\n",
              "    </tr>\n",
              "    <tr>\n",
              "      <th>lambda_v</th>\n",
              "      <td>0.000</td>\n",
              "      <td>0.000</td>\n",
              "      <td>0.000</td>\n",
              "      <td>0.000</td>\n",
              "      <td>0.000</td>\n",
              "      <td>0.000</td>\n",
              "      <td>20396.0</td>\n",
              "      <td>17241.0</td>\n",
              "      <td>1.0</td>\n",
              "    </tr>\n",
              "    <tr>\n",
              "      <th>lambda_c</th>\n",
              "      <td>0.000</td>\n",
              "      <td>0.000</td>\n",
              "      <td>0.000</td>\n",
              "      <td>0.001</td>\n",
              "      <td>0.000</td>\n",
              "      <td>0.000</td>\n",
              "      <td>20982.0</td>\n",
              "      <td>16365.0</td>\n",
              "      <td>1.0</td>\n",
              "    </tr>\n",
              "    <tr>\n",
              "      <th>ve</th>\n",
              "      <td>0.583</td>\n",
              "      <td>0.129</td>\n",
              "      <td>0.326</td>\n",
              "      <td>0.805</td>\n",
              "      <td>0.001</td>\n",
              "      <td>0.001</td>\n",
              "      <td>20057.0</td>\n",
              "      <td>17145.0</td>\n",
              "      <td>1.0</td>\n",
              "    </tr>\n",
              "  </tbody>\n",
              "</table>\n",
              "</div>"
            ],
            "text/plain": [
              "               mean         sd  hdi_2.5%  ...  ess_bulk  ess_tail  r_hat\n",
              "beta_v    13368.937  10594.717   265.268  ...   17039.0   13330.0    1.0\n",
              "beta_c     5242.803   3917.976    89.189  ...   19745.0   13823.0    1.0\n",
              "lambda_v      0.000      0.000     0.000  ...   20396.0   17241.0    1.0\n",
              "lambda_c      0.000      0.000     0.000  ...   20982.0   16365.0    1.0\n",
              "ve            0.583      0.129     0.326  ...   20057.0   17145.0    1.0\n",
              "\n",
              "[5 rows x 9 columns]"
            ]
          },
          "metadata": {}
        },
        {
          "output_type": "stream",
          "name": "stdout",
          "text": [
            "VE: 58.27 +- 12.89\n",
            "95% CI: [28.44931225 78.39961711]\n"
          ]
        }
      ]
    },
    {
      "cell_type": "code",
      "metadata": {
        "colab": {
          "base_uri": "https://localhost:8080/",
          "height": 313
        },
        "id": "idvskE3kIELH",
        "outputId": "a4d82941-cc91-4ea4-a18b-043a462cff0b"
      },
      "source": [
        "cov003_sdsd = {\"n_v\": 2063,\n",
        "            \"n_c\": 2025,\n",
        "            \"s_v\": 77930,\n",
        "            \"s_c\": 76780,\n",
        "            \"D\": 0.10512,\n",
        "            \"n_cases\": 45,\n",
        "            \"x_v\": 12,\n",
        "            \"x_c\": 33,\n",
        "            \"prob\": 0.95}\n",
        "\n",
        "model(**cov003_sdsd)"
      ],
      "execution_count": null,
      "outputs": [
        {
          "output_type": "stream",
          "name": "stderr",
          "text": [
            "Multiprocess sampling (4 chains in 4 jobs)\n",
            "NUTS: [lambda_c, lambda_v, beta_c, beta_v]\n"
          ]
        },
        {
          "output_type": "display_data",
          "data": {
            "text/html": [
              "\n",
              "    <div>\n",
              "        <style>\n",
              "            /* Turns off some styling */\n",
              "            progress {\n",
              "                /* gets rid of default border in Firefox and Opera. */\n",
              "                border: none;\n",
              "                /* Needs to be in here for Safari polyfill so background images work as expected. */\n",
              "                background-size: auto;\n",
              "            }\n",
              "            .progress-bar-interrupted, .progress-bar-interrupted::-webkit-progress-bar {\n",
              "                background: #F44336;\n",
              "            }\n",
              "        </style>\n",
              "      <progress value='40000' class='' max='40000' style='width:300px; height:20px; vertical-align: middle;'></progress>\n",
              "      100.00% [40000/40000 00:47<00:00 Sampling 4 chains, 0 divergences]\n",
              "    </div>\n",
              "    "
            ],
            "text/plain": [
              "<IPython.core.display.HTML object>"
            ]
          },
          "metadata": {}
        },
        {
          "output_type": "stream",
          "name": "stderr",
          "text": [
            "Sampling 4 chains for 4_000 tune and 6_000 draw iterations (16_000 + 24_000 draws total) took 48 seconds.\n"
          ]
        },
        {
          "output_type": "display_data",
          "data": {
            "text/html": [
              "<div>\n",
              "<style scoped>\n",
              "    .dataframe tbody tr th:only-of-type {\n",
              "        vertical-align: middle;\n",
              "    }\n",
              "\n",
              "    .dataframe tbody tr th {\n",
              "        vertical-align: top;\n",
              "    }\n",
              "\n",
              "    .dataframe thead th {\n",
              "        text-align: right;\n",
              "    }\n",
              "</style>\n",
              "<table border=\"1\" class=\"dataframe\">\n",
              "  <thead>\n",
              "    <tr style=\"text-align: right;\">\n",
              "      <th></th>\n",
              "      <th>mean</th>\n",
              "      <th>sd</th>\n",
              "      <th>hdi_2.5%</th>\n",
              "      <th>hdi_97.5%</th>\n",
              "      <th>mcse_mean</th>\n",
              "      <th>mcse_sd</th>\n",
              "      <th>ess_bulk</th>\n",
              "      <th>ess_tail</th>\n",
              "      <th>r_hat</th>\n",
              "    </tr>\n",
              "  </thead>\n",
              "  <tbody>\n",
              "    <tr>\n",
              "      <th>beta_v</th>\n",
              "      <td>13471.439</td>\n",
              "      <td>11008.922</td>\n",
              "      <td>188.554</td>\n",
              "      <td>34821.801</td>\n",
              "      <td>82.758</td>\n",
              "      <td>64.715</td>\n",
              "      <td>18431.0</td>\n",
              "      <td>14581.0</td>\n",
              "      <td>1.0</td>\n",
              "    </tr>\n",
              "    <tr>\n",
              "      <th>beta_c</th>\n",
              "      <td>4690.668</td>\n",
              "      <td>3488.650</td>\n",
              "      <td>111.176</td>\n",
              "      <td>11546.996</td>\n",
              "      <td>24.897</td>\n",
              "      <td>18.341</td>\n",
              "      <td>17811.0</td>\n",
              "      <td>13555.0</td>\n",
              "      <td>1.0</td>\n",
              "    </tr>\n",
              "    <tr>\n",
              "      <th>lambda_v</th>\n",
              "      <td>0.000</td>\n",
              "      <td>0.000</td>\n",
              "      <td>0.000</td>\n",
              "      <td>0.000</td>\n",
              "      <td>0.000</td>\n",
              "      <td>0.000</td>\n",
              "      <td>21785.0</td>\n",
              "      <td>15751.0</td>\n",
              "      <td>1.0</td>\n",
              "    </tr>\n",
              "    <tr>\n",
              "      <th>lambda_c</th>\n",
              "      <td>0.000</td>\n",
              "      <td>0.000</td>\n",
              "      <td>0.000</td>\n",
              "      <td>0.001</td>\n",
              "      <td>0.000</td>\n",
              "      <td>0.000</td>\n",
              "      <td>21764.0</td>\n",
              "      <td>15992.0</td>\n",
              "      <td>1.0</td>\n",
              "    </tr>\n",
              "    <tr>\n",
              "      <th>ve</th>\n",
              "      <td>0.619</td>\n",
              "      <td>0.129</td>\n",
              "      <td>0.358</td>\n",
              "      <td>0.839</td>\n",
              "      <td>0.001</td>\n",
              "      <td>0.001</td>\n",
              "      <td>21504.0</td>\n",
              "      <td>16583.0</td>\n",
              "      <td>1.0</td>\n",
              "    </tr>\n",
              "  </tbody>\n",
              "</table>\n",
              "</div>"
            ],
            "text/plain": [
              "               mean         sd  hdi_2.5%  ...  ess_bulk  ess_tail  r_hat\n",
              "beta_v    13471.439  11008.922   188.554  ...   18431.0   14581.0    1.0\n",
              "beta_c     4690.668   3488.650   111.176  ...   17811.0   13555.0    1.0\n",
              "lambda_v      0.000      0.000     0.000  ...   21785.0   15751.0    1.0\n",
              "lambda_c      0.000      0.000     0.000  ...   21764.0   15992.0    1.0\n",
              "ve            0.619      0.129     0.358  ...   21504.0   16583.0    1.0\n",
              "\n",
              "[5 rows x 9 columns]"
            ]
          },
          "metadata": {}
        },
        {
          "output_type": "stream",
          "name": "stdout",
          "text": [
            "VE: 61.89 +- 12.89\n",
            "95% CI: [31.66055228 81.81524878]\n"
          ]
        }
      ]
    },
    {
      "cell_type": "code",
      "metadata": {
        "colab": {
          "base_uri": "https://localhost:8080/",
          "height": 313
        },
        "id": "OeaqrGrTJcKj",
        "outputId": "e34db020-0ca9-4f85-f5c7-9773cfdf1d5e"
      },
      "source": [
        "all_sdsd = {\"n_v\": 4440,\n",
        "            \"n_c\": 4455,\n",
        "            \"s_v\": 174986,\n",
        "            \"s_c\": 174279,\n",
        "            \"D\": 0.10907,\n",
        "            \"n_cases\": 98,\n",
        "            \"x_v\": 27,\n",
        "            \"x_c\": 71,\n",
        "            \"prob\": 0.95}\n",
        "\n",
        "model(**all_sdsd)"
      ],
      "execution_count": null,
      "outputs": [
        {
          "metadata": {
            "tags": null
          },
          "name": "stderr",
          "output_type": "stream",
          "text": [
            "Multiprocess sampling (4 chains in 4 jobs)\n",
            "NUTS: [lambda_c, lambda_v, beta_c, beta_v]\n"
          ]
        },
        {
          "data": {
            "text/html": [
              "\n",
              "    <div>\n",
              "        <style>\n",
              "            /* Turns off some styling */\n",
              "            progress {\n",
              "                /* gets rid of default border in Firefox and Opera. */\n",
              "                border: none;\n",
              "                /* Needs to be in here for Safari polyfill so background images work as expected. */\n",
              "                background-size: auto;\n",
              "            }\n",
              "            .progress-bar-interrupted, .progress-bar-interrupted::-webkit-progress-bar {\n",
              "                background: #F44336;\n",
              "            }\n",
              "        </style>\n",
              "      <progress value='40000' class='' max='40000' style='width:300px; height:20px; vertical-align: middle;'></progress>\n",
              "      100.00% [40000/40000 00:46<00:00 Sampling 4 chains, 0 divergences]\n",
              "    </div>\n",
              "    "
            ],
            "text/plain": [
              "<IPython.core.display.HTML object>"
            ]
          },
          "metadata": {},
          "output_type": "display_data"
        },
        {
          "metadata": {
            "tags": null
          },
          "name": "stderr",
          "output_type": "stream",
          "text": [
            "Sampling 4 chains for 4_000 tune and 6_000 draw iterations (16_000 + 24_000 draws total) took 47 seconds.\n"
          ]
        },
        {
          "data": {
            "text/html": [
              "<div>\n",
              "<style scoped>\n",
              "    .dataframe tbody tr th:only-of-type {\n",
              "        vertical-align: middle;\n",
              "    }\n",
              "\n",
              "    .dataframe tbody tr th {\n",
              "        vertical-align: top;\n",
              "    }\n",
              "\n",
              "    .dataframe thead th {\n",
              "        text-align: right;\n",
              "    }\n",
              "</style>\n",
              "<table border=\"1\" class=\"dataframe\">\n",
              "  <thead>\n",
              "    <tr style=\"text-align: right;\">\n",
              "      <th></th>\n",
              "      <th>mean</th>\n",
              "      <th>sd</th>\n",
              "      <th>hdi_2.5%</th>\n",
              "      <th>hdi_97.5%</th>\n",
              "      <th>mcse_mean</th>\n",
              "      <th>mcse_sd</th>\n",
              "      <th>ess_bulk</th>\n",
              "      <th>ess_tail</th>\n",
              "      <th>r_hat</th>\n",
              "    </tr>\n",
              "  </thead>\n",
              "  <tbody>\n",
              "    <tr>\n",
              "      <th>beta_v</th>\n",
              "      <td>13321.240</td>\n",
              "      <td>10035.775</td>\n",
              "      <td>246.685</td>\n",
              "      <td>32808.001</td>\n",
              "      <td>67.429</td>\n",
              "      <td>51.819</td>\n",
              "      <td>22535.0</td>\n",
              "      <td>15589.0</td>\n",
              "      <td>1.0</td>\n",
              "    </tr>\n",
              "    <tr>\n",
              "      <th>beta_c</th>\n",
              "      <td>4961.503</td>\n",
              "      <td>3509.439</td>\n",
              "      <td>172.470</td>\n",
              "      <td>11896.623</td>\n",
              "      <td>23.273</td>\n",
              "      <td>17.548</td>\n",
              "      <td>21591.0</td>\n",
              "      <td>14218.0</td>\n",
              "      <td>1.0</td>\n",
              "    </tr>\n",
              "    <tr>\n",
              "      <th>lambda_v</th>\n",
              "      <td>0.000</td>\n",
              "      <td>0.000</td>\n",
              "      <td>0.000</td>\n",
              "      <td>0.000</td>\n",
              "      <td>0.000</td>\n",
              "      <td>0.000</td>\n",
              "      <td>22959.0</td>\n",
              "      <td>16607.0</td>\n",
              "      <td>1.0</td>\n",
              "    </tr>\n",
              "    <tr>\n",
              "      <th>lambda_c</th>\n",
              "      <td>0.000</td>\n",
              "      <td>0.000</td>\n",
              "      <td>0.000</td>\n",
              "      <td>0.001</td>\n",
              "      <td>0.000</td>\n",
              "      <td>0.000</td>\n",
              "      <td>22907.0</td>\n",
              "      <td>17767.0</td>\n",
              "      <td>1.0</td>\n",
              "    </tr>\n",
              "    <tr>\n",
              "      <th>ve</th>\n",
              "      <td>0.611</td>\n",
              "      <td>0.089</td>\n",
              "      <td>0.437</td>\n",
              "      <td>0.773</td>\n",
              "      <td>0.001</td>\n",
              "      <td>0.000</td>\n",
              "      <td>22677.0</td>\n",
              "      <td>17398.0</td>\n",
              "      <td>1.0</td>\n",
              "    </tr>\n",
              "  </tbody>\n",
              "</table>\n",
              "</div>"
            ],
            "text/plain": [
              "               mean         sd  hdi_2.5%  ...  ess_bulk  ess_tail  r_hat\n",
              "beta_v    13321.240  10035.775   246.685  ...   22535.0   15589.0    1.0\n",
              "beta_c     4961.503   3509.439   172.470  ...   21591.0   14218.0    1.0\n",
              "lambda_v      0.000      0.000     0.000  ...   22959.0   16607.0    1.0\n",
              "lambda_c      0.000      0.000     0.000  ...   22907.0   17767.0    1.0\n",
              "ve            0.611      0.089     0.437  ...   22677.0   17398.0    1.0\n",
              "\n",
              "[5 rows x 9 columns]"
            ]
          },
          "metadata": {},
          "output_type": "display_data"
        },
        {
          "metadata": {
            "tags": null
          },
          "name": "stdout",
          "output_type": "stream",
          "text": [
            "VE: 61.14 +- 8.86\n",
            "95% CI: [41.59556882 75.99681065]\n"
          ]
        }
      ]
    },
    {
      "cell_type": "code",
      "metadata": {
        "id": "zVgwRZG1PQ84"
      },
      "source": [
        ""
      ],
      "execution_count": null,
      "outputs": []
    },
    {
      "cell_type": "markdown",
      "metadata": {
        "id": "UcRYGP7h-mEh"
      },
      "source": [
        "# Modified beta binomial model"
      ]
    },
    {
      "cell_type": "code",
      "metadata": {
        "id": "1A5QvQ-6zR0_"
      },
      "source": [
        ""
      ],
      "execution_count": null,
      "outputs": []
    },
    {
      "cell_type": "code",
      "metadata": {
        "id": "zJLXRSo2-oqI"
      },
      "source": [
        "def mod_beta_binomial(n_v, n_c, x_v, x_c, prob):\n",
        "    l = 0\n",
        "    u = 0.7\n",
        "    mod_betabinom = pm.Model()\n",
        "\n",
        "    with mod_betabinom:\n",
        "        alpha_v = pm.Uniform(\"alpha_v\", lower=l, upper=u)\n",
        "        alpha_c = pm.Uniform(\"alpha_c\", lower=l, upper=u)\n",
        "\n",
        "        v_irr = pm.Beta(\"v_irr\", alpha=alpha_v, beta=1)\n",
        "        c_irr = pm.Beta(\"c_irr\", alpha=alpha_c, beta=1)\n",
        "\n",
        "        v_like = pm.Binomial(\"v_like\", n=n_v, p=v_irr, observed=x_v)\n",
        "        c_like = pm.Binomial(\"c_like\", n=n_c, p=c_irr, observed=x_c)\n",
        "\n",
        "        ve = pm.Deterministic(\"ve\", (1-(v_irr/c_irr)))\n",
        "\n",
        "        trace = pm.sample(draws=5000, tune=4000, cores=4, return_inferencedata=False)\n",
        "        display(az.summary(trace, hdi_prob=prob))\n",
        "\n",
        "        ve_samp = trace['ve']\n",
        "        print(f\"VE: {100*ve_samp.mean():.2f} +- {100*ve_samp.std():.2f}\")\n",
        "        print(f\"95% CI: {mquantiles(100*ve_samp, prob=[(1-prob)/2, (1+prob)/2])}\")"
      ],
      "execution_count": null,
      "outputs": []
    },
    {
      "cell_type": "code",
      "metadata": {
        "colab": {
          "base_uri": "https://localhost:8080/",
          "height": 349
        },
        "id": "g58pXvXEAM3S",
        "outputId": "e56c04c5-7f50-437d-d7f0-aabaa9a5c4f1"
      },
      "source": [
        "ovr = {\"n_v\": 5807,\n",
        "        \"n_c\": 5829,\n",
        "        \"x_v\": 30,\n",
        "        \"x_c\": 101,\n",
        "        \"prob\": 0.958}\n",
        "\n",
        "mod_beta_binomial(**ovr)"
      ],
      "execution_count": null,
      "outputs": [
        {
          "output_type": "stream",
          "name": "stderr",
          "text": [
            "Auto-assigning NUTS sampler...\n",
            "Initializing NUTS using jitter+adapt_diag...\n",
            "Multiprocess sampling (4 chains in 4 jobs)\n",
            "NUTS: [c_irr, v_irr, alpha_c, alpha_v]\n"
          ]
        },
        {
          "output_type": "display_data",
          "data": {
            "text/html": [
              "\n",
              "    <div>\n",
              "        <style>\n",
              "            /* Turns off some styling */\n",
              "            progress {\n",
              "                /* gets rid of default border in Firefox and Opera. */\n",
              "                border: none;\n",
              "                /* Needs to be in here for Safari polyfill so background images work as expected. */\n",
              "                background-size: auto;\n",
              "            }\n",
              "            .progress-bar-interrupted, .progress-bar-interrupted::-webkit-progress-bar {\n",
              "                background: #F44336;\n",
              "            }\n",
              "        </style>\n",
              "      <progress value='36000' class='' max='36000' style='width:300px; height:20px; vertical-align: middle;'></progress>\n",
              "      100.00% [36000/36000 00:40<00:00 Sampling 4 chains, 0 divergences]\n",
              "    </div>\n",
              "    "
            ],
            "text/plain": [
              "<IPython.core.display.HTML object>"
            ]
          },
          "metadata": {}
        },
        {
          "output_type": "stream",
          "name": "stderr",
          "text": [
            "Sampling 4 chains for 4_000 tune and 5_000 draw iterations (16_000 + 20_000 draws total) took 41 seconds.\n"
          ]
        },
        {
          "output_type": "display_data",
          "data": {
            "text/html": [
              "<div>\n",
              "<style scoped>\n",
              "    .dataframe tbody tr th:only-of-type {\n",
              "        vertical-align: middle;\n",
              "    }\n",
              "\n",
              "    .dataframe tbody tr th {\n",
              "        vertical-align: top;\n",
              "    }\n",
              "\n",
              "    .dataframe thead th {\n",
              "        text-align: right;\n",
              "    }\n",
              "</style>\n",
              "<table border=\"1\" class=\"dataframe\">\n",
              "  <thead>\n",
              "    <tr style=\"text-align: right;\">\n",
              "      <th></th>\n",
              "      <th>mean</th>\n",
              "      <th>sd</th>\n",
              "      <th>hdi_2.1%</th>\n",
              "      <th>hdi_97.9%</th>\n",
              "      <th>mcse_mean</th>\n",
              "      <th>mcse_sd</th>\n",
              "      <th>ess_bulk</th>\n",
              "      <th>ess_tail</th>\n",
              "      <th>r_hat</th>\n",
              "    </tr>\n",
              "  </thead>\n",
              "  <tbody>\n",
              "    <tr>\n",
              "      <th>alpha_v</th>\n",
              "      <td>0.306</td>\n",
              "      <td>0.172</td>\n",
              "      <td>0.022</td>\n",
              "      <td>0.641</td>\n",
              "      <td>0.001</td>\n",
              "      <td>0.001</td>\n",
              "      <td>21331.0</td>\n",
              "      <td>11622.0</td>\n",
              "      <td>1.0</td>\n",
              "    </tr>\n",
              "    <tr>\n",
              "      <th>alpha_c</th>\n",
              "      <td>0.346</td>\n",
              "      <td>0.178</td>\n",
              "      <td>0.048</td>\n",
              "      <td>0.677</td>\n",
              "      <td>0.001</td>\n",
              "      <td>0.001</td>\n",
              "      <td>20392.0</td>\n",
              "      <td>11282.0</td>\n",
              "      <td>1.0</td>\n",
              "    </tr>\n",
              "    <tr>\n",
              "      <th>v_irr</th>\n",
              "      <td>0.005</td>\n",
              "      <td>0.001</td>\n",
              "      <td>0.003</td>\n",
              "      <td>0.007</td>\n",
              "      <td>0.000</td>\n",
              "      <td>0.000</td>\n",
              "      <td>23459.0</td>\n",
              "      <td>14939.0</td>\n",
              "      <td>1.0</td>\n",
              "    </tr>\n",
              "    <tr>\n",
              "      <th>c_irr</th>\n",
              "      <td>0.017</td>\n",
              "      <td>0.002</td>\n",
              "      <td>0.014</td>\n",
              "      <td>0.021</td>\n",
              "      <td>0.000</td>\n",
              "      <td>0.000</td>\n",
              "      <td>25262.0</td>\n",
              "      <td>14600.0</td>\n",
              "      <td>1.0</td>\n",
              "    </tr>\n",
              "    <tr>\n",
              "      <th>ve</th>\n",
              "      <td>0.697</td>\n",
              "      <td>0.063</td>\n",
              "      <td>0.566</td>\n",
              "      <td>0.817</td>\n",
              "      <td>0.000</td>\n",
              "      <td>0.000</td>\n",
              "      <td>23724.0</td>\n",
              "      <td>15083.0</td>\n",
              "      <td>1.0</td>\n",
              "    </tr>\n",
              "  </tbody>\n",
              "</table>\n",
              "</div>"
            ],
            "text/plain": [
              "          mean     sd  hdi_2.1%  hdi_97.9%  ...  mcse_sd  ess_bulk  ess_tail  r_hat\n",
              "alpha_v  0.306  0.172     0.022      0.641  ...    0.001   21331.0   11622.0    1.0\n",
              "alpha_c  0.346  0.178     0.048      0.677  ...    0.001   20392.0   11282.0    1.0\n",
              "v_irr    0.005  0.001     0.003      0.007  ...    0.000   23459.0   14939.0    1.0\n",
              "c_irr    0.017  0.002     0.014      0.021  ...    0.000   25262.0   14600.0    1.0\n",
              "ve       0.697  0.063     0.566      0.817  ...    0.000   23724.0   15083.0    1.0\n",
              "\n",
              "[5 rows x 9 columns]"
            ]
          },
          "metadata": {}
        },
        {
          "output_type": "stream",
          "name": "stdout",
          "text": [
            "VE: 69.71 +- 6.33\n",
            "95% CI: [55.3308306  80.82464919]\n"
          ]
        }
      ]
    },
    {
      "cell_type": "code",
      "metadata": {
        "colab": {
          "base_uri": "https://localhost:8080/",
          "height": 349
        },
        "id": "GkiYyvKDAhbt",
        "outputId": "1a0e9d5b-1aaf-4d00-e6bf-fba874272249"
      },
      "source": [
        "cov002_ovr = {\"n_v\": 3744,\n",
        "            \"n_c\": 3804,\n",
        "            \"x_v\": 18,\n",
        "            \"x_c\": 68,\n",
        "            \"prob\": 0.95}\n",
        "\n",
        "mod_beta_binomial(**cov002_ovr)"
      ],
      "execution_count": null,
      "outputs": [
        {
          "output_type": "stream",
          "name": "stderr",
          "text": [
            "Auto-assigning NUTS sampler...\n",
            "Initializing NUTS using jitter+adapt_diag...\n",
            "Multiprocess sampling (4 chains in 4 jobs)\n",
            "NUTS: [c_irr, v_irr, alpha_c, alpha_v]\n"
          ]
        },
        {
          "output_type": "display_data",
          "data": {
            "text/html": [
              "\n",
              "    <div>\n",
              "        <style>\n",
              "            /* Turns off some styling */\n",
              "            progress {\n",
              "                /* gets rid of default border in Firefox and Opera. */\n",
              "                border: none;\n",
              "                /* Needs to be in here for Safari polyfill so background images work as expected. */\n",
              "                background-size: auto;\n",
              "            }\n",
              "            .progress-bar-interrupted, .progress-bar-interrupted::-webkit-progress-bar {\n",
              "                background: #F44336;\n",
              "            }\n",
              "        </style>\n",
              "      <progress value='36000' class='' max='36000' style='width:300px; height:20px; vertical-align: middle;'></progress>\n",
              "      100.00% [36000/36000 00:39<00:00 Sampling 4 chains, 0 divergences]\n",
              "    </div>\n",
              "    "
            ],
            "text/plain": [
              "<IPython.core.display.HTML object>"
            ]
          },
          "metadata": {}
        },
        {
          "output_type": "stream",
          "name": "stderr",
          "text": [
            "Sampling 4 chains for 4_000 tune and 5_000 draw iterations (16_000 + 20_000 draws total) took 40 seconds.\n"
          ]
        },
        {
          "output_type": "display_data",
          "data": {
            "text/html": [
              "<div>\n",
              "<style scoped>\n",
              "    .dataframe tbody tr th:only-of-type {\n",
              "        vertical-align: middle;\n",
              "    }\n",
              "\n",
              "    .dataframe tbody tr th {\n",
              "        vertical-align: top;\n",
              "    }\n",
              "\n",
              "    .dataframe thead th {\n",
              "        text-align: right;\n",
              "    }\n",
              "</style>\n",
              "<table border=\"1\" class=\"dataframe\">\n",
              "  <thead>\n",
              "    <tr style=\"text-align: right;\">\n",
              "      <th></th>\n",
              "      <th>mean</th>\n",
              "      <th>sd</th>\n",
              "      <th>hdi_2.5%</th>\n",
              "      <th>hdi_97.5%</th>\n",
              "      <th>mcse_mean</th>\n",
              "      <th>mcse_sd</th>\n",
              "      <th>ess_bulk</th>\n",
              "      <th>ess_tail</th>\n",
              "      <th>r_hat</th>\n",
              "    </tr>\n",
              "  </thead>\n",
              "  <tbody>\n",
              "    <tr>\n",
              "      <th>alpha_v</th>\n",
              "      <td>0.305</td>\n",
              "      <td>0.173</td>\n",
              "      <td>0.025</td>\n",
              "      <td>0.637</td>\n",
              "      <td>0.001</td>\n",
              "      <td>0.001</td>\n",
              "      <td>21296.0</td>\n",
              "      <td>11875.0</td>\n",
              "      <td>1.0</td>\n",
              "    </tr>\n",
              "    <tr>\n",
              "      <th>alpha_c</th>\n",
              "      <td>0.342</td>\n",
              "      <td>0.177</td>\n",
              "      <td>0.044</td>\n",
              "      <td>0.665</td>\n",
              "      <td>0.001</td>\n",
              "      <td>0.001</td>\n",
              "      <td>20471.0</td>\n",
              "      <td>11818.0</td>\n",
              "      <td>1.0</td>\n",
              "    </tr>\n",
              "    <tr>\n",
              "      <th>v_irr</th>\n",
              "      <td>0.005</td>\n",
              "      <td>0.001</td>\n",
              "      <td>0.003</td>\n",
              "      <td>0.007</td>\n",
              "      <td>0.000</td>\n",
              "      <td>0.000</td>\n",
              "      <td>26190.0</td>\n",
              "      <td>14934.0</td>\n",
              "      <td>1.0</td>\n",
              "    </tr>\n",
              "    <tr>\n",
              "      <th>c_irr</th>\n",
              "      <td>0.018</td>\n",
              "      <td>0.002</td>\n",
              "      <td>0.014</td>\n",
              "      <td>0.022</td>\n",
              "      <td>0.000</td>\n",
              "      <td>0.000</td>\n",
              "      <td>27395.0</td>\n",
              "      <td>14924.0</td>\n",
              "      <td>1.0</td>\n",
              "    </tr>\n",
              "    <tr>\n",
              "      <th>ve</th>\n",
              "      <td>0.723</td>\n",
              "      <td>0.074</td>\n",
              "      <td>0.575</td>\n",
              "      <td>0.855</td>\n",
              "      <td>0.000</td>\n",
              "      <td>0.000</td>\n",
              "      <td>26510.0</td>\n",
              "      <td>14564.0</td>\n",
              "      <td>1.0</td>\n",
              "    </tr>\n",
              "  </tbody>\n",
              "</table>\n",
              "</div>"
            ],
            "text/plain": [
              "          mean     sd  hdi_2.5%  hdi_97.5%  ...  mcse_sd  ess_bulk  ess_tail  r_hat\n",
              "alpha_v  0.305  0.173     0.025      0.637  ...    0.001   21296.0   11875.0    1.0\n",
              "alpha_c  0.342  0.177     0.044      0.665  ...    0.001   20471.0   11818.0    1.0\n",
              "v_irr    0.005  0.001     0.003      0.007  ...    0.000   26190.0   14934.0    1.0\n",
              "c_irr    0.018  0.002     0.014      0.022  ...    0.000   27395.0   14924.0    1.0\n",
              "ve       0.723  0.074     0.575      0.855  ...    0.000   26510.0   14564.0    1.0\n",
              "\n",
              "[5 rows x 9 columns]"
            ]
          },
          "metadata": {}
        },
        {
          "output_type": "stream",
          "name": "stdout",
          "text": [
            "VE: 72.34 +- 7.42\n",
            "95% CI: [55.69576573 84.41857249]\n"
          ]
        }
      ]
    },
    {
      "cell_type": "code",
      "metadata": {
        "colab": {
          "base_uri": "https://localhost:8080/",
          "height": 349
        },
        "id": "ZfFALlF_BNwZ",
        "outputId": "e7aea3cf-4c7d-47d7-8174-2d890f515916"
      },
      "source": [
        "cov002_ldsd = {\"n_v\": 1367,\n",
        "            \"n_c\": 1374,\n",
        "            \"x_v\": 3,\n",
        "            \"x_c\": 30,\n",
        "            \"prob\": 0.95}\n",
        "\n",
        "mod_beta_binomial(**cov002_ldsd)"
      ],
      "execution_count": null,
      "outputs": [
        {
          "output_type": "stream",
          "name": "stderr",
          "text": [
            "Auto-assigning NUTS sampler...\n",
            "Initializing NUTS using jitter+adapt_diag...\n",
            "Multiprocess sampling (4 chains in 4 jobs)\n",
            "NUTS: [c_irr, v_irr, alpha_c, alpha_v]\n"
          ]
        },
        {
          "output_type": "display_data",
          "data": {
            "text/html": [
              "\n",
              "    <div>\n",
              "        <style>\n",
              "            /* Turns off some styling */\n",
              "            progress {\n",
              "                /* gets rid of default border in Firefox and Opera. */\n",
              "                border: none;\n",
              "                /* Needs to be in here for Safari polyfill so background images work as expected. */\n",
              "                background-size: auto;\n",
              "            }\n",
              "            .progress-bar-interrupted, .progress-bar-interrupted::-webkit-progress-bar {\n",
              "                background: #F44336;\n",
              "            }\n",
              "        </style>\n",
              "      <progress value='36000' class='' max='36000' style='width:300px; height:20px; vertical-align: middle;'></progress>\n",
              "      100.00% [36000/36000 00:39<00:00 Sampling 4 chains, 0 divergences]\n",
              "    </div>\n",
              "    "
            ],
            "text/plain": [
              "<IPython.core.display.HTML object>"
            ]
          },
          "metadata": {}
        },
        {
          "output_type": "stream",
          "name": "stderr",
          "text": [
            "Sampling 4 chains for 4_000 tune and 5_000 draw iterations (16_000 + 20_000 draws total) took 40 seconds.\n"
          ]
        },
        {
          "output_type": "display_data",
          "data": {
            "text/html": [
              "<div>\n",
              "<style scoped>\n",
              "    .dataframe tbody tr th:only-of-type {\n",
              "        vertical-align: middle;\n",
              "    }\n",
              "\n",
              "    .dataframe tbody tr th {\n",
              "        vertical-align: top;\n",
              "    }\n",
              "\n",
              "    .dataframe thead th {\n",
              "        text-align: right;\n",
              "    }\n",
              "</style>\n",
              "<table border=\"1\" class=\"dataframe\">\n",
              "  <thead>\n",
              "    <tr style=\"text-align: right;\">\n",
              "      <th></th>\n",
              "      <th>mean</th>\n",
              "      <th>sd</th>\n",
              "      <th>hdi_2.5%</th>\n",
              "      <th>hdi_97.5%</th>\n",
              "      <th>mcse_mean</th>\n",
              "      <th>mcse_sd</th>\n",
              "      <th>ess_bulk</th>\n",
              "      <th>ess_tail</th>\n",
              "      <th>r_hat</th>\n",
              "    </tr>\n",
              "  </thead>\n",
              "  <tbody>\n",
              "    <tr>\n",
              "      <th>alpha_v</th>\n",
              "      <td>0.281</td>\n",
              "      <td>0.167</td>\n",
              "      <td>0.018</td>\n",
              "      <td>0.605</td>\n",
              "      <td>0.001</td>\n",
              "      <td>0.001</td>\n",
              "      <td>18519.0</td>\n",
              "      <td>11554.0</td>\n",
              "      <td>1.0</td>\n",
              "    </tr>\n",
              "    <tr>\n",
              "      <th>alpha_c</th>\n",
              "      <td>0.351</td>\n",
              "      <td>0.178</td>\n",
              "      <td>0.077</td>\n",
              "      <td>0.696</td>\n",
              "      <td>0.001</td>\n",
              "      <td>0.001</td>\n",
              "      <td>18760.0</td>\n",
              "      <td>10611.0</td>\n",
              "      <td>1.0</td>\n",
              "    </tr>\n",
              "    <tr>\n",
              "      <th>v_irr</th>\n",
              "      <td>0.002</td>\n",
              "      <td>0.001</td>\n",
              "      <td>0.000</td>\n",
              "      <td>0.005</td>\n",
              "      <td>0.000</td>\n",
              "      <td>0.000</td>\n",
              "      <td>21910.0</td>\n",
              "      <td>13416.0</td>\n",
              "      <td>1.0</td>\n",
              "    </tr>\n",
              "    <tr>\n",
              "      <th>c_irr</th>\n",
              "      <td>0.022</td>\n",
              "      <td>0.004</td>\n",
              "      <td>0.014</td>\n",
              "      <td>0.030</td>\n",
              "      <td>0.000</td>\n",
              "      <td>0.000</td>\n",
              "      <td>23732.0</td>\n",
              "      <td>15342.0</td>\n",
              "      <td>1.0</td>\n",
              "    </tr>\n",
              "    <tr>\n",
              "      <th>ve</th>\n",
              "      <td>0.888</td>\n",
              "      <td>0.066</td>\n",
              "      <td>0.756</td>\n",
              "      <td>0.985</td>\n",
              "      <td>0.000</td>\n",
              "      <td>0.000</td>\n",
              "      <td>21777.0</td>\n",
              "      <td>13215.0</td>\n",
              "      <td>1.0</td>\n",
              "    </tr>\n",
              "  </tbody>\n",
              "</table>\n",
              "</div>"
            ],
            "text/plain": [
              "          mean     sd  hdi_2.5%  hdi_97.5%  ...  mcse_sd  ess_bulk  ess_tail  r_hat\n",
              "alpha_v  0.281  0.167     0.018      0.605  ...    0.001   18519.0   11554.0    1.0\n",
              "alpha_c  0.351  0.178     0.077      0.696  ...    0.001   18760.0   10611.0    1.0\n",
              "v_irr    0.002  0.001     0.000      0.005  ...    0.000   21910.0   13416.0    1.0\n",
              "c_irr    0.022  0.004     0.014      0.030  ...    0.000   23732.0   15342.0    1.0\n",
              "ve       0.888  0.066     0.756      0.985  ...    0.000   21777.0   13215.0    1.0\n",
              "\n",
              "[5 rows x 9 columns]"
            ]
          },
          "metadata": {}
        },
        {
          "output_type": "stream",
          "name": "stdout",
          "text": [
            "VE: 88.76 +- 6.64\n",
            "95% CI: [72.38435516 97.52909054]\n"
          ]
        }
      ]
    },
    {
      "cell_type": "code",
      "metadata": {
        "colab": {
          "base_uri": "https://localhost:8080/",
          "height": 349
        },
        "id": "FG0LKlw_BWRi",
        "outputId": "7899c260-0f3e-4001-b59d-7cba7bfb23e1"
      },
      "source": [
        "cov002_sdsd = {\"n_v\": 2377,\n",
        "               \"n_c\": 2430,\n",
        "               \"x_v\": 15,\n",
        "               \"x_c\": 38,\n",
        "               \"prob\": 0.95}\n",
        "\n",
        "mod_beta_binomial(**cov002_sdsd)"
      ],
      "execution_count": null,
      "outputs": [
        {
          "output_type": "stream",
          "name": "stderr",
          "text": [
            "Auto-assigning NUTS sampler...\n",
            "Initializing NUTS using jitter+adapt_diag...\n",
            "Multiprocess sampling (4 chains in 4 jobs)\n",
            "NUTS: [c_irr, v_irr, alpha_c, alpha_v]\n"
          ]
        },
        {
          "output_type": "display_data",
          "data": {
            "text/html": [
              "\n",
              "    <div>\n",
              "        <style>\n",
              "            /* Turns off some styling */\n",
              "            progress {\n",
              "                /* gets rid of default border in Firefox and Opera. */\n",
              "                border: none;\n",
              "                /* Needs to be in here for Safari polyfill so background images work as expected. */\n",
              "                background-size: auto;\n",
              "            }\n",
              "            .progress-bar-interrupted, .progress-bar-interrupted::-webkit-progress-bar {\n",
              "                background: #F44336;\n",
              "            }\n",
              "        </style>\n",
              "      <progress value='36000' class='' max='36000' style='width:300px; height:20px; vertical-align: middle;'></progress>\n",
              "      100.00% [36000/36000 00:40<00:00 Sampling 4 chains, 0 divergences]\n",
              "    </div>\n",
              "    "
            ],
            "text/plain": [
              "<IPython.core.display.HTML object>"
            ]
          },
          "metadata": {}
        },
        {
          "output_type": "stream",
          "name": "stderr",
          "text": [
            "Sampling 4 chains for 4_000 tune and 5_000 draw iterations (16_000 + 20_000 draws total) took 41 seconds.\n"
          ]
        },
        {
          "output_type": "display_data",
          "data": {
            "text/html": [
              "<div>\n",
              "<style scoped>\n",
              "    .dataframe tbody tr th:only-of-type {\n",
              "        vertical-align: middle;\n",
              "    }\n",
              "\n",
              "    .dataframe tbody tr th {\n",
              "        vertical-align: top;\n",
              "    }\n",
              "\n",
              "    .dataframe thead th {\n",
              "        text-align: right;\n",
              "    }\n",
              "</style>\n",
              "<table border=\"1\" class=\"dataframe\">\n",
              "  <thead>\n",
              "    <tr style=\"text-align: right;\">\n",
              "      <th></th>\n",
              "      <th>mean</th>\n",
              "      <th>sd</th>\n",
              "      <th>hdi_2.5%</th>\n",
              "      <th>hdi_97.5%</th>\n",
              "      <th>mcse_mean</th>\n",
              "      <th>mcse_sd</th>\n",
              "      <th>ess_bulk</th>\n",
              "      <th>ess_tail</th>\n",
              "      <th>r_hat</th>\n",
              "    </tr>\n",
              "  </thead>\n",
              "  <tbody>\n",
              "    <tr>\n",
              "      <th>alpha_v</th>\n",
              "      <td>0.314</td>\n",
              "      <td>0.173</td>\n",
              "      <td>0.032</td>\n",
              "      <td>0.645</td>\n",
              "      <td>0.001</td>\n",
              "      <td>0.001</td>\n",
              "      <td>22420.0</td>\n",
              "      <td>11510.0</td>\n",
              "      <td>1.0</td>\n",
              "    </tr>\n",
              "    <tr>\n",
              "      <th>alpha_c</th>\n",
              "      <td>0.339</td>\n",
              "      <td>0.178</td>\n",
              "      <td>0.049</td>\n",
              "      <td>0.668</td>\n",
              "      <td>0.001</td>\n",
              "      <td>0.001</td>\n",
              "      <td>21980.0</td>\n",
              "      <td>11964.0</td>\n",
              "      <td>1.0</td>\n",
              "    </tr>\n",
              "    <tr>\n",
              "      <th>v_irr</th>\n",
              "      <td>0.006</td>\n",
              "      <td>0.002</td>\n",
              "      <td>0.003</td>\n",
              "      <td>0.010</td>\n",
              "      <td>0.000</td>\n",
              "      <td>0.000</td>\n",
              "      <td>25963.0</td>\n",
              "      <td>15209.0</td>\n",
              "      <td>1.0</td>\n",
              "    </tr>\n",
              "    <tr>\n",
              "      <th>c_irr</th>\n",
              "      <td>0.016</td>\n",
              "      <td>0.003</td>\n",
              "      <td>0.011</td>\n",
              "      <td>0.021</td>\n",
              "      <td>0.000</td>\n",
              "      <td>0.000</td>\n",
              "      <td>24284.0</td>\n",
              "      <td>14837.0</td>\n",
              "      <td>1.0</td>\n",
              "    </tr>\n",
              "    <tr>\n",
              "      <th>ve</th>\n",
              "      <td>0.581</td>\n",
              "      <td>0.129</td>\n",
              "      <td>0.331</td>\n",
              "      <td>0.815</td>\n",
              "      <td>0.001</td>\n",
              "      <td>0.001</td>\n",
              "      <td>25112.0</td>\n",
              "      <td>15806.0</td>\n",
              "      <td>1.0</td>\n",
              "    </tr>\n",
              "  </tbody>\n",
              "</table>\n",
              "</div>"
            ],
            "text/plain": [
              "          mean     sd  hdi_2.5%  hdi_97.5%  ...  mcse_sd  ess_bulk  ess_tail  r_hat\n",
              "alpha_v  0.314  0.173     0.032      0.645  ...    0.001   22420.0   11510.0    1.0\n",
              "alpha_c  0.339  0.178     0.049      0.668  ...    0.001   21980.0   11964.0    1.0\n",
              "v_irr    0.006  0.002     0.003      0.010  ...    0.000   25963.0   15209.0    1.0\n",
              "c_irr    0.016  0.003     0.011      0.021  ...    0.000   24284.0   14837.0    1.0\n",
              "ve       0.581  0.129     0.331      0.815  ...    0.001   25112.0   15806.0    1.0\n",
              "\n",
              "[5 rows x 9 columns]"
            ]
          },
          "metadata": {}
        },
        {
          "output_type": "stream",
          "name": "stdout",
          "text": [
            "VE: 58.08 +- 12.90\n",
            "95% CI: [27.98207512 78.42889347]\n"
          ]
        }
      ]
    },
    {
      "cell_type": "code",
      "metadata": {
        "colab": {
          "base_uri": "https://localhost:8080/",
          "height": 349
        },
        "id": "KWu-QXe2Bbiz",
        "outputId": "097248c5-c454-4b22-e323-005eb085a0b8"
      },
      "source": [
        "cov003_sdsd = {\"n_v\": 2063,\n",
        "               \"n_c\": 2025,\n",
        "               \"x_v\": 12,\n",
        "               \"x_c\": 33,\n",
        "               \"prob\": 0.95}\n",
        "\n",
        "mod_beta_binomial(**cov003_sdsd)"
      ],
      "execution_count": null,
      "outputs": [
        {
          "output_type": "stream",
          "name": "stderr",
          "text": [
            "Auto-assigning NUTS sampler...\n",
            "Initializing NUTS using jitter+adapt_diag...\n",
            "Multiprocess sampling (4 chains in 4 jobs)\n",
            "NUTS: [c_irr, v_irr, alpha_c, alpha_v]\n"
          ]
        },
        {
          "output_type": "display_data",
          "data": {
            "text/html": [
              "\n",
              "    <div>\n",
              "        <style>\n",
              "            /* Turns off some styling */\n",
              "            progress {\n",
              "                /* gets rid of default border in Firefox and Opera. */\n",
              "                border: none;\n",
              "                /* Needs to be in here for Safari polyfill so background images work as expected. */\n",
              "                background-size: auto;\n",
              "            }\n",
              "            .progress-bar-interrupted, .progress-bar-interrupted::-webkit-progress-bar {\n",
              "                background: #F44336;\n",
              "            }\n",
              "        </style>\n",
              "      <progress value='36000' class='' max='36000' style='width:300px; height:20px; vertical-align: middle;'></progress>\n",
              "      100.00% [36000/36000 00:39<00:00 Sampling 4 chains, 0 divergences]\n",
              "    </div>\n",
              "    "
            ],
            "text/plain": [
              "<IPython.core.display.HTML object>"
            ]
          },
          "metadata": {}
        },
        {
          "output_type": "stream",
          "name": "stderr",
          "text": [
            "Sampling 4 chains for 4_000 tune and 5_000 draw iterations (16_000 + 20_000 draws total) took 40 seconds.\n"
          ]
        },
        {
          "output_type": "display_data",
          "data": {
            "text/html": [
              "<div>\n",
              "<style scoped>\n",
              "    .dataframe tbody tr th:only-of-type {\n",
              "        vertical-align: middle;\n",
              "    }\n",
              "\n",
              "    .dataframe tbody tr th {\n",
              "        vertical-align: top;\n",
              "    }\n",
              "\n",
              "    .dataframe thead th {\n",
              "        text-align: right;\n",
              "    }\n",
              "</style>\n",
              "<table border=\"1\" class=\"dataframe\">\n",
              "  <thead>\n",
              "    <tr style=\"text-align: right;\">\n",
              "      <th></th>\n",
              "      <th>mean</th>\n",
              "      <th>sd</th>\n",
              "      <th>hdi_2.5%</th>\n",
              "      <th>hdi_97.5%</th>\n",
              "      <th>mcse_mean</th>\n",
              "      <th>mcse_sd</th>\n",
              "      <th>ess_bulk</th>\n",
              "      <th>ess_tail</th>\n",
              "      <th>r_hat</th>\n",
              "    </tr>\n",
              "  </thead>\n",
              "  <tbody>\n",
              "    <tr>\n",
              "      <th>alpha_v</th>\n",
              "      <td>0.311</td>\n",
              "      <td>0.174</td>\n",
              "      <td>0.024</td>\n",
              "      <td>0.636</td>\n",
              "      <td>0.001</td>\n",
              "      <td>0.001</td>\n",
              "      <td>18908.0</td>\n",
              "      <td>11526.0</td>\n",
              "      <td>1.0</td>\n",
              "    </tr>\n",
              "    <tr>\n",
              "      <th>alpha_c</th>\n",
              "      <td>0.341</td>\n",
              "      <td>0.177</td>\n",
              "      <td>0.055</td>\n",
              "      <td>0.677</td>\n",
              "      <td>0.001</td>\n",
              "      <td>0.001</td>\n",
              "      <td>24080.0</td>\n",
              "      <td>13174.0</td>\n",
              "      <td>1.0</td>\n",
              "    </tr>\n",
              "    <tr>\n",
              "      <th>v_irr</th>\n",
              "      <td>0.006</td>\n",
              "      <td>0.002</td>\n",
              "      <td>0.003</td>\n",
              "      <td>0.009</td>\n",
              "      <td>0.000</td>\n",
              "      <td>0.000</td>\n",
              "      <td>21713.0</td>\n",
              "      <td>14761.0</td>\n",
              "      <td>1.0</td>\n",
              "    </tr>\n",
              "    <tr>\n",
              "      <th>c_irr</th>\n",
              "      <td>0.016</td>\n",
              "      <td>0.003</td>\n",
              "      <td>0.011</td>\n",
              "      <td>0.022</td>\n",
              "      <td>0.000</td>\n",
              "      <td>0.000</td>\n",
              "      <td>23183.0</td>\n",
              "      <td>15252.0</td>\n",
              "      <td>1.0</td>\n",
              "    </tr>\n",
              "    <tr>\n",
              "      <th>ve</th>\n",
              "      <td>0.626</td>\n",
              "      <td>0.128</td>\n",
              "      <td>0.370</td>\n",
              "      <td>0.844</td>\n",
              "      <td>0.001</td>\n",
              "      <td>0.001</td>\n",
              "      <td>22294.0</td>\n",
              "      <td>14211.0</td>\n",
              "      <td>1.0</td>\n",
              "    </tr>\n",
              "  </tbody>\n",
              "</table>\n",
              "</div>"
            ],
            "text/plain": [
              "          mean     sd  hdi_2.5%  hdi_97.5%  ...  mcse_sd  ess_bulk  ess_tail  r_hat\n",
              "alpha_v  0.311  0.174     0.024      0.636  ...    0.001   18908.0   11526.0    1.0\n",
              "alpha_c  0.341  0.177     0.055      0.677  ...    0.001   24080.0   13174.0    1.0\n",
              "v_irr    0.006  0.002     0.003      0.009  ...    0.000   21713.0   14761.0    1.0\n",
              "c_irr    0.016  0.003     0.011      0.022  ...    0.000   23183.0   15252.0    1.0\n",
              "ve       0.626  0.128     0.370      0.844  ...    0.001   22294.0   14211.0    1.0\n",
              "\n",
              "[5 rows x 9 columns]"
            ]
          },
          "metadata": {}
        },
        {
          "output_type": "stream",
          "name": "stdout",
          "text": [
            "VE: 62.57 +- 12.79\n",
            "95% CI: [33.3189964  82.53157533]\n"
          ]
        }
      ]
    },
    {
      "cell_type": "code",
      "metadata": {
        "colab": {
          "base_uri": "https://localhost:8080/",
          "height": 349
        },
        "id": "hx7P5yDWBbEm",
        "outputId": "ac84f515-ffa7-44bd-ee5d-8a6f1d2d381a"
      },
      "source": [
        "all_sdsd = {\"n_v\": 4440,\n",
        "            \"n_c\": 4455,\n",
        "            \"x_v\": 27,\n",
        "            \"x_c\": 71,\n",
        "            \"prob\": 0.95}\n",
        "\n",
        "mod_beta_binomial(**all_sdsd)"
      ],
      "execution_count": null,
      "outputs": [
        {
          "output_type": "stream",
          "name": "stderr",
          "text": [
            "Auto-assigning NUTS sampler...\n",
            "Initializing NUTS using jitter+adapt_diag...\n",
            "Multiprocess sampling (4 chains in 4 jobs)\n",
            "NUTS: [c_irr, v_irr, alpha_c, alpha_v]\n"
          ]
        },
        {
          "output_type": "display_data",
          "data": {
            "text/html": [
              "\n",
              "    <div>\n",
              "        <style>\n",
              "            /* Turns off some styling */\n",
              "            progress {\n",
              "                /* gets rid of default border in Firefox and Opera. */\n",
              "                border: none;\n",
              "                /* Needs to be in here for Safari polyfill so background images work as expected. */\n",
              "                background-size: auto;\n",
              "            }\n",
              "            .progress-bar-interrupted, .progress-bar-interrupted::-webkit-progress-bar {\n",
              "                background: #F44336;\n",
              "            }\n",
              "        </style>\n",
              "      <progress value='36000' class='' max='36000' style='width:300px; height:20px; vertical-align: middle;'></progress>\n",
              "      100.00% [36000/36000 00:39<00:00 Sampling 4 chains, 0 divergences]\n",
              "    </div>\n",
              "    "
            ],
            "text/plain": [
              "<IPython.core.display.HTML object>"
            ]
          },
          "metadata": {}
        },
        {
          "output_type": "stream",
          "name": "stderr",
          "text": [
            "Sampling 4 chains for 4_000 tune and 5_000 draw iterations (16_000 + 20_000 draws total) took 40 seconds.\n"
          ]
        },
        {
          "output_type": "display_data",
          "data": {
            "text/html": [
              "<div>\n",
              "<style scoped>\n",
              "    .dataframe tbody tr th:only-of-type {\n",
              "        vertical-align: middle;\n",
              "    }\n",
              "\n",
              "    .dataframe tbody tr th {\n",
              "        vertical-align: top;\n",
              "    }\n",
              "\n",
              "    .dataframe thead th {\n",
              "        text-align: right;\n",
              "    }\n",
              "</style>\n",
              "<table border=\"1\" class=\"dataframe\">\n",
              "  <thead>\n",
              "    <tr style=\"text-align: right;\">\n",
              "      <th></th>\n",
              "      <th>mean</th>\n",
              "      <th>sd</th>\n",
              "      <th>hdi_2.5%</th>\n",
              "      <th>hdi_97.5%</th>\n",
              "      <th>mcse_mean</th>\n",
              "      <th>mcse_sd</th>\n",
              "      <th>ess_bulk</th>\n",
              "      <th>ess_tail</th>\n",
              "      <th>r_hat</th>\n",
              "    </tr>\n",
              "  </thead>\n",
              "  <tbody>\n",
              "    <tr>\n",
              "      <th>alpha_v</th>\n",
              "      <td>0.310</td>\n",
              "      <td>0.173</td>\n",
              "      <td>0.020</td>\n",
              "      <td>0.634</td>\n",
              "      <td>0.001</td>\n",
              "      <td>0.001</td>\n",
              "      <td>21399.0</td>\n",
              "      <td>12409.0</td>\n",
              "      <td>1.0</td>\n",
              "    </tr>\n",
              "    <tr>\n",
              "      <th>alpha_c</th>\n",
              "      <td>0.341</td>\n",
              "      <td>0.176</td>\n",
              "      <td>0.046</td>\n",
              "      <td>0.667</td>\n",
              "      <td>0.001</td>\n",
              "      <td>0.001</td>\n",
              "      <td>18697.0</td>\n",
              "      <td>11871.0</td>\n",
              "      <td>1.0</td>\n",
              "    </tr>\n",
              "    <tr>\n",
              "      <th>v_irr</th>\n",
              "      <td>0.006</td>\n",
              "      <td>0.001</td>\n",
              "      <td>0.004</td>\n",
              "      <td>0.008</td>\n",
              "      <td>0.000</td>\n",
              "      <td>0.000</td>\n",
              "      <td>21404.0</td>\n",
              "      <td>13978.0</td>\n",
              "      <td>1.0</td>\n",
              "    </tr>\n",
              "    <tr>\n",
              "      <th>c_irr</th>\n",
              "      <td>0.016</td>\n",
              "      <td>0.002</td>\n",
              "      <td>0.012</td>\n",
              "      <td>0.020</td>\n",
              "      <td>0.000</td>\n",
              "      <td>0.000</td>\n",
              "      <td>26761.0</td>\n",
              "      <td>14413.0</td>\n",
              "      <td>1.0</td>\n",
              "    </tr>\n",
              "    <tr>\n",
              "      <th>ve</th>\n",
              "      <td>0.610</td>\n",
              "      <td>0.089</td>\n",
              "      <td>0.432</td>\n",
              "      <td>0.771</td>\n",
              "      <td>0.001</td>\n",
              "      <td>0.000</td>\n",
              "      <td>22544.0</td>\n",
              "      <td>14006.0</td>\n",
              "      <td>1.0</td>\n",
              "    </tr>\n",
              "  </tbody>\n",
              "</table>\n",
              "</div>"
            ],
            "text/plain": [
              "          mean     sd  hdi_2.5%  hdi_97.5%  ...  mcse_sd  ess_bulk  ess_tail  r_hat\n",
              "alpha_v  0.310  0.173     0.020      0.634  ...    0.001   21399.0   12409.0    1.0\n",
              "alpha_c  0.341  0.176     0.046      0.667  ...    0.001   18697.0   11871.0    1.0\n",
              "v_irr    0.006  0.001     0.004      0.008  ...    0.000   21404.0   13978.0    1.0\n",
              "c_irr    0.016  0.002     0.012      0.020  ...    0.000   26761.0   14413.0    1.0\n",
              "ve       0.610  0.089     0.432      0.771  ...    0.000   22544.0   14006.0    1.0\n",
              "\n",
              "[5 rows x 9 columns]"
            ]
          },
          "metadata": {}
        },
        {
          "output_type": "stream",
          "name": "stdout",
          "text": [
            "VE: 61.01 +- 8.94\n",
            "95% CI: [41.57415798 75.97748531]\n"
          ]
        }
      ]
    },
    {
      "cell_type": "code",
      "metadata": {
        "id": "1tEDRc_tBy_J"
      },
      "source": [
        ""
      ],
      "execution_count": null,
      "outputs": []
    },
    {
      "cell_type": "markdown",
      "source": [
        "# Beta-Binomial"
      ],
      "metadata": {
        "id": "7e5vBQAD497U"
      }
    },
    {
      "cell_type": "code",
      "source": [
        "def beta_binomial(n_v, n_c, x_v, x_c, prob):\n",
        "    l = 0\n",
        "    u = 0.7\n",
        "    betabinom = pm.Model()\n",
        "\n",
        "    with betabinom:\n",
        "        v_irr = pm.Beta(\"v_irr\", alpha=0.020408, beta=1)\n",
        "        c_irr = pm.Beta(\"c_irr\", alpha=0.020408, beta=1)\n",
        "\n",
        "        v_like = pm.Binomial(\"v_like\", n=n_v, p=v_irr, observed=x_v)\n",
        "        c_like = pm.Binomial(\"c_like\", n=n_c, p=c_irr, observed=x_c)\n",
        "\n",
        "        ve = pm.Deterministic(\"ve\", (1-(v_irr/c_irr)))\n",
        "\n",
        "        trace = pm.sample(draws=15000, tune=4000, cores=4, return_inferencedata=False, step=pm.HamiltonianMC())\n",
        "        display(az.summary(trace, hdi_prob=prob))\n",
        "\n",
        "        ve_samp = trace['ve'][20000:]\n",
        "        print(f\"VE: {100*ve_samp.mean():.2f} +- {100*ve_samp.std():.2f}\")\n",
        "        print(f\"95% CI: {mquantiles(100*ve_samp, prob=[(1-prob)/2, (1+prob)/2])}\")"
      ],
      "metadata": {
        "id": "IIK4DWX-4_6g"
      },
      "execution_count": null,
      "outputs": []
    },
    {
      "cell_type": "code",
      "source": [
        "# advi_map\n",
        "ovr = {\"n_v\": 5807,\n",
        "        \"n_c\": 5829,\n",
        "        \"x_v\": 30,\n",
        "        \"x_c\": 101,\n",
        "        \"prob\": 0.958}\n",
        "\n",
        "beta_binomial(**ovr)"
      ],
      "metadata": {
        "colab": {
          "base_uri": "https://localhost:8080/",
          "height": 412
        },
        "id": "jUhRd7d_6IjW",
        "outputId": "0d6e299b-7c35-4116-b561-e0783643ae9d"
      },
      "execution_count": null,
      "outputs": [
        {
          "output_type": "stream",
          "name": "stderr",
          "text": [
            "Auto-assigning NUTS sampler...\n",
            "Initializing NUTS using advi_map...\n"
          ]
        },
        {
          "output_type": "display_data",
          "data": {
            "text/html": [
              "\n",
              "    <div>\n",
              "        <style>\n",
              "            /* Turns off some styling */\n",
              "            progress {\n",
              "                /* gets rid of default border in Firefox and Opera. */\n",
              "                border: none;\n",
              "                /* Needs to be in here for Safari polyfill so background images work as expected. */\n",
              "                background-size: auto;\n",
              "            }\n",
              "            .progress-bar-interrupted, .progress-bar-interrupted::-webkit-progress-bar {\n",
              "                background: #F44336;\n",
              "            }\n",
              "        </style>\n",
              "      <progress value='9' class='' max='9' style='width:300px; height:20px; vertical-align: middle;'></progress>\n",
              "      100.00% [9/9 00:00<00:00 logp = -53.248, ||grad|| = 88.655]\n",
              "    </div>\n",
              "    "
            ],
            "text/plain": [
              "<IPython.core.display.HTML object>"
            ]
          },
          "metadata": {}
        },
        {
          "output_type": "stream",
          "name": "stdout",
          "text": [
            "\n"
          ]
        },
        {
          "output_type": "display_data",
          "data": {
            "text/html": [
              "\n",
              "    <div>\n",
              "        <style>\n",
              "            /* Turns off some styling */\n",
              "            progress {\n",
              "                /* gets rid of default border in Firefox and Opera. */\n",
              "                border: none;\n",
              "                /* Needs to be in here for Safari polyfill so background images work as expected. */\n",
              "                background-size: auto;\n",
              "            }\n",
              "            .progress-bar-interrupted, .progress-bar-interrupted::-webkit-progress-bar {\n",
              "                background: #F44336;\n",
              "            }\n",
              "        </style>\n",
              "      <progress value='7582' class='' max='200000' style='width:300px; height:20px; vertical-align: middle;'></progress>\n",
              "      3.79% [7582/200000 00:00<00:14 Average Loss = 17.614]\n",
              "    </div>\n",
              "    "
            ],
            "text/plain": [
              "<IPython.core.display.HTML object>"
            ]
          },
          "metadata": {}
        },
        {
          "output_type": "stream",
          "name": "stderr",
          "text": [
            "Convergence achieved at 8000\n",
            "Interrupted at 7,999 [3%]: Average Loss = 25.28\n",
            "Multiprocess sampling (4 chains in 4 jobs)\n",
            "NUTS: [c_irr, v_irr]\n"
          ]
        },
        {
          "output_type": "display_data",
          "data": {
            "text/html": [
              "\n",
              "    <div>\n",
              "        <style>\n",
              "            /* Turns off some styling */\n",
              "            progress {\n",
              "                /* gets rid of default border in Firefox and Opera. */\n",
              "                border: none;\n",
              "                /* Needs to be in here for Safari polyfill so background images work as expected. */\n",
              "                background-size: auto;\n",
              "            }\n",
              "            .progress-bar-interrupted, .progress-bar-interrupted::-webkit-progress-bar {\n",
              "                background: #F44336;\n",
              "            }\n",
              "        </style>\n",
              "      <progress value='36000' class='' max='36000' style='width:300px; height:20px; vertical-align: middle;'></progress>\n",
              "      100.00% [36000/36000 00:25<00:00 Sampling 4 chains, 0 divergences]\n",
              "    </div>\n",
              "    "
            ],
            "text/plain": [
              "<IPython.core.display.HTML object>"
            ]
          },
          "metadata": {}
        },
        {
          "output_type": "stream",
          "name": "stderr",
          "text": [
            "Sampling 4 chains for 4_000 tune and 5_000 draw iterations (16_000 + 20_000 draws total) took 26 seconds.\n"
          ]
        },
        {
          "output_type": "display_data",
          "data": {
            "text/html": [
              "\n",
              "  <div id=\"df-acffadc2-23d2-44d8-ad63-9972e92fc845\">\n",
              "    <div class=\"colab-df-container\">\n",
              "      <div>\n",
              "<style scoped>\n",
              "    .dataframe tbody tr th:only-of-type {\n",
              "        vertical-align: middle;\n",
              "    }\n",
              "\n",
              "    .dataframe tbody tr th {\n",
              "        vertical-align: top;\n",
              "    }\n",
              "\n",
              "    .dataframe thead th {\n",
              "        text-align: right;\n",
              "    }\n",
              "</style>\n",
              "<table border=\"1\" class=\"dataframe\">\n",
              "  <thead>\n",
              "    <tr style=\"text-align: right;\">\n",
              "      <th></th>\n",
              "      <th>mean</th>\n",
              "      <th>sd</th>\n",
              "      <th>hdi_2.1%</th>\n",
              "      <th>hdi_97.9%</th>\n",
              "      <th>mcse_mean</th>\n",
              "      <th>mcse_sd</th>\n",
              "      <th>ess_bulk</th>\n",
              "      <th>ess_tail</th>\n",
              "      <th>r_hat</th>\n",
              "    </tr>\n",
              "  </thead>\n",
              "  <tbody>\n",
              "    <tr>\n",
              "      <th>v_irr</th>\n",
              "      <td>0.005</td>\n",
              "      <td>0.001</td>\n",
              "      <td>0.003</td>\n",
              "      <td>0.007</td>\n",
              "      <td>0.000</td>\n",
              "      <td>0.0</td>\n",
              "      <td>12717.0</td>\n",
              "      <td>10077.0</td>\n",
              "      <td>1.0</td>\n",
              "    </tr>\n",
              "    <tr>\n",
              "      <th>c_irr</th>\n",
              "      <td>0.017</td>\n",
              "      <td>0.002</td>\n",
              "      <td>0.014</td>\n",
              "      <td>0.021</td>\n",
              "      <td>0.000</td>\n",
              "      <td>0.0</td>\n",
              "      <td>14003.0</td>\n",
              "      <td>14103.0</td>\n",
              "      <td>1.0</td>\n",
              "    </tr>\n",
              "    <tr>\n",
              "      <th>ve</th>\n",
              "      <td>0.698</td>\n",
              "      <td>0.064</td>\n",
              "      <td>0.565</td>\n",
              "      <td>0.821</td>\n",
              "      <td>0.001</td>\n",
              "      <td>0.0</td>\n",
              "      <td>12830.0</td>\n",
              "      <td>11728.0</td>\n",
              "      <td>1.0</td>\n",
              "    </tr>\n",
              "  </tbody>\n",
              "</table>\n",
              "</div>\n",
              "      <button class=\"colab-df-convert\" onclick=\"convertToInteractive('df-acffadc2-23d2-44d8-ad63-9972e92fc845')\"\n",
              "              title=\"Convert this dataframe to an interactive table.\"\n",
              "              style=\"display:none;\">\n",
              "        \n",
              "  <svg xmlns=\"http://www.w3.org/2000/svg\" height=\"24px\"viewBox=\"0 0 24 24\"\n",
              "       width=\"24px\">\n",
              "    <path d=\"M0 0h24v24H0V0z\" fill=\"none\"/>\n",
              "    <path d=\"M18.56 5.44l.94 2.06.94-2.06 2.06-.94-2.06-.94-.94-2.06-.94 2.06-2.06.94zm-11 1L8.5 8.5l.94-2.06 2.06-.94-2.06-.94L8.5 2.5l-.94 2.06-2.06.94zm10 10l.94 2.06.94-2.06 2.06-.94-2.06-.94-.94-2.06-.94 2.06-2.06.94z\"/><path d=\"M17.41 7.96l-1.37-1.37c-.4-.4-.92-.59-1.43-.59-.52 0-1.04.2-1.43.59L10.3 9.45l-7.72 7.72c-.78.78-.78 2.05 0 2.83L4 21.41c.39.39.9.59 1.41.59.51 0 1.02-.2 1.41-.59l7.78-7.78 2.81-2.81c.8-.78.8-2.07 0-2.86zM5.41 20L4 18.59l7.72-7.72 1.47 1.35L5.41 20z\"/>\n",
              "  </svg>\n",
              "      </button>\n",
              "      \n",
              "  <style>\n",
              "    .colab-df-container {\n",
              "      display:flex;\n",
              "      flex-wrap:wrap;\n",
              "      gap: 12px;\n",
              "    }\n",
              "\n",
              "    .colab-df-convert {\n",
              "      background-color: #E8F0FE;\n",
              "      border: none;\n",
              "      border-radius: 50%;\n",
              "      cursor: pointer;\n",
              "      display: none;\n",
              "      fill: #1967D2;\n",
              "      height: 32px;\n",
              "      padding: 0 0 0 0;\n",
              "      width: 32px;\n",
              "    }\n",
              "\n",
              "    .colab-df-convert:hover {\n",
              "      background-color: #E2EBFA;\n",
              "      box-shadow: 0px 1px 2px rgba(60, 64, 67, 0.3), 0px 1px 3px 1px rgba(60, 64, 67, 0.15);\n",
              "      fill: #174EA6;\n",
              "    }\n",
              "\n",
              "    [theme=dark] .colab-df-convert {\n",
              "      background-color: #3B4455;\n",
              "      fill: #D2E3FC;\n",
              "    }\n",
              "\n",
              "    [theme=dark] .colab-df-convert:hover {\n",
              "      background-color: #434B5C;\n",
              "      box-shadow: 0px 1px 3px 1px rgba(0, 0, 0, 0.15);\n",
              "      filter: drop-shadow(0px 1px 2px rgba(0, 0, 0, 0.3));\n",
              "      fill: #FFFFFF;\n",
              "    }\n",
              "  </style>\n",
              "\n",
              "      <script>\n",
              "        const buttonEl =\n",
              "          document.querySelector('#df-acffadc2-23d2-44d8-ad63-9972e92fc845 button.colab-df-convert');\n",
              "        buttonEl.style.display =\n",
              "          google.colab.kernel.accessAllowed ? 'block' : 'none';\n",
              "\n",
              "        async function convertToInteractive(key) {\n",
              "          const element = document.querySelector('#df-acffadc2-23d2-44d8-ad63-9972e92fc845');\n",
              "          const dataTable =\n",
              "            await google.colab.kernel.invokeFunction('convertToInteractive',\n",
              "                                                     [key], {});\n",
              "          if (!dataTable) return;\n",
              "\n",
              "          const docLinkHtml = 'Like what you see? Visit the ' +\n",
              "            '<a target=\"_blank\" href=https://colab.research.google.com/notebooks/data_table.ipynb>data table notebook</a>'\n",
              "            + ' to learn more about interactive tables.';\n",
              "          element.innerHTML = '';\n",
              "          dataTable['output_type'] = 'display_data';\n",
              "          await google.colab.output.renderOutput(dataTable, element);\n",
              "          const docLink = document.createElement('div');\n",
              "          docLink.innerHTML = docLinkHtml;\n",
              "          element.appendChild(docLink);\n",
              "        }\n",
              "      </script>\n",
              "    </div>\n",
              "  </div>\n",
              "  "
            ],
            "text/plain": [
              "        mean     sd  hdi_2.1%  hdi_97.9%  ...  mcse_sd  ess_bulk  ess_tail  r_hat\n",
              "v_irr  0.005  0.001     0.003      0.007  ...      0.0   12717.0   10077.0    1.0\n",
              "c_irr  0.017  0.002     0.014      0.021  ...      0.0   14003.0   14103.0    1.0\n",
              "ve     0.698  0.064     0.565      0.821  ...      0.0   12830.0   11728.0    1.0\n",
              "\n",
              "[3 rows x 9 columns]"
            ]
          },
          "metadata": {}
        },
        {
          "output_type": "stream",
          "name": "stdout",
          "text": [
            "VE: 69.80 +- 6.42\n",
            "95% CI: [55.03365533 80.95972176]\n"
          ]
        }
      ]
    },
    {
      "cell_type": "code",
      "source": [
        "# advi+adapt_diag\n",
        "\n",
        "ovr = {\"n_v\": 5807,\n",
        "        \"n_c\": 5829,\n",
        "        \"x_v\": 30,\n",
        "        \"x_c\": 101,\n",
        "        \"prob\": 0.958}\n",
        "\n",
        "beta_binomial(**ovr)"
      ],
      "metadata": {
        "colab": {
          "base_uri": "https://localhost:8080/",
          "height": 346
        },
        "id": "GYpgD8nB6O16",
        "outputId": "5f385150-6214-41ba-ce1d-5a6e5a8b107b"
      },
      "execution_count": null,
      "outputs": [
        {
          "output_type": "stream",
          "name": "stderr",
          "text": [
            "Auto-assigning NUTS sampler...\n",
            "Initializing NUTS using advi+adapt_diag...\n"
          ]
        },
        {
          "output_type": "display_data",
          "data": {
            "text/html": [
              "\n",
              "    <div>\n",
              "        <style>\n",
              "            /* Turns off some styling */\n",
              "            progress {\n",
              "                /* gets rid of default border in Firefox and Opera. */\n",
              "                border: none;\n",
              "                /* Needs to be in here for Safari polyfill so background images work as expected. */\n",
              "                background-size: auto;\n",
              "            }\n",
              "            .progress-bar-interrupted, .progress-bar-interrupted::-webkit-progress-bar {\n",
              "                background: #F44336;\n",
              "            }\n",
              "        </style>\n",
              "      <progress value='7286' class='' max='200000' style='width:300px; height:20px; vertical-align: middle;'></progress>\n",
              "      3.64% [7286/200000 00:01<00:32 Average Loss = 18.189]\n",
              "    </div>\n",
              "    "
            ],
            "text/plain": [
              "<IPython.core.display.HTML object>"
            ]
          },
          "metadata": {}
        },
        {
          "output_type": "stream",
          "name": "stderr",
          "text": [
            "Convergence achieved at 7900\n",
            "Interrupted at 7,899 [3%]: Average Loss = 39.917\n",
            "Multiprocess sampling (4 chains in 4 jobs)\n",
            "NUTS: [c_irr, v_irr]\n"
          ]
        },
        {
          "output_type": "display_data",
          "data": {
            "text/html": [
              "\n",
              "    <div>\n",
              "        <style>\n",
              "            /* Turns off some styling */\n",
              "            progress {\n",
              "                /* gets rid of default border in Firefox and Opera. */\n",
              "                border: none;\n",
              "                /* Needs to be in here for Safari polyfill so background images work as expected. */\n",
              "                background-size: auto;\n",
              "            }\n",
              "            .progress-bar-interrupted, .progress-bar-interrupted::-webkit-progress-bar {\n",
              "                background: #F44336;\n",
              "            }\n",
              "        </style>\n",
              "      <progress value='36000' class='' max='36000' style='width:300px; height:20px; vertical-align: middle;'></progress>\n",
              "      100.00% [36000/36000 00:26<00:00 Sampling 4 chains, 0 divergences]\n",
              "    </div>\n",
              "    "
            ],
            "text/plain": [
              "<IPython.core.display.HTML object>"
            ]
          },
          "metadata": {}
        },
        {
          "output_type": "stream",
          "name": "stderr",
          "text": [
            "Sampling 4 chains for 4_000 tune and 5_000 draw iterations (16_000 + 20_000 draws total) took 27 seconds.\n"
          ]
        },
        {
          "output_type": "display_data",
          "data": {
            "text/html": [
              "\n",
              "  <div id=\"df-cc0a41a3-d238-4d4a-84d0-1eb781aebef7\">\n",
              "    <div class=\"colab-df-container\">\n",
              "      <div>\n",
              "<style scoped>\n",
              "    .dataframe tbody tr th:only-of-type {\n",
              "        vertical-align: middle;\n",
              "    }\n",
              "\n",
              "    .dataframe tbody tr th {\n",
              "        vertical-align: top;\n",
              "    }\n",
              "\n",
              "    .dataframe thead th {\n",
              "        text-align: right;\n",
              "    }\n",
              "</style>\n",
              "<table border=\"1\" class=\"dataframe\">\n",
              "  <thead>\n",
              "    <tr style=\"text-align: right;\">\n",
              "      <th></th>\n",
              "      <th>mean</th>\n",
              "      <th>sd</th>\n",
              "      <th>hdi_2.1%</th>\n",
              "      <th>hdi_97.9%</th>\n",
              "      <th>mcse_mean</th>\n",
              "      <th>mcse_sd</th>\n",
              "      <th>ess_bulk</th>\n",
              "      <th>ess_tail</th>\n",
              "      <th>r_hat</th>\n",
              "    </tr>\n",
              "  </thead>\n",
              "  <tbody>\n",
              "    <tr>\n",
              "      <th>v_irr</th>\n",
              "      <td>0.005</td>\n",
              "      <td>0.001</td>\n",
              "      <td>0.003</td>\n",
              "      <td>0.007</td>\n",
              "      <td>0.0</td>\n",
              "      <td>0.0</td>\n",
              "      <td>17797.0</td>\n",
              "      <td>13906.0</td>\n",
              "      <td>1.0</td>\n",
              "    </tr>\n",
              "    <tr>\n",
              "      <th>c_irr</th>\n",
              "      <td>0.017</td>\n",
              "      <td>0.002</td>\n",
              "      <td>0.014</td>\n",
              "      <td>0.021</td>\n",
              "      <td>0.0</td>\n",
              "      <td>0.0</td>\n",
              "      <td>16863.0</td>\n",
              "      <td>14039.0</td>\n",
              "      <td>1.0</td>\n",
              "    </tr>\n",
              "    <tr>\n",
              "      <th>ve</th>\n",
              "      <td>0.698</td>\n",
              "      <td>0.064</td>\n",
              "      <td>0.569</td>\n",
              "      <td>0.822</td>\n",
              "      <td>0.0</td>\n",
              "      <td>0.0</td>\n",
              "      <td>17980.0</td>\n",
              "      <td>14009.0</td>\n",
              "      <td>1.0</td>\n",
              "    </tr>\n",
              "  </tbody>\n",
              "</table>\n",
              "</div>\n",
              "      <button class=\"colab-df-convert\" onclick=\"convertToInteractive('df-cc0a41a3-d238-4d4a-84d0-1eb781aebef7')\"\n",
              "              title=\"Convert this dataframe to an interactive table.\"\n",
              "              style=\"display:none;\">\n",
              "        \n",
              "  <svg xmlns=\"http://www.w3.org/2000/svg\" height=\"24px\"viewBox=\"0 0 24 24\"\n",
              "       width=\"24px\">\n",
              "    <path d=\"M0 0h24v24H0V0z\" fill=\"none\"/>\n",
              "    <path d=\"M18.56 5.44l.94 2.06.94-2.06 2.06-.94-2.06-.94-.94-2.06-.94 2.06-2.06.94zm-11 1L8.5 8.5l.94-2.06 2.06-.94-2.06-.94L8.5 2.5l-.94 2.06-2.06.94zm10 10l.94 2.06.94-2.06 2.06-.94-2.06-.94-.94-2.06-.94 2.06-2.06.94z\"/><path d=\"M17.41 7.96l-1.37-1.37c-.4-.4-.92-.59-1.43-.59-.52 0-1.04.2-1.43.59L10.3 9.45l-7.72 7.72c-.78.78-.78 2.05 0 2.83L4 21.41c.39.39.9.59 1.41.59.51 0 1.02-.2 1.41-.59l7.78-7.78 2.81-2.81c.8-.78.8-2.07 0-2.86zM5.41 20L4 18.59l7.72-7.72 1.47 1.35L5.41 20z\"/>\n",
              "  </svg>\n",
              "      </button>\n",
              "      \n",
              "  <style>\n",
              "    .colab-df-container {\n",
              "      display:flex;\n",
              "      flex-wrap:wrap;\n",
              "      gap: 12px;\n",
              "    }\n",
              "\n",
              "    .colab-df-convert {\n",
              "      background-color: #E8F0FE;\n",
              "      border: none;\n",
              "      border-radius: 50%;\n",
              "      cursor: pointer;\n",
              "      display: none;\n",
              "      fill: #1967D2;\n",
              "      height: 32px;\n",
              "      padding: 0 0 0 0;\n",
              "      width: 32px;\n",
              "    }\n",
              "\n",
              "    .colab-df-convert:hover {\n",
              "      background-color: #E2EBFA;\n",
              "      box-shadow: 0px 1px 2px rgba(60, 64, 67, 0.3), 0px 1px 3px 1px rgba(60, 64, 67, 0.15);\n",
              "      fill: #174EA6;\n",
              "    }\n",
              "\n",
              "    [theme=dark] .colab-df-convert {\n",
              "      background-color: #3B4455;\n",
              "      fill: #D2E3FC;\n",
              "    }\n",
              "\n",
              "    [theme=dark] .colab-df-convert:hover {\n",
              "      background-color: #434B5C;\n",
              "      box-shadow: 0px 1px 3px 1px rgba(0, 0, 0, 0.15);\n",
              "      filter: drop-shadow(0px 1px 2px rgba(0, 0, 0, 0.3));\n",
              "      fill: #FFFFFF;\n",
              "    }\n",
              "  </style>\n",
              "\n",
              "      <script>\n",
              "        const buttonEl =\n",
              "          document.querySelector('#df-cc0a41a3-d238-4d4a-84d0-1eb781aebef7 button.colab-df-convert');\n",
              "        buttonEl.style.display =\n",
              "          google.colab.kernel.accessAllowed ? 'block' : 'none';\n",
              "\n",
              "        async function convertToInteractive(key) {\n",
              "          const element = document.querySelector('#df-cc0a41a3-d238-4d4a-84d0-1eb781aebef7');\n",
              "          const dataTable =\n",
              "            await google.colab.kernel.invokeFunction('convertToInteractive',\n",
              "                                                     [key], {});\n",
              "          if (!dataTable) return;\n",
              "\n",
              "          const docLinkHtml = 'Like what you see? Visit the ' +\n",
              "            '<a target=\"_blank\" href=https://colab.research.google.com/notebooks/data_table.ipynb>data table notebook</a>'\n",
              "            + ' to learn more about interactive tables.';\n",
              "          element.innerHTML = '';\n",
              "          dataTable['output_type'] = 'display_data';\n",
              "          await google.colab.output.renderOutput(dataTable, element);\n",
              "          const docLink = document.createElement('div');\n",
              "          docLink.innerHTML = docLinkHtml;\n",
              "          element.appendChild(docLink);\n",
              "        }\n",
              "      </script>\n",
              "    </div>\n",
              "  </div>\n",
              "  "
            ],
            "text/plain": [
              "        mean     sd  hdi_2.1%  hdi_97.9%  ...  mcse_sd  ess_bulk  ess_tail  r_hat\n",
              "v_irr  0.005  0.001     0.003      0.007  ...      0.0   17797.0   13906.0    1.0\n",
              "c_irr  0.017  0.002     0.014      0.021  ...      0.0   16863.0   14039.0    1.0\n",
              "ve     0.698  0.064     0.569      0.822  ...      0.0   17980.0   14009.0    1.0\n",
              "\n",
              "[3 rows x 9 columns]"
            ]
          },
          "metadata": {}
        },
        {
          "output_type": "stream",
          "name": "stdout",
          "text": [
            "VE: 69.80 +- 6.35\n",
            "95% CI: [55.13655929 81.02824908]\n"
          ]
        }
      ]
    },
    {
      "cell_type": "code",
      "source": [
        "# hamiltonian_mc\n",
        "\n",
        "ovr = {\"n_v\": 5807,\n",
        "        \"n_c\": 5829,\n",
        "        \"x_v\": 30,\n",
        "        \"x_c\": 101,\n",
        "        \"prob\": 0.958}\n",
        "\n",
        "beta_binomial(**ovr)"
      ],
      "metadata": {
        "colab": {
          "base_uri": "https://localhost:8080/",
          "height": 254
        },
        "id": "xhIDlV4y7gDo",
        "outputId": "6264a9b3-47e8-44c7-c584-9da0c086ad17"
      },
      "execution_count": null,
      "outputs": [
        {
          "output_type": "stream",
          "name": "stderr",
          "text": [
            "Multiprocess sampling (4 chains in 4 jobs)\n",
            "HamiltonianMC: [c_irr, v_irr]\n"
          ]
        },
        {
          "output_type": "display_data",
          "data": {
            "text/html": [
              "\n",
              "    <div>\n",
              "        <style>\n",
              "            /* Turns off some styling */\n",
              "            progress {\n",
              "                /* gets rid of default border in Firefox and Opera. */\n",
              "                border: none;\n",
              "                /* Needs to be in here for Safari polyfill so background images work as expected. */\n",
              "                background-size: auto;\n",
              "            }\n",
              "            .progress-bar-interrupted, .progress-bar-interrupted::-webkit-progress-bar {\n",
              "                background: #F44336;\n",
              "            }\n",
              "        </style>\n",
              "      <progress value='76000' class='' max='76000' style='width:300px; height:20px; vertical-align: middle;'></progress>\n",
              "      100.00% [76000/76000 00:38<00:00 Sampling 4 chains, 0 divergences]\n",
              "    </div>\n",
              "    "
            ],
            "text/plain": [
              "<IPython.core.display.HTML object>"
            ]
          },
          "metadata": {}
        },
        {
          "output_type": "stream",
          "name": "stderr",
          "text": [
            "Sampling 4 chains for 4_000 tune and 15_000 draw iterations (16_000 + 60_000 draws total) took 39 seconds.\n"
          ]
        },
        {
          "output_type": "display_data",
          "data": {
            "text/html": [
              "\n",
              "  <div id=\"df-98b986e4-60c1-4910-8535-deea541f3eb1\">\n",
              "    <div class=\"colab-df-container\">\n",
              "      <div>\n",
              "<style scoped>\n",
              "    .dataframe tbody tr th:only-of-type {\n",
              "        vertical-align: middle;\n",
              "    }\n",
              "\n",
              "    .dataframe tbody tr th {\n",
              "        vertical-align: top;\n",
              "    }\n",
              "\n",
              "    .dataframe thead th {\n",
              "        text-align: right;\n",
              "    }\n",
              "</style>\n",
              "<table border=\"1\" class=\"dataframe\">\n",
              "  <thead>\n",
              "    <tr style=\"text-align: right;\">\n",
              "      <th></th>\n",
              "      <th>mean</th>\n",
              "      <th>sd</th>\n",
              "      <th>hdi_2.1%</th>\n",
              "      <th>hdi_97.9%</th>\n",
              "      <th>mcse_mean</th>\n",
              "      <th>mcse_sd</th>\n",
              "      <th>ess_bulk</th>\n",
              "      <th>ess_tail</th>\n",
              "      <th>r_hat</th>\n",
              "    </tr>\n",
              "  </thead>\n",
              "  <tbody>\n",
              "    <tr>\n",
              "      <th>v_irr</th>\n",
              "      <td>0.005</td>\n",
              "      <td>0.001</td>\n",
              "      <td>0.003</td>\n",
              "      <td>0.007</td>\n",
              "      <td>0.0</td>\n",
              "      <td>0.0</td>\n",
              "      <td>31090.0</td>\n",
              "      <td>34282.0</td>\n",
              "      <td>1.0</td>\n",
              "    </tr>\n",
              "    <tr>\n",
              "      <th>c_irr</th>\n",
              "      <td>0.017</td>\n",
              "      <td>0.002</td>\n",
              "      <td>0.014</td>\n",
              "      <td>0.021</td>\n",
              "      <td>0.0</td>\n",
              "      <td>0.0</td>\n",
              "      <td>33737.0</td>\n",
              "      <td>36901.0</td>\n",
              "      <td>1.0</td>\n",
              "    </tr>\n",
              "    <tr>\n",
              "      <th>ve</th>\n",
              "      <td>0.698</td>\n",
              "      <td>0.063</td>\n",
              "      <td>0.564</td>\n",
              "      <td>0.816</td>\n",
              "      <td>0.0</td>\n",
              "      <td>0.0</td>\n",
              "      <td>31303.0</td>\n",
              "      <td>33554.0</td>\n",
              "      <td>1.0</td>\n",
              "    </tr>\n",
              "  </tbody>\n",
              "</table>\n",
              "</div>\n",
              "      <button class=\"colab-df-convert\" onclick=\"convertToInteractive('df-98b986e4-60c1-4910-8535-deea541f3eb1')\"\n",
              "              title=\"Convert this dataframe to an interactive table.\"\n",
              "              style=\"display:none;\">\n",
              "        \n",
              "  <svg xmlns=\"http://www.w3.org/2000/svg\" height=\"24px\"viewBox=\"0 0 24 24\"\n",
              "       width=\"24px\">\n",
              "    <path d=\"M0 0h24v24H0V0z\" fill=\"none\"/>\n",
              "    <path d=\"M18.56 5.44l.94 2.06.94-2.06 2.06-.94-2.06-.94-.94-2.06-.94 2.06-2.06.94zm-11 1L8.5 8.5l.94-2.06 2.06-.94-2.06-.94L8.5 2.5l-.94 2.06-2.06.94zm10 10l.94 2.06.94-2.06 2.06-.94-2.06-.94-.94-2.06-.94 2.06-2.06.94z\"/><path d=\"M17.41 7.96l-1.37-1.37c-.4-.4-.92-.59-1.43-.59-.52 0-1.04.2-1.43.59L10.3 9.45l-7.72 7.72c-.78.78-.78 2.05 0 2.83L4 21.41c.39.39.9.59 1.41.59.51 0 1.02-.2 1.41-.59l7.78-7.78 2.81-2.81c.8-.78.8-2.07 0-2.86zM5.41 20L4 18.59l7.72-7.72 1.47 1.35L5.41 20z\"/>\n",
              "  </svg>\n",
              "      </button>\n",
              "      \n",
              "  <style>\n",
              "    .colab-df-container {\n",
              "      display:flex;\n",
              "      flex-wrap:wrap;\n",
              "      gap: 12px;\n",
              "    }\n",
              "\n",
              "    .colab-df-convert {\n",
              "      background-color: #E8F0FE;\n",
              "      border: none;\n",
              "      border-radius: 50%;\n",
              "      cursor: pointer;\n",
              "      display: none;\n",
              "      fill: #1967D2;\n",
              "      height: 32px;\n",
              "      padding: 0 0 0 0;\n",
              "      width: 32px;\n",
              "    }\n",
              "\n",
              "    .colab-df-convert:hover {\n",
              "      background-color: #E2EBFA;\n",
              "      box-shadow: 0px 1px 2px rgba(60, 64, 67, 0.3), 0px 1px 3px 1px rgba(60, 64, 67, 0.15);\n",
              "      fill: #174EA6;\n",
              "    }\n",
              "\n",
              "    [theme=dark] .colab-df-convert {\n",
              "      background-color: #3B4455;\n",
              "      fill: #D2E3FC;\n",
              "    }\n",
              "\n",
              "    [theme=dark] .colab-df-convert:hover {\n",
              "      background-color: #434B5C;\n",
              "      box-shadow: 0px 1px 3px 1px rgba(0, 0, 0, 0.15);\n",
              "      filter: drop-shadow(0px 1px 2px rgba(0, 0, 0, 0.3));\n",
              "      fill: #FFFFFF;\n",
              "    }\n",
              "  </style>\n",
              "\n",
              "      <script>\n",
              "        const buttonEl =\n",
              "          document.querySelector('#df-98b986e4-60c1-4910-8535-deea541f3eb1 button.colab-df-convert');\n",
              "        buttonEl.style.display =\n",
              "          google.colab.kernel.accessAllowed ? 'block' : 'none';\n",
              "\n",
              "        async function convertToInteractive(key) {\n",
              "          const element = document.querySelector('#df-98b986e4-60c1-4910-8535-deea541f3eb1');\n",
              "          const dataTable =\n",
              "            await google.colab.kernel.invokeFunction('convertToInteractive',\n",
              "                                                     [key], {});\n",
              "          if (!dataTable) return;\n",
              "\n",
              "          const docLinkHtml = 'Like what you see? Visit the ' +\n",
              "            '<a target=\"_blank\" href=https://colab.research.google.com/notebooks/data_table.ipynb>data table notebook</a>'\n",
              "            + ' to learn more about interactive tables.';\n",
              "          element.innerHTML = '';\n",
              "          dataTable['output_type'] = 'display_data';\n",
              "          await google.colab.output.renderOutput(dataTable, element);\n",
              "          const docLink = document.createElement('div');\n",
              "          docLink.innerHTML = docLinkHtml;\n",
              "          element.appendChild(docLink);\n",
              "        }\n",
              "      </script>\n",
              "    </div>\n",
              "  </div>\n",
              "  "
            ],
            "text/plain": [
              "        mean     sd  hdi_2.1%  hdi_97.9%  ...  mcse_sd  ess_bulk  ess_tail  r_hat\n",
              "v_irr  0.005  0.001     0.003      0.007  ...      0.0   31090.0   34282.0    1.0\n",
              "c_irr  0.017  0.002     0.014      0.021  ...      0.0   33737.0   36901.0    1.0\n",
              "ve     0.698  0.063     0.564      0.816  ...      0.0   31303.0   33554.0    1.0\n",
              "\n",
              "[3 rows x 9 columns]"
            ]
          },
          "metadata": {}
        },
        {
          "output_type": "stream",
          "name": "stdout",
          "text": [
            "VE: 69.83 +- 6.28\n",
            "95% CI: [55.29922197 80.82648689]\n"
          ]
        }
      ]
    },
    {
      "cell_type": "code",
      "source": [
        "# slice\n",
        "\n",
        "ovr = {\"n_v\": 5807,\n",
        "        \"n_c\": 5829,\n",
        "        \"x_v\": 30,\n",
        "        \"x_c\": 101,\n",
        "        \"prob\": 0.958}\n",
        "\n",
        "beta_binomial(**ovr)"
      ],
      "metadata": {
        "colab": {
          "base_uri": "https://localhost:8080/",
          "height": 290
        },
        "id": "MYPgZ2IQ9cir",
        "outputId": "bf5ad614-7d06-4ccb-f8f9-e0aab3827983"
      },
      "execution_count": null,
      "outputs": [
        {
          "output_type": "stream",
          "name": "stderr",
          "text": [
            "Multiprocess sampling (4 chains in 4 jobs)\n",
            "CompoundStep\n",
            ">Slice: [c_irr]\n",
            ">Slice: [v_irr]\n"
          ]
        },
        {
          "output_type": "display_data",
          "data": {
            "text/html": [
              "\n",
              "    <div>\n",
              "        <style>\n",
              "            /* Turns off some styling */\n",
              "            progress {\n",
              "                /* gets rid of default border in Firefox and Opera. */\n",
              "                border: none;\n",
              "                /* Needs to be in here for Safari polyfill so background images work as expected. */\n",
              "                background-size: auto;\n",
              "            }\n",
              "            .progress-bar-interrupted, .progress-bar-interrupted::-webkit-progress-bar {\n",
              "                background: #F44336;\n",
              "            }\n",
              "        </style>\n",
              "      <progress value='76000' class='' max='76000' style='width:300px; height:20px; vertical-align: middle;'></progress>\n",
              "      100.00% [76000/76000 01:08<00:00 Sampling 4 chains, 0 divergences]\n",
              "    </div>\n",
              "    "
            ],
            "text/plain": [
              "<IPython.core.display.HTML object>"
            ]
          },
          "metadata": {}
        },
        {
          "output_type": "stream",
          "name": "stderr",
          "text": [
            "Sampling 4 chains for 4_000 tune and 15_000 draw iterations (16_000 + 60_000 draws total) took 70 seconds.\n"
          ]
        },
        {
          "output_type": "display_data",
          "data": {
            "text/html": [
              "\n",
              "  <div id=\"df-43ec1183-e6b1-41ba-ac9c-3b5011e02f12\">\n",
              "    <div class=\"colab-df-container\">\n",
              "      <div>\n",
              "<style scoped>\n",
              "    .dataframe tbody tr th:only-of-type {\n",
              "        vertical-align: middle;\n",
              "    }\n",
              "\n",
              "    .dataframe tbody tr th {\n",
              "        vertical-align: top;\n",
              "    }\n",
              "\n",
              "    .dataframe thead th {\n",
              "        text-align: right;\n",
              "    }\n",
              "</style>\n",
              "<table border=\"1\" class=\"dataframe\">\n",
              "  <thead>\n",
              "    <tr style=\"text-align: right;\">\n",
              "      <th></th>\n",
              "      <th>mean</th>\n",
              "      <th>sd</th>\n",
              "      <th>hdi_2.1%</th>\n",
              "      <th>hdi_97.9%</th>\n",
              "      <th>mcse_mean</th>\n",
              "      <th>mcse_sd</th>\n",
              "      <th>ess_bulk</th>\n",
              "      <th>ess_tail</th>\n",
              "      <th>r_hat</th>\n",
              "    </tr>\n",
              "  </thead>\n",
              "  <tbody>\n",
              "    <tr>\n",
              "      <th>v_irr</th>\n",
              "      <td>0.005</td>\n",
              "      <td>0.001</td>\n",
              "      <td>0.003</td>\n",
              "      <td>0.007</td>\n",
              "      <td>0.0</td>\n",
              "      <td>0.0</td>\n",
              "      <td>59038.0</td>\n",
              "      <td>43609.0</td>\n",
              "      <td>1.0</td>\n",
              "    </tr>\n",
              "    <tr>\n",
              "      <th>c_irr</th>\n",
              "      <td>0.017</td>\n",
              "      <td>0.002</td>\n",
              "      <td>0.014</td>\n",
              "      <td>0.021</td>\n",
              "      <td>0.0</td>\n",
              "      <td>0.0</td>\n",
              "      <td>60937.0</td>\n",
              "      <td>44084.0</td>\n",
              "      <td>1.0</td>\n",
              "    </tr>\n",
              "    <tr>\n",
              "      <th>ve</th>\n",
              "      <td>0.699</td>\n",
              "      <td>0.063</td>\n",
              "      <td>0.566</td>\n",
              "      <td>0.817</td>\n",
              "      <td>0.0</td>\n",
              "      <td>0.0</td>\n",
              "      <td>58960.0</td>\n",
              "      <td>49075.0</td>\n",
              "      <td>1.0</td>\n",
              "    </tr>\n",
              "  </tbody>\n",
              "</table>\n",
              "</div>\n",
              "      <button class=\"colab-df-convert\" onclick=\"convertToInteractive('df-43ec1183-e6b1-41ba-ac9c-3b5011e02f12')\"\n",
              "              title=\"Convert this dataframe to an interactive table.\"\n",
              "              style=\"display:none;\">\n",
              "        \n",
              "  <svg xmlns=\"http://www.w3.org/2000/svg\" height=\"24px\"viewBox=\"0 0 24 24\"\n",
              "       width=\"24px\">\n",
              "    <path d=\"M0 0h24v24H0V0z\" fill=\"none\"/>\n",
              "    <path d=\"M18.56 5.44l.94 2.06.94-2.06 2.06-.94-2.06-.94-.94-2.06-.94 2.06-2.06.94zm-11 1L8.5 8.5l.94-2.06 2.06-.94-2.06-.94L8.5 2.5l-.94 2.06-2.06.94zm10 10l.94 2.06.94-2.06 2.06-.94-2.06-.94-.94-2.06-.94 2.06-2.06.94z\"/><path d=\"M17.41 7.96l-1.37-1.37c-.4-.4-.92-.59-1.43-.59-.52 0-1.04.2-1.43.59L10.3 9.45l-7.72 7.72c-.78.78-.78 2.05 0 2.83L4 21.41c.39.39.9.59 1.41.59.51 0 1.02-.2 1.41-.59l7.78-7.78 2.81-2.81c.8-.78.8-2.07 0-2.86zM5.41 20L4 18.59l7.72-7.72 1.47 1.35L5.41 20z\"/>\n",
              "  </svg>\n",
              "      </button>\n",
              "      \n",
              "  <style>\n",
              "    .colab-df-container {\n",
              "      display:flex;\n",
              "      flex-wrap:wrap;\n",
              "      gap: 12px;\n",
              "    }\n",
              "\n",
              "    .colab-df-convert {\n",
              "      background-color: #E8F0FE;\n",
              "      border: none;\n",
              "      border-radius: 50%;\n",
              "      cursor: pointer;\n",
              "      display: none;\n",
              "      fill: #1967D2;\n",
              "      height: 32px;\n",
              "      padding: 0 0 0 0;\n",
              "      width: 32px;\n",
              "    }\n",
              "\n",
              "    .colab-df-convert:hover {\n",
              "      background-color: #E2EBFA;\n",
              "      box-shadow: 0px 1px 2px rgba(60, 64, 67, 0.3), 0px 1px 3px 1px rgba(60, 64, 67, 0.15);\n",
              "      fill: #174EA6;\n",
              "    }\n",
              "\n",
              "    [theme=dark] .colab-df-convert {\n",
              "      background-color: #3B4455;\n",
              "      fill: #D2E3FC;\n",
              "    }\n",
              "\n",
              "    [theme=dark] .colab-df-convert:hover {\n",
              "      background-color: #434B5C;\n",
              "      box-shadow: 0px 1px 3px 1px rgba(0, 0, 0, 0.15);\n",
              "      filter: drop-shadow(0px 1px 2px rgba(0, 0, 0, 0.3));\n",
              "      fill: #FFFFFF;\n",
              "    }\n",
              "  </style>\n",
              "\n",
              "      <script>\n",
              "        const buttonEl =\n",
              "          document.querySelector('#df-43ec1183-e6b1-41ba-ac9c-3b5011e02f12 button.colab-df-convert');\n",
              "        buttonEl.style.display =\n",
              "          google.colab.kernel.accessAllowed ? 'block' : 'none';\n",
              "\n",
              "        async function convertToInteractive(key) {\n",
              "          const element = document.querySelector('#df-43ec1183-e6b1-41ba-ac9c-3b5011e02f12');\n",
              "          const dataTable =\n",
              "            await google.colab.kernel.invokeFunction('convertToInteractive',\n",
              "                                                     [key], {});\n",
              "          if (!dataTable) return;\n",
              "\n",
              "          const docLinkHtml = 'Like what you see? Visit the ' +\n",
              "            '<a target=\"_blank\" href=https://colab.research.google.com/notebooks/data_table.ipynb>data table notebook</a>'\n",
              "            + ' to learn more about interactive tables.';\n",
              "          element.innerHTML = '';\n",
              "          dataTable['output_type'] = 'display_data';\n",
              "          await google.colab.output.renderOutput(dataTable, element);\n",
              "          const docLink = document.createElement('div');\n",
              "          docLink.innerHTML = docLinkHtml;\n",
              "          element.appendChild(docLink);\n",
              "        }\n",
              "      </script>\n",
              "    </div>\n",
              "  </div>\n",
              "  "
            ],
            "text/plain": [
              "        mean     sd  hdi_2.1%  hdi_97.9%  ...  mcse_sd  ess_bulk  ess_tail  r_hat\n",
              "v_irr  0.005  0.001     0.003      0.007  ...      0.0   59038.0   43609.0    1.0\n",
              "c_irr  0.017  0.002     0.014      0.021  ...      0.0   60937.0   44084.0    1.0\n",
              "ve     0.699  0.063     0.566      0.817  ...      0.0   58960.0   49075.0    1.0\n",
              "\n",
              "[3 rows x 9 columns]"
            ]
          },
          "metadata": {}
        },
        {
          "output_type": "stream",
          "name": "stdout",
          "text": [
            "VE: 69.89 +- 6.28\n",
            "95% CI: [55.49420444 80.99518992]\n"
          ]
        }
      ]
    },
    {
      "cell_type": "code",
      "source": [
        ""
      ],
      "metadata": {
        "id": "9NT8RlJC_dnR"
      },
      "execution_count": null,
      "outputs": []
    },
    {
      "cell_type": "markdown",
      "source": [
        "# hierarchical beta binomial"
      ],
      "metadata": {
        "id": "wGEfHVSSeqX5"
      }
    },
    {
      "cell_type": "markdown",
      "source": [
        "So here we have basically the following model structure:\n",
        "\n",
        "$x_v$ ~ $Bin(n, \\theta_v)$\n",
        "\n",
        "$x_c$ ~ $Bin(n, \\theta_c)$\n",
        "\n",
        "$\\theta_v$ ~ $Beta(\\alpha, \\beta)$\n",
        "\n",
        "$\\theta_c$ ~ $Beta(\\alpha, \\beta)$\n",
        "\n",
        "$\\mu=\\frac{\\alpha}{\\alpha + \\beta}$, [sample mean]\n",
        "\n",
        "$\\eta=\\alpha + \\beta$, [sample size]\n"
      ],
      "metadata": {
        "id": "bSBQwsZCeukp"
      }
    },
    {
      "cell_type": "code",
      "source": [
        "# overall\n",
        "n_v = 5807\n",
        "n_c = 5829\n",
        "x_v = 30\n",
        "x_c = 101\n",
        "prob = 0.958\n",
        "\n",
        "betabinom = pm.Model()\n",
        "\n",
        "with betabinom:\n",
        "    mu = pm.Uniform(\"mu\", lower=0, upper=0.4)\n",
        "    logeta = pm.Logistic(\"logeta\", mu=np.log(1), s=1)\n",
        "    eta = pm.Deterministic(\"eta\", tt.exp(logeta))\n",
        "    # eta = pm.Exponential(\"eta\", lam=0.05)\n",
        "\n",
        "    alpha = pm.Deterministic(\"alpha\", eta*mu)\n",
        "    beta = pm.Deterministic(\"beta\", eta*(1-mu))\n",
        "\n",
        "    theta_v = pm.Beta(\"theta_v\", alpha=alpha, beta=beta)\n",
        "    theta_c = pm.Beta(\"theta_c\", alpha=alpha, beta=beta)\n",
        "\n",
        "    X_v = pm.Binomial(\"X_v\", n=n_v, p=theta_v, observed=x_v)\n",
        "    X_c = pm.Binomial(\"X_c\", n=n_c, p=theta_c, observed=x_c)\n",
        "\n",
        "    ve = pm.Deterministic(\"ve\", (1-(theta_v/theta_c)))\n",
        "\n",
        "    hier_trace_ovr = pm.sample(draws=25000, tune=6000, cores=4, return_inferencedata=False, step=pm.HamiltonianMC())\n",
        "    display(az.summary(hier_trace_ovr, hdi_prob=prob))\n",
        "    # display(az.plot_trace(hier_trace_ovr))\n",
        "\n",
        "    ve_samp_ovr = hier_trace_ovr['ve'][20000:]\n",
        "    print(f\"VE: {100*ve_samp_ovr.mean():.2f} +- {100*ve_samp_ovr.std():.2f}\")\n",
        "    print(f\"95% CI: {mquantiles(100*ve_samp_ovr, prob=[(1-prob)/2, (1+prob)/2])}\")"
      ],
      "metadata": {
        "colab": {
          "base_uri": "https://localhost:8080/",
          "height": 537
        },
        "id": "xW2h4mHwj7IP",
        "outputId": "ca0a26e0-5b58-47b4-fec7-3007d2646f79"
      },
      "execution_count": null,
      "outputs": [
        {
          "output_type": "stream",
          "name": "stderr",
          "text": [
            "Multiprocess sampling (4 chains in 4 jobs)\n",
            "HamiltonianMC: [theta_c, theta_v, logeta, mu]\n"
          ]
        },
        {
          "output_type": "display_data",
          "data": {
            "text/html": [
              "\n",
              "    <div>\n",
              "        <style>\n",
              "            /* Turns off some styling */\n",
              "            progress {\n",
              "                /* gets rid of default border in Firefox and Opera. */\n",
              "                border: none;\n",
              "                /* Needs to be in here for Safari polyfill so background images work as expected. */\n",
              "                background-size: auto;\n",
              "            }\n",
              "            .progress-bar-interrupted, .progress-bar-interrupted::-webkit-progress-bar {\n",
              "                background: #F44336;\n",
              "            }\n",
              "        </style>\n",
              "      <progress value='124000' class='' max='124000' style='width:300px; height:20px; vertical-align: middle;'></progress>\n",
              "      100.00% [124000/124000 01:46<00:00 Sampling 4 chains, 613 divergences]\n",
              "    </div>\n",
              "    "
            ],
            "text/plain": [
              "<IPython.core.display.HTML object>"
            ]
          },
          "metadata": {}
        },
        {
          "output_type": "stream",
          "name": "stderr",
          "text": [
            "Sampling 4 chains for 6_000 tune and 25_000 draw iterations (24_000 + 100_000 draws total) took 109 seconds.\n",
            "There were 227 divergences after tuning. Increase `target_accept` or reparameterize.\n",
            "The acceptance probability does not match the target. It is 0.5373842753695052, but should be close to 0.65. Try to increase the number of tuning steps.\n",
            "There were 122 divergences after tuning. Increase `target_accept` or reparameterize.\n",
            "There were 39 divergences after tuning. Increase `target_accept` or reparameterize.\n",
            "The acceptance probability does not match the target. It is 0.761821814119312, but should be close to 0.65. Try to increase the number of tuning steps.\n",
            "There were 225 divergences after tuning. Increase `target_accept` or reparameterize.\n",
            "The number of effective samples is smaller than 25% for some parameters.\n"
          ]
        },
        {
          "output_type": "display_data",
          "data": {
            "text/html": [
              "\n",
              "  <div id=\"df-6f12d7f0-8e8a-44cf-b5b7-ca8e0edb6f61\">\n",
              "    <div class=\"colab-df-container\">\n",
              "      <div>\n",
              "<style scoped>\n",
              "    .dataframe tbody tr th:only-of-type {\n",
              "        vertical-align: middle;\n",
              "    }\n",
              "\n",
              "    .dataframe tbody tr th {\n",
              "        vertical-align: top;\n",
              "    }\n",
              "\n",
              "    .dataframe thead th {\n",
              "        text-align: right;\n",
              "    }\n",
              "</style>\n",
              "<table border=\"1\" class=\"dataframe\">\n",
              "  <thead>\n",
              "    <tr style=\"text-align: right;\">\n",
              "      <th></th>\n",
              "      <th>mean</th>\n",
              "      <th>sd</th>\n",
              "      <th>hdi_2.1%</th>\n",
              "      <th>hdi_97.9%</th>\n",
              "      <th>mcse_mean</th>\n",
              "      <th>mcse_sd</th>\n",
              "      <th>ess_bulk</th>\n",
              "      <th>ess_tail</th>\n",
              "      <th>r_hat</th>\n",
              "    </tr>\n",
              "  </thead>\n",
              "  <tbody>\n",
              "    <tr>\n",
              "      <th>logeta</th>\n",
              "      <td>0.856</td>\n",
              "      <td>1.339</td>\n",
              "      <td>-1.577</td>\n",
              "      <td>3.918</td>\n",
              "      <td>0.013</td>\n",
              "      <td>0.012</td>\n",
              "      <td>13832.0</td>\n",
              "      <td>8576.0</td>\n",
              "      <td>1.0</td>\n",
              "    </tr>\n",
              "    <tr>\n",
              "      <th>mu</th>\n",
              "      <td>0.154</td>\n",
              "      <td>0.104</td>\n",
              "      <td>0.005</td>\n",
              "      <td>0.360</td>\n",
              "      <td>0.001</td>\n",
              "      <td>0.000</td>\n",
              "      <td>16078.0</td>\n",
              "      <td>8299.0</td>\n",
              "      <td>1.0</td>\n",
              "    </tr>\n",
              "    <tr>\n",
              "      <th>eta</th>\n",
              "      <td>8.029</td>\n",
              "      <td>28.145</td>\n",
              "      <td>0.029</td>\n",
              "      <td>35.035</td>\n",
              "      <td>0.481</td>\n",
              "      <td>0.340</td>\n",
              "      <td>13832.0</td>\n",
              "      <td>8576.0</td>\n",
              "      <td>1.0</td>\n",
              "    </tr>\n",
              "    <tr>\n",
              "      <th>alpha</th>\n",
              "      <td>0.382</td>\n",
              "      <td>0.408</td>\n",
              "      <td>0.009</td>\n",
              "      <td>1.109</td>\n",
              "      <td>0.005</td>\n",
              "      <td>0.004</td>\n",
              "      <td>19742.0</td>\n",
              "      <td>11801.0</td>\n",
              "      <td>1.0</td>\n",
              "    </tr>\n",
              "    <tr>\n",
              "      <th>beta</th>\n",
              "      <td>7.648</td>\n",
              "      <td>27.833</td>\n",
              "      <td>0.016</td>\n",
              "      <td>34.123</td>\n",
              "      <td>0.477</td>\n",
              "      <td>0.337</td>\n",
              "      <td>13797.0</td>\n",
              "      <td>8528.0</td>\n",
              "      <td>1.0</td>\n",
              "    </tr>\n",
              "    <tr>\n",
              "      <th>theta_v</th>\n",
              "      <td>0.005</td>\n",
              "      <td>0.001</td>\n",
              "      <td>0.003</td>\n",
              "      <td>0.007</td>\n",
              "      <td>0.000</td>\n",
              "      <td>0.000</td>\n",
              "      <td>42372.0</td>\n",
              "      <td>40966.0</td>\n",
              "      <td>1.0</td>\n",
              "    </tr>\n",
              "    <tr>\n",
              "      <th>theta_c</th>\n",
              "      <td>0.017</td>\n",
              "      <td>0.002</td>\n",
              "      <td>0.014</td>\n",
              "      <td>0.021</td>\n",
              "      <td>0.000</td>\n",
              "      <td>0.000</td>\n",
              "      <td>40850.0</td>\n",
              "      <td>39417.0</td>\n",
              "      <td>1.0</td>\n",
              "    </tr>\n",
              "    <tr>\n",
              "      <th>ve</th>\n",
              "      <td>0.697</td>\n",
              "      <td>0.063</td>\n",
              "      <td>0.566</td>\n",
              "      <td>0.819</td>\n",
              "      <td>0.000</td>\n",
              "      <td>0.000</td>\n",
              "      <td>41994.0</td>\n",
              "      <td>39662.0</td>\n",
              "      <td>1.0</td>\n",
              "    </tr>\n",
              "  </tbody>\n",
              "</table>\n",
              "</div>\n",
              "      <button class=\"colab-df-convert\" onclick=\"convertToInteractive('df-6f12d7f0-8e8a-44cf-b5b7-ca8e0edb6f61')\"\n",
              "              title=\"Convert this dataframe to an interactive table.\"\n",
              "              style=\"display:none;\">\n",
              "        \n",
              "  <svg xmlns=\"http://www.w3.org/2000/svg\" height=\"24px\"viewBox=\"0 0 24 24\"\n",
              "       width=\"24px\">\n",
              "    <path d=\"M0 0h24v24H0V0z\" fill=\"none\"/>\n",
              "    <path d=\"M18.56 5.44l.94 2.06.94-2.06 2.06-.94-2.06-.94-.94-2.06-.94 2.06-2.06.94zm-11 1L8.5 8.5l.94-2.06 2.06-.94-2.06-.94L8.5 2.5l-.94 2.06-2.06.94zm10 10l.94 2.06.94-2.06 2.06-.94-2.06-.94-.94-2.06-.94 2.06-2.06.94z\"/><path d=\"M17.41 7.96l-1.37-1.37c-.4-.4-.92-.59-1.43-.59-.52 0-1.04.2-1.43.59L10.3 9.45l-7.72 7.72c-.78.78-.78 2.05 0 2.83L4 21.41c.39.39.9.59 1.41.59.51 0 1.02-.2 1.41-.59l7.78-7.78 2.81-2.81c.8-.78.8-2.07 0-2.86zM5.41 20L4 18.59l7.72-7.72 1.47 1.35L5.41 20z\"/>\n",
              "  </svg>\n",
              "      </button>\n",
              "      \n",
              "  <style>\n",
              "    .colab-df-container {\n",
              "      display:flex;\n",
              "      flex-wrap:wrap;\n",
              "      gap: 12px;\n",
              "    }\n",
              "\n",
              "    .colab-df-convert {\n",
              "      background-color: #E8F0FE;\n",
              "      border: none;\n",
              "      border-radius: 50%;\n",
              "      cursor: pointer;\n",
              "      display: none;\n",
              "      fill: #1967D2;\n",
              "      height: 32px;\n",
              "      padding: 0 0 0 0;\n",
              "      width: 32px;\n",
              "    }\n",
              "\n",
              "    .colab-df-convert:hover {\n",
              "      background-color: #E2EBFA;\n",
              "      box-shadow: 0px 1px 2px rgba(60, 64, 67, 0.3), 0px 1px 3px 1px rgba(60, 64, 67, 0.15);\n",
              "      fill: #174EA6;\n",
              "    }\n",
              "\n",
              "    [theme=dark] .colab-df-convert {\n",
              "      background-color: #3B4455;\n",
              "      fill: #D2E3FC;\n",
              "    }\n",
              "\n",
              "    [theme=dark] .colab-df-convert:hover {\n",
              "      background-color: #434B5C;\n",
              "      box-shadow: 0px 1px 3px 1px rgba(0, 0, 0, 0.15);\n",
              "      filter: drop-shadow(0px 1px 2px rgba(0, 0, 0, 0.3));\n",
              "      fill: #FFFFFF;\n",
              "    }\n",
              "  </style>\n",
              "\n",
              "      <script>\n",
              "        const buttonEl =\n",
              "          document.querySelector('#df-6f12d7f0-8e8a-44cf-b5b7-ca8e0edb6f61 button.colab-df-convert');\n",
              "        buttonEl.style.display =\n",
              "          google.colab.kernel.accessAllowed ? 'block' : 'none';\n",
              "\n",
              "        async function convertToInteractive(key) {\n",
              "          const element = document.querySelector('#df-6f12d7f0-8e8a-44cf-b5b7-ca8e0edb6f61');\n",
              "          const dataTable =\n",
              "            await google.colab.kernel.invokeFunction('convertToInteractive',\n",
              "                                                     [key], {});\n",
              "          if (!dataTable) return;\n",
              "\n",
              "          const docLinkHtml = 'Like what you see? Visit the ' +\n",
              "            '<a target=\"_blank\" href=https://colab.research.google.com/notebooks/data_table.ipynb>data table notebook</a>'\n",
              "            + ' to learn more about interactive tables.';\n",
              "          element.innerHTML = '';\n",
              "          dataTable['output_type'] = 'display_data';\n",
              "          await google.colab.output.renderOutput(dataTable, element);\n",
              "          const docLink = document.createElement('div');\n",
              "          docLink.innerHTML = docLinkHtml;\n",
              "          element.appendChild(docLink);\n",
              "        }\n",
              "      </script>\n",
              "    </div>\n",
              "  </div>\n",
              "  "
            ],
            "text/plain": [
              "          mean      sd  hdi_2.1%  hdi_97.9%  ...  mcse_sd  ess_bulk  ess_tail  r_hat\n",
              "logeta   0.856   1.339    -1.577      3.918  ...    0.012   13832.0    8576.0    1.0\n",
              "mu       0.154   0.104     0.005      0.360  ...    0.000   16078.0    8299.0    1.0\n",
              "eta      8.029  28.145     0.029     35.035  ...    0.340   13832.0    8576.0    1.0\n",
              "alpha    0.382   0.408     0.009      1.109  ...    0.004   19742.0   11801.0    1.0\n",
              "beta     7.648  27.833     0.016     34.123  ...    0.337   13797.0    8528.0    1.0\n",
              "theta_v  0.005   0.001     0.003      0.007  ...    0.000   42372.0   40966.0    1.0\n",
              "theta_c  0.017   0.002     0.014      0.021  ...    0.000   40850.0   39417.0    1.0\n",
              "ve       0.697   0.063     0.566      0.819  ...    0.000   41994.0   39662.0    1.0\n",
              "\n",
              "[8 rows x 9 columns]"
            ]
          },
          "metadata": {}
        },
        {
          "output_type": "stream",
          "name": "stdout",
          "text": [
            "VE: 69.67 +- 6.31\n",
            "95% CI: [55.26137264 80.82987041]\n"
          ]
        }
      ]
    },
    {
      "cell_type": "code",
      "source": [
        "# ldsd\n",
        "n_v = 1367\n",
        "n_c = 1374\n",
        "x_v = 3\n",
        "x_c = 30\n",
        "prob = 0.95\n",
        "\n",
        "betabinom = pm.Model()\n",
        "\n",
        "with betabinom:\n",
        "    mu = pm.Uniform(\"mu\", lower=0, upper=0.4)\n",
        "    logeta = pm.Logistic(\"logeta\", mu=np.log(1), s=1)\n",
        "    eta = pm.Deterministic(\"eta\", tt.exp(logeta))\n",
        "    # eta = pm.Exponential(\"eta\", lam=0.05)\n",
        "\n",
        "    alpha = pm.Deterministic(\"alpha\", eta*mu)\n",
        "    beta = pm.Deterministic(\"beta\", eta*(1-mu))\n",
        "\n",
        "    theta_v = pm.Beta(\"theta_v\", alpha=alpha, beta=beta)\n",
        "    theta_c = pm.Beta(\"theta_c\", alpha=alpha, beta=beta)\n",
        "\n",
        "    X_v = pm.Binomial(\"X_v\", n=n_v, p=theta_v, observed=x_v)\n",
        "    X_c = pm.Binomial(\"X_c\", n=n_c, p=theta_c, observed=x_c)\n",
        "\n",
        "    ve = pm.Deterministic(\"ve\", (1-(theta_v/theta_c)))\n",
        "\n",
        "    hier_trace_ldsd = pm.sample(draws=25000, tune=6000, cores=4, return_inferencedata=False, step=pm.HamiltonianMC())\n",
        "    display(az.summary(hier_trace_ldsd, hdi_prob=prob))\n",
        "    # display(az.plot_trace(hier_trace_ldsd))\n",
        "\n",
        "    ve_samp_ldsd = hier_trace_ldsd['ve'][20000:]\n",
        "    print(f\"VE: {100*ve_samp_ldsd.mean():.2f} +- {100*ve_samp_ldsd.std():.2f}\")\n",
        "    print(f\"95% CI: {mquantiles(100*ve_samp_ldsd, prob=[(1-prob)/2, (1+prob)/2])}\")"
      ],
      "metadata": {
        "id": "VpeL5wBKLySr",
        "colab": {
          "base_uri": "https://localhost:8080/",
          "height": 519
        },
        "outputId": "80524ce8-9d66-4be1-95c7-7c1b529b2028"
      },
      "execution_count": null,
      "outputs": [
        {
          "output_type": "stream",
          "name": "stderr",
          "text": [
            "Multiprocess sampling (4 chains in 4 jobs)\n",
            "HamiltonianMC: [theta_c, theta_v, logeta, mu]\n"
          ]
        },
        {
          "output_type": "display_data",
          "data": {
            "text/html": [
              "\n",
              "    <div>\n",
              "        <style>\n",
              "            /* Turns off some styling */\n",
              "            progress {\n",
              "                /* gets rid of default border in Firefox and Opera. */\n",
              "                border: none;\n",
              "                /* Needs to be in here for Safari polyfill so background images work as expected. */\n",
              "                background-size: auto;\n",
              "            }\n",
              "            .progress-bar-interrupted, .progress-bar-interrupted::-webkit-progress-bar {\n",
              "                background: #F44336;\n",
              "            }\n",
              "        </style>\n",
              "      <progress value='124000' class='' max='124000' style='width:300px; height:20px; vertical-align: middle;'></progress>\n",
              "      100.00% [124000/124000 01:42<00:00 Sampling 4 chains, 357 divergences]\n",
              "    </div>\n",
              "    "
            ],
            "text/plain": [
              "<IPython.core.display.HTML object>"
            ]
          },
          "metadata": {}
        },
        {
          "output_type": "stream",
          "name": "stderr",
          "text": [
            "Sampling 4 chains for 6_000 tune and 25_000 draw iterations (24_000 + 100_000 draws total) took 103 seconds.\n",
            "There were 189 divergences after tuning. Increase `target_accept` or reparameterize.\n",
            "The acceptance probability does not match the target. It is 0.4841510440846008, but should be close to 0.65. Try to increase the number of tuning steps.\n",
            "There were 72 divergences after tuning. Increase `target_accept` or reparameterize.\n",
            "There were 33 divergences after tuning. Increase `target_accept` or reparameterize.\n",
            "There were 63 divergences after tuning. Increase `target_accept` or reparameterize.\n",
            "The number of effective samples is smaller than 25% for some parameters.\n"
          ]
        },
        {
          "output_type": "display_data",
          "data": {
            "text/html": [
              "\n",
              "  <div id=\"df-21c82d1b-6cf9-42c9-aab4-ceb418f41b7d\">\n",
              "    <div class=\"colab-df-container\">\n",
              "      <div>\n",
              "<style scoped>\n",
              "    .dataframe tbody tr th:only-of-type {\n",
              "        vertical-align: middle;\n",
              "    }\n",
              "\n",
              "    .dataframe tbody tr th {\n",
              "        vertical-align: top;\n",
              "    }\n",
              "\n",
              "    .dataframe thead th {\n",
              "        text-align: right;\n",
              "    }\n",
              "</style>\n",
              "<table border=\"1\" class=\"dataframe\">\n",
              "  <thead>\n",
              "    <tr style=\"text-align: right;\">\n",
              "      <th></th>\n",
              "      <th>mean</th>\n",
              "      <th>sd</th>\n",
              "      <th>hdi_2.5%</th>\n",
              "      <th>hdi_97.5%</th>\n",
              "      <th>mcse_mean</th>\n",
              "      <th>mcse_sd</th>\n",
              "      <th>ess_bulk</th>\n",
              "      <th>ess_tail</th>\n",
              "      <th>r_hat</th>\n",
              "    </tr>\n",
              "  </thead>\n",
              "  <tbody>\n",
              "    <tr>\n",
              "      <th>logeta</th>\n",
              "      <td>0.641</td>\n",
              "      <td>1.202</td>\n",
              "      <td>-1.582</td>\n",
              "      <td>3.160</td>\n",
              "      <td>0.009</td>\n",
              "      <td>0.007</td>\n",
              "      <td>19096.0</td>\n",
              "      <td>15973.0</td>\n",
              "      <td>1.0</td>\n",
              "    </tr>\n",
              "    <tr>\n",
              "      <th>mu</th>\n",
              "      <td>0.159</td>\n",
              "      <td>0.104</td>\n",
              "      <td>0.007</td>\n",
              "      <td>0.358</td>\n",
              "      <td>0.001</td>\n",
              "      <td>0.000</td>\n",
              "      <td>21040.0</td>\n",
              "      <td>17375.0</td>\n",
              "      <td>1.0</td>\n",
              "    </tr>\n",
              "    <tr>\n",
              "      <th>eta</th>\n",
              "      <td>4.706</td>\n",
              "      <td>13.046</td>\n",
              "      <td>0.032</td>\n",
              "      <td>17.126</td>\n",
              "      <td>0.113</td>\n",
              "      <td>0.080</td>\n",
              "      <td>19096.0</td>\n",
              "      <td>15973.0</td>\n",
              "      <td>1.0</td>\n",
              "    </tr>\n",
              "    <tr>\n",
              "      <th>alpha</th>\n",
              "      <td>0.310</td>\n",
              "      <td>0.274</td>\n",
              "      <td>0.008</td>\n",
              "      <td>0.794</td>\n",
              "      <td>0.002</td>\n",
              "      <td>0.002</td>\n",
              "      <td>30121.0</td>\n",
              "      <td>23575.0</td>\n",
              "      <td>1.0</td>\n",
              "    </tr>\n",
              "    <tr>\n",
              "      <th>beta</th>\n",
              "      <td>4.397</td>\n",
              "      <td>12.872</td>\n",
              "      <td>0.023</td>\n",
              "      <td>16.561</td>\n",
              "      <td>0.112</td>\n",
              "      <td>0.079</td>\n",
              "      <td>18817.0</td>\n",
              "      <td>15878.0</td>\n",
              "      <td>1.0</td>\n",
              "    </tr>\n",
              "    <tr>\n",
              "      <th>theta_v</th>\n",
              "      <td>0.002</td>\n",
              "      <td>0.001</td>\n",
              "      <td>0.000</td>\n",
              "      <td>0.005</td>\n",
              "      <td>0.000</td>\n",
              "      <td>0.000</td>\n",
              "      <td>36786.0</td>\n",
              "      <td>29514.0</td>\n",
              "      <td>1.0</td>\n",
              "    </tr>\n",
              "    <tr>\n",
              "      <th>theta_c</th>\n",
              "      <td>0.022</td>\n",
              "      <td>0.004</td>\n",
              "      <td>0.014</td>\n",
              "      <td>0.030</td>\n",
              "      <td>0.000</td>\n",
              "      <td>0.000</td>\n",
              "      <td>45320.0</td>\n",
              "      <td>40919.0</td>\n",
              "      <td>1.0</td>\n",
              "    </tr>\n",
              "    <tr>\n",
              "      <th>ve</th>\n",
              "      <td>0.886</td>\n",
              "      <td>0.067</td>\n",
              "      <td>0.754</td>\n",
              "      <td>0.988</td>\n",
              "      <td>0.000</td>\n",
              "      <td>0.000</td>\n",
              "      <td>36578.0</td>\n",
              "      <td>31584.0</td>\n",
              "      <td>1.0</td>\n",
              "    </tr>\n",
              "  </tbody>\n",
              "</table>\n",
              "</div>\n",
              "      <button class=\"colab-df-convert\" onclick=\"convertToInteractive('df-21c82d1b-6cf9-42c9-aab4-ceb418f41b7d')\"\n",
              "              title=\"Convert this dataframe to an interactive table.\"\n",
              "              style=\"display:none;\">\n",
              "        \n",
              "  <svg xmlns=\"http://www.w3.org/2000/svg\" height=\"24px\"viewBox=\"0 0 24 24\"\n",
              "       width=\"24px\">\n",
              "    <path d=\"M0 0h24v24H0V0z\" fill=\"none\"/>\n",
              "    <path d=\"M18.56 5.44l.94 2.06.94-2.06 2.06-.94-2.06-.94-.94-2.06-.94 2.06-2.06.94zm-11 1L8.5 8.5l.94-2.06 2.06-.94-2.06-.94L8.5 2.5l-.94 2.06-2.06.94zm10 10l.94 2.06.94-2.06 2.06-.94-2.06-.94-.94-2.06-.94 2.06-2.06.94z\"/><path d=\"M17.41 7.96l-1.37-1.37c-.4-.4-.92-.59-1.43-.59-.52 0-1.04.2-1.43.59L10.3 9.45l-7.72 7.72c-.78.78-.78 2.05 0 2.83L4 21.41c.39.39.9.59 1.41.59.51 0 1.02-.2 1.41-.59l7.78-7.78 2.81-2.81c.8-.78.8-2.07 0-2.86zM5.41 20L4 18.59l7.72-7.72 1.47 1.35L5.41 20z\"/>\n",
              "  </svg>\n",
              "      </button>\n",
              "      \n",
              "  <style>\n",
              "    .colab-df-container {\n",
              "      display:flex;\n",
              "      flex-wrap:wrap;\n",
              "      gap: 12px;\n",
              "    }\n",
              "\n",
              "    .colab-df-convert {\n",
              "      background-color: #E8F0FE;\n",
              "      border: none;\n",
              "      border-radius: 50%;\n",
              "      cursor: pointer;\n",
              "      display: none;\n",
              "      fill: #1967D2;\n",
              "      height: 32px;\n",
              "      padding: 0 0 0 0;\n",
              "      width: 32px;\n",
              "    }\n",
              "\n",
              "    .colab-df-convert:hover {\n",
              "      background-color: #E2EBFA;\n",
              "      box-shadow: 0px 1px 2px rgba(60, 64, 67, 0.3), 0px 1px 3px 1px rgba(60, 64, 67, 0.15);\n",
              "      fill: #174EA6;\n",
              "    }\n",
              "\n",
              "    [theme=dark] .colab-df-convert {\n",
              "      background-color: #3B4455;\n",
              "      fill: #D2E3FC;\n",
              "    }\n",
              "\n",
              "    [theme=dark] .colab-df-convert:hover {\n",
              "      background-color: #434B5C;\n",
              "      box-shadow: 0px 1px 3px 1px rgba(0, 0, 0, 0.15);\n",
              "      filter: drop-shadow(0px 1px 2px rgba(0, 0, 0, 0.3));\n",
              "      fill: #FFFFFF;\n",
              "    }\n",
              "  </style>\n",
              "\n",
              "      <script>\n",
              "        const buttonEl =\n",
              "          document.querySelector('#df-21c82d1b-6cf9-42c9-aab4-ceb418f41b7d button.colab-df-convert');\n",
              "        buttonEl.style.display =\n",
              "          google.colab.kernel.accessAllowed ? 'block' : 'none';\n",
              "\n",
              "        async function convertToInteractive(key) {\n",
              "          const element = document.querySelector('#df-21c82d1b-6cf9-42c9-aab4-ceb418f41b7d');\n",
              "          const dataTable =\n",
              "            await google.colab.kernel.invokeFunction('convertToInteractive',\n",
              "                                                     [key], {});\n",
              "          if (!dataTable) return;\n",
              "\n",
              "          const docLinkHtml = 'Like what you see? Visit the ' +\n",
              "            '<a target=\"_blank\" href=https://colab.research.google.com/notebooks/data_table.ipynb>data table notebook</a>'\n",
              "            + ' to learn more about interactive tables.';\n",
              "          element.innerHTML = '';\n",
              "          dataTable['output_type'] = 'display_data';\n",
              "          await google.colab.output.renderOutput(dataTable, element);\n",
              "          const docLink = document.createElement('div');\n",
              "          docLink.innerHTML = docLinkHtml;\n",
              "          element.appendChild(docLink);\n",
              "        }\n",
              "      </script>\n",
              "    </div>\n",
              "  </div>\n",
              "  "
            ],
            "text/plain": [
              "          mean      sd  hdi_2.5%  hdi_97.5%  ...  mcse_sd  ess_bulk  ess_tail  r_hat\n",
              "logeta   0.641   1.202    -1.582      3.160  ...    0.007   19096.0   15973.0    1.0\n",
              "mu       0.159   0.104     0.007      0.358  ...    0.000   21040.0   17375.0    1.0\n",
              "eta      4.706  13.046     0.032     17.126  ...    0.080   19096.0   15973.0    1.0\n",
              "alpha    0.310   0.274     0.008      0.794  ...    0.002   30121.0   23575.0    1.0\n",
              "beta     4.397  12.872     0.023     16.561  ...    0.079   18817.0   15878.0    1.0\n",
              "theta_v  0.002   0.001     0.000      0.005  ...    0.000   36786.0   29514.0    1.0\n",
              "theta_c  0.022   0.004     0.014      0.030  ...    0.000   45320.0   40919.0    1.0\n",
              "ve       0.886   0.067     0.754      0.988  ...    0.000   36578.0   31584.0    1.0\n",
              "\n",
              "[8 rows x 9 columns]"
            ]
          },
          "metadata": {}
        },
        {
          "output_type": "stream",
          "name": "stdout",
          "text": [
            "VE: 88.62 +- 6.72\n",
            "95% CI: [72.06157646 97.56352198]\n"
          ]
        }
      ]
    },
    {
      "cell_type": "code",
      "source": [
        "# sdsd\n",
        "n_v = 4440\n",
        "n_c = 4455\n",
        "x_v = 27\n",
        "x_c = 71\n",
        "prob = 0.95\n",
        "\n",
        "betabinom = pm.Model()\n",
        "\n",
        "with betabinom:\n",
        "    mu = pm.Uniform(\"mu\", lower=0, upper=0.4)\n",
        "    logeta = pm.Logistic(\"logeta\", mu=np.log(1), s=1)\n",
        "    eta = pm.Deterministic(\"eta\", tt.exp(logeta))\n",
        "    # eta = pm.Exponential(\"eta\", lam=0.05)\n",
        "\n",
        "    alpha = pm.Deterministic(\"alpha\", eta*mu)\n",
        "    beta = pm.Deterministic(\"beta\", eta*(1-mu))\n",
        "\n",
        "    theta_v = pm.Beta(\"theta_v\", alpha=alpha, beta=beta)\n",
        "    theta_c = pm.Beta(\"theta_c\", alpha=alpha, beta=beta)\n",
        "\n",
        "    X_v = pm.Binomial(\"X_v\", n=n_v, p=theta_v, observed=x_v)\n",
        "    X_c = pm.Binomial(\"X_c\", n=n_c, p=theta_c, observed=x_c)\n",
        "\n",
        "    ve = pm.Deterministic(\"ve\", (1-(theta_v/theta_c)))\n",
        "\n",
        "    hier_trace_sdsd = pm.sample(draws=25000, tune=6000, cores=4, return_inferencedata=False, step=pm.HamiltonianMC())\n",
        "    display(az.summary(hier_trace_sdsd, hdi_prob=prob))\n",
        "    # display(az.plot_trace(hier_trace_sdsd))\n",
        "\n",
        "    ve_samp_sdsd = hier_trace_sdsd['ve'][20000:]\n",
        "    print(f\"VE: {100*ve_samp_sdsd.mean():.2f} +- {100*ve_samp_sdsd.std():.2f}\")\n",
        "    print(f\"95% CI: {mquantiles(100*ve_samp_sdsd, prob=[(1-prob)/2, (1+prob)/2])}\")"
      ],
      "metadata": {
        "id": "2WZDyiO-jVdg",
        "colab": {
          "base_uri": "https://localhost:8080/",
          "height": 537
        },
        "outputId": "d34564f3-28e2-43a1-e34e-3f0ba833fc82"
      },
      "execution_count": null,
      "outputs": [
        {
          "output_type": "stream",
          "name": "stderr",
          "text": [
            "Multiprocess sampling (4 chains in 4 jobs)\n",
            "HamiltonianMC: [theta_c, theta_v, logeta, mu]\n"
          ]
        },
        {
          "output_type": "display_data",
          "data": {
            "text/html": [
              "\n",
              "    <div>\n",
              "        <style>\n",
              "            /* Turns off some styling */\n",
              "            progress {\n",
              "                /* gets rid of default border in Firefox and Opera. */\n",
              "                border: none;\n",
              "                /* Needs to be in here for Safari polyfill so background images work as expected. */\n",
              "                background-size: auto;\n",
              "            }\n",
              "            .progress-bar-interrupted, .progress-bar-interrupted::-webkit-progress-bar {\n",
              "                background: #F44336;\n",
              "            }\n",
              "        </style>\n",
              "      <progress value='124000' class='' max='124000' style='width:300px; height:20px; vertical-align: middle;'></progress>\n",
              "      100.00% [124000/124000 01:48<00:00 Sampling 4 chains, 638 divergences]\n",
              "    </div>\n",
              "    "
            ],
            "text/plain": [
              "<IPython.core.display.HTML object>"
            ]
          },
          "metadata": {}
        },
        {
          "output_type": "stream",
          "name": "stderr",
          "text": [
            "Sampling 4 chains for 6_000 tune and 25_000 draw iterations (24_000 + 100_000 draws total) took 109 seconds.\n",
            "There were 85 divergences after tuning. Increase `target_accept` or reparameterize.\n",
            "There were 418 divergences after tuning. Increase `target_accept` or reparameterize.\n",
            "The acceptance probability does not match the target. It is 0.45664911988959356, but should be close to 0.65. Try to increase the number of tuning steps.\n",
            "There were 85 divergences after tuning. Increase `target_accept` or reparameterize.\n",
            "There were 50 divergences after tuning. Increase `target_accept` or reparameterize.\n",
            "The acceptance probability does not match the target. It is 0.7654992713858273, but should be close to 0.65. Try to increase the number of tuning steps.\n",
            "The number of effective samples is smaller than 10% for some parameters.\n"
          ]
        },
        {
          "output_type": "display_data",
          "data": {
            "text/html": [
              "\n",
              "  <div id=\"df-29e993bb-6959-41f3-8f2e-9a4c88617480\">\n",
              "    <div class=\"colab-df-container\">\n",
              "      <div>\n",
              "<style scoped>\n",
              "    .dataframe tbody tr th:only-of-type {\n",
              "        vertical-align: middle;\n",
              "    }\n",
              "\n",
              "    .dataframe tbody tr th {\n",
              "        vertical-align: top;\n",
              "    }\n",
              "\n",
              "    .dataframe thead th {\n",
              "        text-align: right;\n",
              "    }\n",
              "</style>\n",
              "<table border=\"1\" class=\"dataframe\">\n",
              "  <thead>\n",
              "    <tr style=\"text-align: right;\">\n",
              "      <th></th>\n",
              "      <th>mean</th>\n",
              "      <th>sd</th>\n",
              "      <th>hdi_2.5%</th>\n",
              "      <th>hdi_97.5%</th>\n",
              "      <th>mcse_mean</th>\n",
              "      <th>mcse_sd</th>\n",
              "      <th>ess_bulk</th>\n",
              "      <th>ess_tail</th>\n",
              "      <th>r_hat</th>\n",
              "    </tr>\n",
              "  </thead>\n",
              "  <tbody>\n",
              "    <tr>\n",
              "      <th>logeta</th>\n",
              "      <td>0.914</td>\n",
              "      <td>1.405</td>\n",
              "      <td>-1.516</td>\n",
              "      <td>3.999</td>\n",
              "      <td>0.017</td>\n",
              "      <td>0.018</td>\n",
              "      <td>9585.0</td>\n",
              "      <td>4639.0</td>\n",
              "      <td>1.0</td>\n",
              "    </tr>\n",
              "    <tr>\n",
              "      <th>mu</th>\n",
              "      <td>0.153</td>\n",
              "      <td>0.105</td>\n",
              "      <td>0.006</td>\n",
              "      <td>0.356</td>\n",
              "      <td>0.001</td>\n",
              "      <td>0.001</td>\n",
              "      <td>13597.0</td>\n",
              "      <td>8642.0</td>\n",
              "      <td>1.0</td>\n",
              "    </tr>\n",
              "    <tr>\n",
              "      <th>eta</th>\n",
              "      <td>10.259</td>\n",
              "      <td>38.844</td>\n",
              "      <td>0.018</td>\n",
              "      <td>37.215</td>\n",
              "      <td>0.906</td>\n",
              "      <td>0.640</td>\n",
              "      <td>9585.0</td>\n",
              "      <td>4639.0</td>\n",
              "      <td>1.0</td>\n",
              "    </tr>\n",
              "    <tr>\n",
              "      <th>alpha</th>\n",
              "      <td>0.422</td>\n",
              "      <td>0.610</td>\n",
              "      <td>0.004</td>\n",
              "      <td>1.114</td>\n",
              "      <td>0.017</td>\n",
              "      <td>0.015</td>\n",
              "      <td>10398.0</td>\n",
              "      <td>5774.0</td>\n",
              "      <td>1.0</td>\n",
              "    </tr>\n",
              "    <tr>\n",
              "      <th>beta</th>\n",
              "      <td>9.837</td>\n",
              "      <td>38.317</td>\n",
              "      <td>0.012</td>\n",
              "      <td>36.446</td>\n",
              "      <td>0.889</td>\n",
              "      <td>0.629</td>\n",
              "      <td>9501.0</td>\n",
              "      <td>4643.0</td>\n",
              "      <td>1.0</td>\n",
              "    </tr>\n",
              "    <tr>\n",
              "      <th>theta_v</th>\n",
              "      <td>0.006</td>\n",
              "      <td>0.001</td>\n",
              "      <td>0.004</td>\n",
              "      <td>0.008</td>\n",
              "      <td>0.000</td>\n",
              "      <td>0.000</td>\n",
              "      <td>46387.0</td>\n",
              "      <td>40007.0</td>\n",
              "      <td>1.0</td>\n",
              "    </tr>\n",
              "    <tr>\n",
              "      <th>theta_c</th>\n",
              "      <td>0.016</td>\n",
              "      <td>0.002</td>\n",
              "      <td>0.012</td>\n",
              "      <td>0.020</td>\n",
              "      <td>0.000</td>\n",
              "      <td>0.000</td>\n",
              "      <td>44864.0</td>\n",
              "      <td>33153.0</td>\n",
              "      <td>1.0</td>\n",
              "    </tr>\n",
              "    <tr>\n",
              "      <th>ve</th>\n",
              "      <td>0.610</td>\n",
              "      <td>0.088</td>\n",
              "      <td>0.432</td>\n",
              "      <td>0.770</td>\n",
              "      <td>0.000</td>\n",
              "      <td>0.000</td>\n",
              "      <td>45400.0</td>\n",
              "      <td>36095.0</td>\n",
              "      <td>1.0</td>\n",
              "    </tr>\n",
              "  </tbody>\n",
              "</table>\n",
              "</div>\n",
              "      <button class=\"colab-df-convert\" onclick=\"convertToInteractive('df-29e993bb-6959-41f3-8f2e-9a4c88617480')\"\n",
              "              title=\"Convert this dataframe to an interactive table.\"\n",
              "              style=\"display:none;\">\n",
              "        \n",
              "  <svg xmlns=\"http://www.w3.org/2000/svg\" height=\"24px\"viewBox=\"0 0 24 24\"\n",
              "       width=\"24px\">\n",
              "    <path d=\"M0 0h24v24H0V0z\" fill=\"none\"/>\n",
              "    <path d=\"M18.56 5.44l.94 2.06.94-2.06 2.06-.94-2.06-.94-.94-2.06-.94 2.06-2.06.94zm-11 1L8.5 8.5l.94-2.06 2.06-.94-2.06-.94L8.5 2.5l-.94 2.06-2.06.94zm10 10l.94 2.06.94-2.06 2.06-.94-2.06-.94-.94-2.06-.94 2.06-2.06.94z\"/><path d=\"M17.41 7.96l-1.37-1.37c-.4-.4-.92-.59-1.43-.59-.52 0-1.04.2-1.43.59L10.3 9.45l-7.72 7.72c-.78.78-.78 2.05 0 2.83L4 21.41c.39.39.9.59 1.41.59.51 0 1.02-.2 1.41-.59l7.78-7.78 2.81-2.81c.8-.78.8-2.07 0-2.86zM5.41 20L4 18.59l7.72-7.72 1.47 1.35L5.41 20z\"/>\n",
              "  </svg>\n",
              "      </button>\n",
              "      \n",
              "  <style>\n",
              "    .colab-df-container {\n",
              "      display:flex;\n",
              "      flex-wrap:wrap;\n",
              "      gap: 12px;\n",
              "    }\n",
              "\n",
              "    .colab-df-convert {\n",
              "      background-color: #E8F0FE;\n",
              "      border: none;\n",
              "      border-radius: 50%;\n",
              "      cursor: pointer;\n",
              "      display: none;\n",
              "      fill: #1967D2;\n",
              "      height: 32px;\n",
              "      padding: 0 0 0 0;\n",
              "      width: 32px;\n",
              "    }\n",
              "\n",
              "    .colab-df-convert:hover {\n",
              "      background-color: #E2EBFA;\n",
              "      box-shadow: 0px 1px 2px rgba(60, 64, 67, 0.3), 0px 1px 3px 1px rgba(60, 64, 67, 0.15);\n",
              "      fill: #174EA6;\n",
              "    }\n",
              "\n",
              "    [theme=dark] .colab-df-convert {\n",
              "      background-color: #3B4455;\n",
              "      fill: #D2E3FC;\n",
              "    }\n",
              "\n",
              "    [theme=dark] .colab-df-convert:hover {\n",
              "      background-color: #434B5C;\n",
              "      box-shadow: 0px 1px 3px 1px rgba(0, 0, 0, 0.15);\n",
              "      filter: drop-shadow(0px 1px 2px rgba(0, 0, 0, 0.3));\n",
              "      fill: #FFFFFF;\n",
              "    }\n",
              "  </style>\n",
              "\n",
              "      <script>\n",
              "        const buttonEl =\n",
              "          document.querySelector('#df-29e993bb-6959-41f3-8f2e-9a4c88617480 button.colab-df-convert');\n",
              "        buttonEl.style.display =\n",
              "          google.colab.kernel.accessAllowed ? 'block' : 'none';\n",
              "\n",
              "        async function convertToInteractive(key) {\n",
              "          const element = document.querySelector('#df-29e993bb-6959-41f3-8f2e-9a4c88617480');\n",
              "          const dataTable =\n",
              "            await google.colab.kernel.invokeFunction('convertToInteractive',\n",
              "                                                     [key], {});\n",
              "          if (!dataTable) return;\n",
              "\n",
              "          const docLinkHtml = 'Like what you see? Visit the ' +\n",
              "            '<a target=\"_blank\" href=https://colab.research.google.com/notebooks/data_table.ipynb>data table notebook</a>'\n",
              "            + ' to learn more about interactive tables.';\n",
              "          element.innerHTML = '';\n",
              "          dataTable['output_type'] = 'display_data';\n",
              "          await google.colab.output.renderOutput(dataTable, element);\n",
              "          const docLink = document.createElement('div');\n",
              "          docLink.innerHTML = docLinkHtml;\n",
              "          element.appendChild(docLink);\n",
              "        }\n",
              "      </script>\n",
              "    </div>\n",
              "  </div>\n",
              "  "
            ],
            "text/plain": [
              "           mean      sd  hdi_2.5%  ...  ess_bulk  ess_tail  r_hat\n",
              "logeta    0.914   1.405    -1.516  ...    9585.0    4639.0    1.0\n",
              "mu        0.153   0.105     0.006  ...   13597.0    8642.0    1.0\n",
              "eta      10.259  38.844     0.018  ...    9585.0    4639.0    1.0\n",
              "alpha     0.422   0.610     0.004  ...   10398.0    5774.0    1.0\n",
              "beta      9.837  38.317     0.012  ...    9501.0    4643.0    1.0\n",
              "theta_v   0.006   0.001     0.004  ...   46387.0   40007.0    1.0\n",
              "theta_c   0.016   0.002     0.012  ...   44864.0   33153.0    1.0\n",
              "ve        0.610   0.088     0.432  ...   45400.0   36095.0    1.0\n",
              "\n",
              "[8 rows x 9 columns]"
            ]
          },
          "metadata": {}
        },
        {
          "output_type": "stream",
          "name": "stdout",
          "text": [
            "VE: 60.96 +- 8.85\n",
            "95% CI: [41.21440801 75.80269735]\n"
          ]
        }
      ]
    },
    {
      "cell_type": "code",
      "source": [
        ""
      ],
      "metadata": {
        "id": "dOhw2t5AyeKv"
      },
      "execution_count": null,
      "outputs": []
    }
  ]
}